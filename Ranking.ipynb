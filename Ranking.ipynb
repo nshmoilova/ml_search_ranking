{
 "cells": [
  {
   "cell_type": "markdown",
   "metadata": {
    "toc-hr-collapsed": true
   },
   "source": [
    "## Expectations\n",
    "Build a search ranking model for bookable listings.\n",
    "\n",
    "## Metrics\n",
    "\n",
    "### Offline: Normalized Discounted Cumulative Gain (NDCG)\n",
    "NDCG is often used as a quality of search ranking results. It allows to calculate whether releavant search listings \n",
    "are appearing earlier  in the results. To compute NDCG for the overall search results with N queries, we take the mean of the respective NDCGs of all the N queries.\n",
    "\n",
    "### Online: Revenue\n",
    "In an online setting, the success could be measured by an increase in booking revenue.\n"
   ]
  },
  {
   "cell_type": "code",
   "execution_count": 4033,
   "metadata": {},
   "outputs": [],
   "source": [
    "import numpy as np\n",
    "import pandas as pd\n",
    "\n",
    "%matplotlib inline\n",
    "import matplotlib.pyplot as plt \n",
    "import seaborn as sns\n",
    "\n",
    "import datetime\n",
    "from math import log, floor, radians, cos, sin, asin, sqrt\n",
    "\n",
    "from sklearn.preprocessing import StandardScaler, MinMaxScaler, LabelEncoder\n",
    "from sklearn.model_selection import train_test_split, cross_val_score, learning_curve, GridSearchCV,  ShuffleSplit\n",
    "\n",
    "from sklearn.utils import resample\n",
    "from sklearn.metrics import roc_auc_score, accuracy_score, f1_score, cohen_kappa_score, classification_report, confusion_matrix\n",
    "\n",
    "from sklearn.ensemble import GradientBoostingClassifier\n",
    "from sklearn.tree import DecisionTreeClassifier\n",
    "\n",
    "# to see all the columns printed\n",
    "pd.options.display.max_columns = None"
   ]
  },
  {
   "cell_type": "markdown",
   "metadata": {
    "toc-hr-collapsed": true
   },
   "source": [
    "# Data Import And Basic Stats"
   ]
  },
  {
   "cell_type": "code",
   "execution_count": 4034,
   "metadata": {},
   "outputs": [],
   "source": [
    "df = pd.read_csv('data.csv')"
   ]
  },
  {
   "cell_type": "code",
   "execution_count": null,
   "metadata": {},
   "outputs": [],
   "source": [
    "df.head()"
   ]
  },
  {
   "cell_type": "code",
   "execution_count": null,
   "metadata": {},
   "outputs": [],
   "source": [
    "df.describe()"
   ]
  },
  {
   "cell_type": "markdown",
   "metadata": {},
   "source": [
    "A few potential issues could be already seen at this point\n",
    "1. missing values\n",
    "2. negative values in multiple columns\n",
    "3. very high max price, potential outliers"
   ]
  },
  {
   "cell_type": "code",
   "execution_count": null,
   "metadata": {},
   "outputs": [],
   "source": [
    "print(\"Number of rows\", df.shape[0])\n",
    "print(\"Number of cols\", df.shape[1])"
   ]
  },
  {
   "cell_type": "markdown",
   "metadata": {
    "toc-hr-collapsed": true
   },
   "source": [
    "## Understanding Data"
   ]
  },
  {
   "cell_type": "markdown",
   "metadata": {},
   "source": [
    "### Label Distribution"
   ]
  },
  {
   "cell_type": "code",
   "execution_count": null,
   "metadata": {},
   "outputs": [],
   "source": [
    "df.label.unique()"
   ]
  },
  {
   "cell_type": "code",
   "execution_count": null,
   "metadata": {},
   "outputs": [],
   "source": [
    "df.label.value_counts()"
   ]
  },
  {
   "cell_type": "code",
   "execution_count": null,
   "metadata": {},
   "outputs": [],
   "source": [
    "plt.figure(figsize=(12,8))\n",
    "ax = sns.countplot(x=\"label\", data=df)\n",
    "plt.title('What is the action distribution in label (%)?')\n",
    "ax2=ax.twinx()\n",
    "ax2.yaxis.tick_left()\n",
    "ax.yaxis.tick_right()\n",
    "ax.yaxis.set_label_position('right')\n",
    "ax2.yaxis.set_label_position('left')\n",
    "ax2.set_ylabel('Frequency [%]')\n",
    "for p in ax.patches:\n",
    "    x=p.get_bbox().get_points()[:,0]\n",
    "    y=p.get_bbox().get_points()[1,1]\n",
    "    ax.annotate('{:.1f}%'.format(100.*y/df.label.count()), (x.mean(), y), \n",
    "            ha='center', va='bottom')\n",
    "plt.show()\n"
   ]
  },
  {
   "cell_type": "markdown",
   "metadata": {},
   "source": [
    "Out of all search results we have (13%) of listings with bookings.\n",
    "\n",
    "Initially I will work on the model to predict the probability of booking. Since click, host_contact can also indicate an interest from the user, later on I could look at the combined probability to book, contact_host, click with weights to improve the ranking score."
   ]
  },
  {
   "cell_type": "code",
   "execution_count": 4041,
   "metadata": {},
   "outputs": [],
   "source": [
    "df['booked'] = np.where(df['label'] == 'book', 1, 0)\n",
    "df['clicked'] = np.where(df['label'] == 'click', 1, 0)\n",
    "df['contacted'] = np.where(df['label'] == 'host_contact', 1, 0)\n",
    "df['impression'] = np.where(df['label'] == 'impression', 1, 0)\n",
    "\n",
    "conditions = [\n",
    "    (df['label'] == 'book'),\n",
    "    (df['label'] == 'host_contact'),\n",
    "    (df['label'] == 'click'),\n",
    "    (df['label'] == 'impression')]\n",
    "\n",
    "choices = [1.0, 0.5, 0.3, 0]\n",
    "\n",
    "df['action'] = np.select(conditions, choices)\n",
    "#df = df.drop(columns = ['label'])"
   ]
  },
  {
   "cell_type": "code",
   "execution_count": null,
   "metadata": {},
   "outputs": [],
   "source": [
    "df.action.value_counts()"
   ]
  },
  {
   "cell_type": "markdown",
   "metadata": {},
   "source": [
    "### What do we know about search id?"
   ]
  },
  {
   "cell_type": "code",
   "execution_count": null,
   "metadata": {},
   "outputs": [],
   "source": [
    "#How many listings are in search?\n",
    "df1 = df.groupby(\"id_search\")[\"id_listing\"].nunique()\n",
    "df1.describe()"
   ]
  },
  {
   "cell_type": "markdown",
   "metadata": {},
   "source": [
    "The number of listings ranges from 1 to 18 with average of 2. I suspect that the lower  and upper bounds could be limited by the snapshot of the dataset and not necessary what \n",
    "user could see in particular search query."
   ]
  },
  {
   "cell_type": "code",
   "execution_count": null,
   "metadata": {},
   "outputs": [],
   "source": [
    "# How many searches with bookings?\n",
    "df.id_search.nunique()"
   ]
  },
  {
   "cell_type": "code",
   "execution_count": null,
   "metadata": {},
   "outputs": [],
   "source": [
    "df.id_user.nunique()"
   ]
  },
  {
   "cell_type": "code",
   "execution_count": null,
   "metadata": {},
   "outputs": [],
   "source": [
    "df.id_listing.nunique()"
   ]
  },
  {
   "cell_type": "code",
   "execution_count": 4047,
   "metadata": {},
   "outputs": [],
   "source": [
    "df1 = df.groupby([\"id_search\"]).agg({\"booked\": np.sum})\n",
    "df1_booked = df1[df1.booked != 0]"
   ]
  },
  {
   "cell_type": "markdown",
   "metadata": {},
   "source": [
    "There are 2218 searches with bookings\n",
    "How many average listings in searches with bookings?"
   ]
  },
  {
   "cell_type": "code",
   "execution_count": null,
   "metadata": {},
   "outputs": [],
   "source": [
    "search_id_with_booking = df1_booked.index.tolist()\n",
    "df_with_bookings = df[df['id_search'].isin(search_id_with_booking)] \n",
    "df_with_bookings.label.value_counts()"
   ]
  },
  {
   "cell_type": "code",
   "execution_count": null,
   "metadata": {},
   "outputs": [],
   "source": [
    "df_with_bookings.loc[(df_with_bookings.id_search == '3b3a5ee9-6a4d-4cae-a7a2-caf9fb44e949')]"
   ]
  },
  {
   "cell_type": "code",
   "execution_count": null,
   "metadata": {},
   "outputs": [],
   "source": [
    "df_with_bookings = df[df['id_search'].isin(search_id_with_booking)] \n",
    "df1 = df_with_bookings.groupby(\"id_search\")[\"id_listing\"].nunique()\n",
    "df1.describe()"
   ]
  },
  {
   "cell_type": "markdown",
   "metadata": {},
   "source": [
    "In searches with bookings, there are on average 6 listings. For evaluation of NDCG @k, I will use the average k == 6"
   ]
  },
  {
   "cell_type": "code",
   "execution_count": null,
   "metadata": {},
   "outputs": [],
   "source": [
    "# Listings are unique within a specific search id, since only the last action on that listing is being recorded.\n",
    "# Lets look at the situation when the same user, acts on the same listing same day\n",
    "df1 = df.groupby(['id_user', 'id_listing', 'ds_search', \"label\"]).size().sort_values(ascending=False).reset_index(name='count')\n",
    "df1.head()"
   ]
  },
  {
   "cell_type": "code",
   "execution_count": null,
   "metadata": {},
   "outputs": [],
   "source": [
    "#The same user booked the same listing on the same day, we need to take a closer look.\n",
    "df.loc[(df.id_user == '99cd10f6ab7f9eacba5222c7179c882d') & (df.id_listing == 'f596a76ad5fb342fde248fb6ec07dcf2') & (df.ds_search == '11/22/18')]"
   ]
  },
  {
   "cell_type": "markdown",
   "metadata": {},
   "source": [
    "The same listing was booked by the same person 4 times on the same day. For user those were different searches for the same timeframe, but different number of of guests in the query.\n",
    "\n",
    "At this point I will assume that if listing was booked by the same user on the same day, the listing is marked as 'book' in all searchers\n",
    "on that day.  Given that we are dealing with imbalanced dataset I am going to keep all those records nonetheless."
   ]
  },
  {
   "cell_type": "markdown",
   "metadata": {},
   "source": [
    "The above query contains the same listing, but listing_num_beds == 4 in 3 out of 4 rows and NaN in 1. At this point\n",
    "I will assume that NaN was a result of a logging problem. Therefore I think using median or KNN as imputer strategy might be reasonable."
   ]
  },
  {
   "cell_type": "markdown",
   "metadata": {
    "tags": []
   },
   "source": [
    "# Data Preprocessing"
   ]
  },
  {
   "cell_type": "markdown",
   "metadata": {},
   "source": [
    "## Processing Dates"
   ]
  },
  {
   "cell_type": "markdown",
   "metadata": {},
   "source": [
    "We are working with 7 days window of data. Calculating historic observation in this timeframe, might put some\n",
    "users observations outside of the data window, even for a single. day aggregations as the data might have been incomplete for upper and \n",
    "lower bound days.\n",
    "Therefore, the meaningful calculations that are unaffected by the time window are:\n",
    "    1. Days of the week\n",
    "    2. Time between checkin-checkout\n",
    "    3. Time between search query and checkin"
   ]
  },
  {
   "cell_type": "code",
   "execution_count": 4053,
   "metadata": {},
   "outputs": [],
   "source": [
    "df['search_date'] = pd.to_datetime(df['ds_search'])\n",
    "df['search_time_day_name'] = df.search_date.dt.day_name()\n",
    "df['checkin_date'] = pd.to_datetime(df['query_checkin'])\n",
    "df['checkin_date_day_name'] = df.checkin_date.dt.day_name()\n",
    "df['checkout_date'] = pd.to_datetime(df['query_checkout'])\n",
    "df['checkout_date_day_name'] = df.checkout_date.dt.day_name()\n",
    "df['checkin_checkout_days_between'] = (df.checkout_date - df.checkin_date).dt.days\n",
    "df['search_checkin_days_between'] = (df.checkin_date - df.search_date).dt.days"
   ]
  },
  {
   "cell_type": "markdown",
   "metadata": {},
   "source": [
    "I will drop the date column. Given the short timeframe, day name might carry out more. information than just dates"
   ]
  },
  {
   "cell_type": "code",
   "execution_count": 4054,
   "metadata": {},
   "outputs": [],
   "source": [
    "df = df.drop(columns = ['query_checkin', 'query_checkout', 'search_date', 'checkin_date', 'checkout_date'])"
   ]
  },
  {
   "cell_type": "markdown",
   "metadata": {},
   "source": [
    "## Processing Geo Coordinates And Distance"
   ]
  },
  {
   "cell_type": "markdown",
   "metadata": {},
   "source": [
    "The search queries contain geo coordinates for search and listings."
   ]
  },
  {
   "cell_type": "code",
   "execution_count": 4055,
   "metadata": {},
   "outputs": [
    {
     "data": {
      "image/png": "[encoded data removed]",
      "text/plain": [
       "<Figure size 1080x576 with 1 Axes>"
      ]
     },
     "metadata": {
      "needs_background": "light"
     },
     "output_type": "display_data"
    }
   ],
   "source": [
    "df1_booked = df[df.booked != 0]\n",
    "\n",
    "plt.figure(figsize = (15,8))\n",
    "plt.xlabel('Latitude')  \n",
    "plt.ylabel('Longitude')  \n",
    "  \n",
    "# displaying the title \n",
    "plt.title(\"Geo Coordinates Of Queries (Red), Listings (Blue), Listings With Bookings (Green)\", fontsize=14) \n",
    "\n",
    "l = plt.scatter(df['listing_lat'], df['listing_lng'], color='b')\n",
    "q = plt.scatter(df['query_center_lat'], df['query_center_lng'], color='r')\n",
    "b = plt.scatter(df1_booked['listing_lat'], df1_booked['listing_lng'], color='g')\n",
    "\n",
    "plt.legend((l,q,b),('Listings', 'Queries','Listings With Bookings'),scatterpoints=1, loc='lower right', ncol=1, fontsize=12)\n",
    "plt.show()"
   ]
  },
  {
   "cell_type": "markdown",
   "metadata": {},
   "source": [
    "Some listings are located further away from search centers and those listings did not result in booking. Distance between query center and listing geo coordine might be important in decision top book for a user. To capture that I will calculate distance between query search and listings"
   ]
  },
  {
   "cell_type": "code",
   "execution_count": 4056,
   "metadata": {},
   "outputs": [],
   "source": [
    "def haversine(lon1, lat1, lon2, lat2):\n",
    "    lon1, lat1, lon2, lat2 = map(radians, [lon1, lat1, lon2, lat2])\n",
    "    dlon = lon2 - lon1 \n",
    "    dlat = lat2 - lat1 \n",
    "    a = sin(dlat/2)**2 + cos(lat1) * cos(lat2) * sin(dlon/2)**2\n",
    "    c = 2 * asin(sqrt(a)) \n",
    "    km = 6371* c\n",
    "    return km"
   ]
  },
  {
   "cell_type": "code",
   "execution_count": 4057,
   "metadata": {},
   "outputs": [],
   "source": [
    "df['distance'] = df.apply(lambda row : haversine(row['query_center_lng'], row['query_center_lat'], row['listing_lng'],  row['listing_lat']), axis=1)"
   ]
  },
  {
   "cell_type": "code",
   "execution_count": 4058,
   "metadata": {},
   "outputs": [],
   "source": [
    "#df[\"query_center_lng_rad\"] = np.radians(df[\"query_center_lng\"])\n",
    "#df[\"query_center_lat_rad\"] = np.radians(df[\"query_center_lat\"])\n",
    "#df[\"listing_lng_rad\"] = np.radians(df[\"listing_lng\"])\n",
    "#df[\"listing_lat_rad\"] = np.radians(df[\"listing_lat\"])"
   ]
  },
  {
   "cell_type": "markdown",
   "metadata": {},
   "source": [
    "As an advanced step, **TODO** I would reverse geocode lat, lng into postal code or convert them into a geohash, as neighbourhood might be a significant predictor.\n",
    "For now I'll just drop them and focus on the significance of distance alone"
   ]
  },
  {
   "cell_type": "code",
   "execution_count": 4059,
   "metadata": {},
   "outputs": [],
   "source": [
    "df = df.drop(columns = ['query_center_lng', 'query_center_lat', 'listing_lng', 'listing_lat'])"
   ]
  },
  {
   "cell_type": "markdown",
   "metadata": {},
   "source": [
    "## Adding User Action Per Day"
   ]
  },
  {
   "cell_type": "markdown",
   "metadata": {},
   "source": [
    "In the dataset we are missing user-specific features. At the moment I will assume that rows in the dataset are being logged chronologically."
   ]
  },
  {
   "cell_type": "markdown",
   "metadata": {},
   "source": [
    "cum_action_per_day will calculate user cumulative steps each day for each listing. On the same day, first chronoligical listing action will count as 0, than 1, etc."
   ]
  },
  {
   "cell_type": "code",
   "execution_count": 4060,
   "metadata": {},
   "outputs": [],
   "source": [
    "df['cum_user_action_per_day'] = df.groupby(['id_user', 'ds_search']).cumcount(ascending=False)"
   ]
  },
  {
   "cell_type": "code",
   "execution_count": 4061,
   "metadata": {},
   "outputs": [
    {
     "name": "stdout",
     "output_type": "stream",
     "text": [
      "-0.030893642441661352\n"
     ]
    }
   ],
   "source": [
    "correlations = df.corr()['booked'].dropna().sort_values()\n",
    "print(correlations['cum_user_action_per_day'])"
   ]
  },
  {
   "cell_type": "markdown",
   "metadata": {},
   "source": [
    "## Handling Missing Values"
   ]
  },
  {
   "cell_type": "code",
   "execution_count": null,
   "metadata": {},
   "outputs": [],
   "source": [
    "import missingno as msno\n",
    "\n",
    "msno.matrix(df.iloc[:, 0:50])"
   ]
  },
  {
   "cell_type": "markdown",
   "metadata": {},
   "source": [
    "Data appears to be missing completely at random (MCAR)."
   ]
  },
  {
   "cell_type": "code",
   "execution_count": null,
   "metadata": {},
   "outputs": [],
   "source": [
    "msno.bar(df.iloc[:, 0:50])"
   ]
  },
  {
   "cell_type": "markdown",
   "metadata": {},
   "source": [
    "Removing data leakage columns"
   ]
  },
  {
   "cell_type": "code",
   "execution_count": 4064,
   "metadata": {},
   "outputs": [],
   "source": [
    "df = df.drop(columns = ['ds_search', 'ds_book', 'ds_contact'])"
   ]
  },
  {
   "cell_type": "code",
   "execution_count": 4065,
   "metadata": {},
   "outputs": [],
   "source": [
    "def missing_values_table(df):\n",
    "        mis_val = df.isnull().sum()\n",
    "        \n",
    "        mis_val_percent = 100 * df.isnull().sum() / len(df)\n",
    "        \n",
    "        mis_val_table = pd.concat([mis_val, mis_val_percent], axis=1)\n",
    "\n",
    "        mis_val_table_ren_columns = mis_val_table.rename(\n",
    "        columns = {0 : 'Missing Values', 1 : '% of Total Values'})\n",
    "                \n",
    "        mis_val_table_ren_columns = mis_val_table_ren_columns[\n",
    "            mis_val_table_ren_columns.iloc[:,1] != 0].sort_values(\n",
    "        '% of Total Values', ascending=False).round(1)\n",
    "        \n",
    "        print (\"Your selected dataframe has \" + str(df.shape[1]) + \" columns.\\n\"      \n",
    "            \"There are \" + str(mis_val_table_ren_columns.shape[0]) +\n",
    "              \" columns that have missing values.\")\n",
    "\n",
    "        return mis_val_table_ren_columns\n",
    "#missing_data = missing_values_table(df)\n",
    "#print(missing_data)"
   ]
  },
  {
   "cell_type": "code",
   "execution_count": 4066,
   "metadata": {},
   "outputs": [],
   "source": [
    "def complex_imputation(data, features):\n",
    "    from sklearn.impute import KNNImputer\n",
    "    imputer = KNNImputer(n_neighbors=2)\n",
    "    columns = features\n",
    "    for col in columns:\n",
    "        df[col] = imputer.fit_transform(df[[col]]).ravel()"
   ]
  },
  {
   "cell_type": "code",
   "execution_count": 4067,
   "metadata": {},
   "outputs": [],
   "source": [
    "def simple_imputation(data, features):\n",
    "    for feature_name in features:\n",
    "        missing_ids = data.loc[data[feature_name].isna(), :].index.values\n",
    "        imp_val = data[feature_name].median()\n",
    "        imputed_feature = [imp_val] * len(data.loc[missing_ids, feature_name])\n",
    "        data.loc[missing_ids, feature_name] = imputed_feature\n"
   ]
  },
  {
   "cell_type": "code",
   "execution_count": 4068,
   "metadata": {},
   "outputs": [],
   "source": [
    "#complex_imputation(df, missing_data.index)"
   ]
  },
  {
   "cell_type": "markdown",
   "metadata": {},
   "source": [
    "Processing KNN takes some time, for the sake of efficient time utilization, I will use simple median imputation"
   ]
  },
  {
   "cell_type": "code",
   "execution_count": 4069,
   "metadata": {},
   "outputs": [],
   "source": [
    "simple_imputation(df, missing_data.index)"
   ]
  },
  {
   "cell_type": "code",
   "execution_count": 4070,
   "metadata": {},
   "outputs": [
    {
     "name": "stdout",
     "output_type": "stream",
     "text": [
      "Your selected dataframe has 51 columns.\n",
      "There are 0 columns that have missing values.\n"
     ]
    },
    {
     "data": {
      "text/html": [
       "<div>\n",
       "<style scoped>\n",
       "    .dataframe tbody tr th:only-of-type {\n",
       "        vertical-align: middle;\n",
       "    }\n",
       "\n",
       "    .dataframe tbody tr th {\n",
       "        vertical-align: top;\n",
       "    }\n",
       "\n",
       "    .dataframe thead th {\n",
       "        text-align: right;\n",
       "    }\n",
       "</style>\n",
       "<table border=\"1\" class=\"dataframe\">\n",
       "  <thead>\n",
       "    <tr style=\"text-align: right;\">\n",
       "      <th></th>\n",
       "      <th>Missing Values</th>\n",
       "      <th>% of Total Values</th>\n",
       "    </tr>\n",
       "  </thead>\n",
       "  <tbody>\n",
       "  </tbody>\n",
       "</table>\n",
       "</div>"
      ],
      "text/plain": [
       "Empty DataFrame\n",
       "Columns: [Missing Values, % of Total Values]\n",
       "Index: []"
      ]
     },
     "execution_count": 4070,
     "metadata": {},
     "output_type": "execute_result"
    }
   ],
   "source": [
    "missing_values_table(df)"
   ]
  },
  {
   "cell_type": "markdown",
   "metadata": {
    "toc-hr-collapsed": true
   },
   "source": [
    "## Handling Outliers"
   ]
  },
  {
   "cell_type": "markdown",
   "metadata": {},
   "source": [
    "### Price"
   ]
  },
  {
   "cell_type": "markdown",
   "metadata": {},
   "source": [
    "As the total price can be correlated to the number of days between checkin and check out, \n",
    "lets first normalized that price by the number of days.\n",
    "From the dataframe description above it appears that listing_total_price might have potential outliers.\n",
    "Lets take a look."
   ]
  },
  {
   "cell_type": "code",
   "execution_count": null,
   "metadata": {},
   "outputs": [],
   "source": [
    "df['listing_total_price'].describe()"
   ]
  },
  {
   "cell_type": "code",
   "execution_count": 4072,
   "metadata": {},
   "outputs": [],
   "source": [
    "df['listing_price_per_day'] = df['listing_total_price']/ df['checkin_checkout_days_between']"
   ]
  },
  {
   "cell_type": "code",
   "execution_count": null,
   "metadata": {},
   "outputs": [],
   "source": [
    "upper_bound = df['listing_price_per_day'].quantile(.99)\n",
    "print(upper_bound)\n",
    "\n",
    "lower_bound = df['listing_price_per_day'].quantile(.01)\n",
    "print(lower_bound)"
   ]
  },
  {
   "cell_type": "code",
   "execution_count": null,
   "metadata": {},
   "outputs": [],
   "source": [
    "df['listing_price_per_day'].describe()"
   ]
  },
  {
   "cell_type": "code",
   "execution_count": null,
   "metadata": {},
   "outputs": [],
   "source": [
    "df[df['listing_price_per_day'] > upper_bound].booked.value_counts()"
   ]
  },
  {
   "cell_type": "markdown",
   "metadata": {},
   "source": [
    "Average listing price per day is 114, but could go up to above $500K. This are the outliers that are likely to skew the picture."
   ]
  },
  {
   "cell_type": "code",
   "execution_count": null,
   "metadata": {},
   "outputs": [],
   "source": [
    "df[df['listing_price_per_day'] < lower_bound].booked.head()"
   ]
  },
  {
   "cell_type": "markdown",
   "metadata": {},
   "source": [
    "The upper outliers did not result into any bookings. The lower outliers contain. booking with $0 price\n",
    "As we are focusing on revenue generation, I will remove those from the dataset."
   ]
  },
  {
   "cell_type": "code",
   "execution_count": 4077,
   "metadata": {},
   "outputs": [],
   "source": [
    "df = df[(df['listing_price_per_day'] < upper_bound) & (df['listing_price_per_day'] > lower_bound)] "
   ]
  },
  {
   "cell_type": "markdown",
   "metadata": {},
   "source": [
    "## Addressing Negative Ratings"
   ]
  },
  {
   "cell_type": "markdown",
   "metadata": {},
   "source": [
    "There are negative value in the scale of ratings. I am going to adjust the scale to start with 0."
   ]
  },
  {
   "cell_type": "code",
   "execution_count": 4078,
   "metadata": {},
   "outputs": [],
   "source": [
    "df['listing_location_rating'] = np.where(df['listing_location_rating'] < 0, 0, df['listing_location_rating'])\n",
    "df['listing_cleanliness_rating'] = np.where(df['listing_cleanliness_rating'] < 0, 0, df['listing_cleanliness_rating'])\n",
    "df['listing_checkin_rating'] = np.where(df['listing_checkin_rating'] < 0, 0, df['listing_checkin_rating'])\n",
    "df['listing_value_rating'] = np.where(df['listing_value_rating'] < 0, 0, df['listing_value_rating'])\n",
    "df['listing_communication_rating'] = np.where(df['listing_communication_rating'] < 0, 0, df['listing_communication_rating'])\n",
    "df['listing_accuracy_rating'] = np.where(df['listing_accuracy_rating'] < 0, 0, df['listing_accuracy_rating'])"
   ]
  },
  {
   "cell_type": "markdown",
   "metadata": {},
   "source": [
    "Min max query price contains negative values that I assume are searches without min-max being set. \n",
    "Since there could be no negative price, I will adjust query_price_min to start with 0.\n",
    "And for max price if negative, I'll assume listing_total_price"
   ]
  },
  {
   "cell_type": "code",
   "execution_count": 4079,
   "metadata": {},
   "outputs": [],
   "source": [
    "#TO evaluate: if user specifies min price as 0 that may carry additional information\n",
    "df['query_price_min'] = np.where(df['query_price_min'] < 0, 0, df['query_price_min'])\n",
    "df['query_price_max'] = np.where(df['query_price_max'] < 0, df['listing_total_price'], df['query_price_max'])"
   ]
  },
  {
   "cell_type": "markdown",
   "metadata": {},
   "source": [
    "## Handling Data Types"
   ]
  },
  {
   "cell_type": "code",
   "execution_count": null,
   "metadata": {},
   "outputs": [],
   "source": [
    "df['listing_has_pro_pictures'] = df['listing_has_pro_pictures'].astype('int')\n",
    "df['listing_monthly_discount'] = df['listing_monthly_discount'].astype('int')\n",
    "df['listing_weekly_discount'] = df['listing_weekly_discount'].astype('int')\n",
    "df['listing_instant_bookable'] = df['listing_instant_bookable'].astype('int')\n",
    "\n",
    "df['action'] = df['action'].astype('float')\n",
    "\n",
    "categorical_cols  = ['query_market', 'search_time_day_name', 'checkin_date_day_name', 'checkout_date_day_name', 'listing_property_type', 'listing_room_type']\n",
    "df = pd.get_dummies(df, columns = categorical_cols)\n",
    "\n",
    "df.head()\n"
   ]
  },
  {
   "cell_type": "code",
   "execution_count": null,
   "metadata": {},
   "outputs": [],
   "source": [
    "df.label.value_counts()"
   ]
  },
  {
   "cell_type": "markdown",
   "metadata": {
    "toc-hr-collapsed": true
   },
   "source": [
    "## Distributions & Scaling"
   ]
  },
  {
   "cell_type": "code",
   "execution_count": 4082,
   "metadata": {},
   "outputs": [],
   "source": [
    "def log_feature(data, feature_name):\n",
    "    log_feature = data[feature_name].apply(lambda x: log((x+1)))\n",
    "    return log_feature"
   ]
  },
  {
   "cell_type": "code",
   "execution_count": 4083,
   "metadata": {},
   "outputs": [],
   "source": [
    "def standardize_features(data, col_names):\n",
    "    features = data[col_names]\n",
    "    scaler = StandardScaler().fit(features.values)\n",
    "    features = scaler.transform(features.values)"
   ]
  },
  {
   "cell_type": "code",
   "execution_count": 4084,
   "metadata": {},
   "outputs": [],
   "source": [
    "def normalize_features(data, col_names):\n",
    "    features = data[col_names]\n",
    "    scaler = MinMaxScaler().fit(features.values)\n",
    "    features = scaler.transform(features.values)"
   ]
  },
  {
   "cell_type": "markdown",
   "metadata": {},
   "source": [
    "### listing_total_price"
   ]
  },
  {
   "cell_type": "code",
   "execution_count": 4085,
   "metadata": {},
   "outputs": [],
   "source": [
    "df['listing_price_per_day'] = df['listing_total_price']/ df['checkin_checkout_days_between']"
   ]
  },
  {
   "cell_type": "code",
   "execution_count": null,
   "metadata": {},
   "outputs": [],
   "source": [
    "df['listing_price_per_day'].hist(bins=50)"
   ]
  },
  {
   "cell_type": "code",
   "execution_count": 4087,
   "metadata": {},
   "outputs": [],
   "source": [
    "df['log_price_per_day'] = log_feature(df, 'listing_price_per_day')"
   ]
  },
  {
   "cell_type": "code",
   "execution_count": null,
   "metadata": {},
   "outputs": [],
   "source": [
    "df['log_price_per_day'].hist(bins=50)"
   ]
  },
  {
   "cell_type": "code",
   "execution_count": 4089,
   "metadata": {},
   "outputs": [],
   "source": [
    "df  = df.drop(columns=['listing_total_price', 'listing_price_per_day'])"
   ]
  },
  {
   "cell_type": "code",
   "execution_count": null,
   "metadata": {},
   "outputs": [],
   "source": [
    "df['query_price_max'].hist(bins=50)"
   ]
  },
  {
   "cell_type": "code",
   "execution_count": 4091,
   "metadata": {},
   "outputs": [],
   "source": [
    "df['log_query_price_max'] = log_feature(df, 'query_price_max')"
   ]
  },
  {
   "cell_type": "code",
   "execution_count": null,
   "metadata": {},
   "outputs": [],
   "source": [
    "df['log_query_price_max'].hist(bins=50)"
   ]
  },
  {
   "cell_type": "code",
   "execution_count": 4093,
   "metadata": {},
   "outputs": [],
   "source": [
    "df  = df.drop(columns=['query_price_max'])"
   ]
  },
  {
   "cell_type": "code",
   "execution_count": null,
   "metadata": {},
   "outputs": [],
   "source": [
    "df['listing_cleaning_fee_per_day'] = df['listing_cleaning_fee']/ df['checkin_checkout_days_between']\n",
    "df['listing_cleaning_fee_per_day'].hist(bins=50)"
   ]
  },
  {
   "cell_type": "code",
   "execution_count": 4095,
   "metadata": {},
   "outputs": [],
   "source": [
    "df['log_cleaning_fee_per_day'] = log_feature(df, 'listing_cleaning_fee_per_day')"
   ]
  },
  {
   "cell_type": "code",
   "execution_count": 4096,
   "metadata": {},
   "outputs": [],
   "source": [
    "df  = df.drop(columns=['listing_cleaning_fee_per_day'])"
   ]
  },
  {
   "cell_type": "markdown",
   "metadata": {},
   "source": [
    "### Distributions "
   ]
  },
  {
   "cell_type": "code",
   "execution_count": 4098,
   "metadata": {},
   "outputs": [],
   "source": [
    "import warnings\n",
    "import numpy as np\n",
    "import pandas as pd\n",
    "import scipy.stats as st\n",
    "import statsmodels as sm\n",
    "import matplotlib\n",
    "import matplotlib.pyplot as plt\n",
    "\n",
    "\n",
    "# Create models from data\n",
    "def best_fit_distribution(data, bins=200, ax=None):\n",
    "    y, x = np.histogram(data, bins=bins, density=True)\n",
    "    x = (x + np.roll(x, -1))[:-1] / 2.0\n",
    "\n",
    "    # Distributions to check\n",
    "    DISTRIBUTIONS = [        \n",
    "        st.norm, st.lognorm, st.powerlaw, st.powerlognorm, st.uniform, st.expon\n",
    "    ]\n",
    "\n",
    "    # Best holders\n",
    "    best_distribution = st.norm\n",
    "    best_params = (0.0, 1.0)\n",
    "    best_sse = np.inf\n",
    "\n",
    "    # Estimate distribution parameters from data\n",
    "    for distribution in DISTRIBUTIONS:\n",
    "\n",
    "        # Try to fit the distribution\n",
    "        try:\n",
    "            # Ignore warnings from data that can't be fit\n",
    "            with warnings.catch_warnings():\n",
    "                warnings.filterwarnings('ignore')\n",
    "                params = distribution.fit(data)\n",
    "\n",
    "                # Separate parts of parameters\n",
    "                arg = params[:-2]\n",
    "                loc = params[-2]\n",
    "                scale = params[-1]\n",
    "\n",
    "                # Calculate fitted PDF and error with fit in distribution\n",
    "                pdf = distribution.pdf(x, loc=loc, scale=scale, *arg)\n",
    "                sse = np.sum(np.power(y - pdf, 2.0))\n",
    "\n",
    "                # identify if this distribution is better\n",
    "                if best_sse > sse > 0:\n",
    "                    best_distribution = distribution\n",
    "                    best_params = params\n",
    "                    best_sse = sse\n",
    "\n",
    "        except Exception as e:\n",
    "            print(\"Error on: {} {}\".format(distribution, str(e)))\n",
    "            pass\n",
    "\n",
    "        #print(\"Distribution: {} | SSE: {}\".format(distribution, sse))\n",
    "\n",
    "    return best_distribution.name, best_sse"
   ]
  },
  {
   "cell_type": "code",
   "execution_count": 4099,
   "metadata": {},
   "outputs": [],
   "source": [
    "#for col in df.select_dtypes('number'):\n",
    "#    nm, pm = best_fit_distribution(df[col])\n",
    "#    print(col, nm, pm)"
   ]
  },
  {
   "cell_type": "code",
   "execution_count": null,
   "metadata": {},
   "outputs": [],
   "source": [
    "# Create the scaler data with a range of 0-1\n",
    "cols= [ \"query_price_min\", 'query_num_guests',  'query_num_children', 'query_radius', 'query_num_infants', 'listing_review_rating',\n",
    "           'listing_review_count', 'listing_num_beds', 'listing_num_bedrooms', 'listing_person_capacity', 'listing_location_rating','listing_cleanliness_rating',\n",
    "           'listing_checkin_rating',  'listing_value_rating', 'listing_communication_rating', 'listing_accuracy_rating',\n",
    "           'listing_occupancy_rate', 'listing_cleaning_fee', 'listing_num_books_90day', 'listing_monthly_price_factor',  'listing_weekly_price_factor',\n",
    "           'distance', 'listing_maximum_nights',  'listing_minimum_nights', 'listing_num_recent_reservations', 'checkin_checkout_days_between', \n",
    "           'search_checkin_days_between']\n",
    "\n",
    "standardize_features(df,cols)\n",
    "df.head()"
   ]
  },
  {
   "cell_type": "markdown",
   "metadata": {},
   "source": [
    "## Correlations"
   ]
  },
  {
   "cell_type": "code",
   "execution_count": null,
   "metadata": {},
   "outputs": [],
   "source": [
    "# Find all correlations and sort \n",
    "correlations = df.corr()['booked'].sort_values()\n",
    "print(correlations.head(15), '\\n')\n",
    "print(correlations.tail(15))"
   ]
  },
  {
   "cell_type": "markdown",
   "metadata": {},
   "source": [
    "listing_occupancy_rate  has the strongest positive correlation to book, others are ratings, listing_num_books_90day (which might have causality relation with ratings), listing_review_count, \n",
    "discounts and listing being instantly bookable.\n",
    "\n",
    "The negative correlations are listing_is_new, listing_person_capacity, listing_total_price, listing_num_beds"
   ]
  },
  {
   "cell_type": "code",
   "execution_count": 4133,
   "metadata": {},
   "outputs": [
    {
     "data": {
      "text/plain": [
       "-0.02640913941836243"
      ]
     },
     "execution_count": 4133,
     "metadata": {},
     "output_type": "execute_result"
    }
   ],
   "source": [
    "correlations['listing_is_new']"
   ]
  },
  {
   "cell_type": "markdown",
   "metadata": {
    "tags": [],
    "toc-hr-collapsed": true
   },
   "source": [
    "# Split Into Training and Testing Sets"
   ]
  },
  {
   "cell_type": "markdown",
   "metadata": {},
   "source": [
    "We need to split data by the id_search to ensure that the records that belong to the same id_search are not being separated into different datasets.\n",
    "\n",
    "In addition we are dealing with a heavily imbalanced dataset. To counter that with it I will downsample the majority class and upsample the minority"
   ]
  },
  {
   "cell_type": "code",
   "execution_count": 4103,
   "metadata": {},
   "outputs": [],
   "source": [
    "df_summary = df.groupby([\"id_search\"]).agg({\"booked\": np.sum, \"clicked\": np.sum, \"contacted\": np.sum, \"impression\": np.sum})"
   ]
  },
  {
   "cell_type": "code",
   "execution_count": 4104,
   "metadata": {},
   "outputs": [],
   "source": [
    "df_booked = df_summary[df_summary.booked != 0]"
   ]
  },
  {
   "cell_type": "code",
   "execution_count": 4105,
   "metadata": {},
   "outputs": [],
   "source": [
    "booked_ids = df_booked.index.tolist()"
   ]
  },
  {
   "cell_type": "code",
   "execution_count": null,
   "metadata": {},
   "outputs": [],
   "source": [
    "df_with_bookings = df[df['id_search'].isin(booked_ids)]\n",
    "df_with_bookings.label.value_counts()"
   ]
  },
  {
   "cell_type": "code",
   "execution_count": 4107,
   "metadata": {},
   "outputs": [],
   "source": [
    "df_with_bookings_upsampled = resample(df_with_bookings, replace=True, n_samples=20000, random_state=42)"
   ]
  },
  {
   "cell_type": "code",
   "execution_count": null,
   "metadata": {},
   "outputs": [],
   "source": [
    "df_with_bookings_upsampled.label.value_counts()"
   ]
  },
  {
   "cell_type": "code",
   "execution_count": 4109,
   "metadata": {},
   "outputs": [],
   "source": [
    "df_impression_only = df_summary[(df_summary.booked == 0) & (df_summary.clicked == 0) & (df_summary.contacted == 0)]\n",
    "impression_only_ids = df_impression_only.index.values\n",
    "sample = np.random.choice(impression_only_ids.tolist(), floor(0.2*len(impression_only_ids)), False)\n",
    "sampled_impression_only_ids = df_summary.loc[sample].index.values"
   ]
  },
  {
   "cell_type": "code",
   "execution_count": null,
   "metadata": {},
   "outputs": [],
   "source": [
    "df_impression_only = df[df['id_search'].isin(sampled_impression_only_ids)] \n",
    "df_impression_only.label.value_counts()"
   ]
  },
  {
   "cell_type": "code",
   "execution_count": 4111,
   "metadata": {},
   "outputs": [],
   "source": [
    "new_df = pd.concat([df_with_bookings_upsampled, df_impression_only]).reset_index()"
   ]
  },
  {
   "cell_type": "code",
   "execution_count": null,
   "metadata": {},
   "outputs": [],
   "source": [
    "new_df.label.value_counts()"
   ]
  },
  {
   "cell_type": "code",
   "execution_count": 4113,
   "metadata": {},
   "outputs": [],
   "source": [
    "train_id = pd.Series(new_df['id_search'].unique()).sample(10000, replace=True)\n",
    "train = new_df.loc[new_df['id_search'].isin(train_id)]\n",
    "test = new_df.loc[~new_df['id_search'].isin(train_id)]"
   ]
  },
  {
   "cell_type": "code",
   "execution_count": 4114,
   "metadata": {},
   "outputs": [
    {
     "name": "stdout",
     "output_type": "stream",
     "text": [
      "(24073, 118)\n",
      "(14005, 118)\n"
     ]
    }
   ],
   "source": [
    "print(train.shape)\n",
    "print(test.shape)"
   ]
  },
  {
   "cell_type": "code",
   "execution_count": null,
   "metadata": {},
   "outputs": [],
   "source": [
    "train.booked.value_counts()"
   ]
  },
  {
   "cell_type": "code",
   "execution_count": null,
   "metadata": {},
   "outputs": [],
   "source": [
    "test.booked.value_counts()"
   ]
  },
  {
   "cell_type": "code",
   "execution_count": 4117,
   "metadata": {},
   "outputs": [],
   "source": [
    "clicked_list = test['clicked']\n",
    "booked_list = test['booked']\n",
    "contacted_list = test['contacted']\n",
    "srchid_list = test['id_search']"
   ]
  },
  {
   "cell_type": "code",
   "execution_count": 4118,
   "metadata": {},
   "outputs": [],
   "source": [
    "y_train = train['booked']\n",
    "X_train = train.drop(columns=['id_listing', 'id_search', 'label', 'id_user', 'booked', 'clicked', 'contacted', 'impression', 'action', 'id_search'])\n",
    "\n",
    "y_test = test['booked']\n",
    "X_test = test.drop(columns=['id_listing', 'id_search','label', 'id_user',  'booked', 'clicked', 'contacted', 'impression',  'action', 'id_search'])\n"
   ]
  },
  {
   "cell_type": "markdown",
   "metadata": {},
   "source": [
    "## Establish a Benchmark"
   ]
  },
  {
   "cell_type": "code",
   "execution_count": 4119,
   "metadata": {},
   "outputs": [],
   "source": [
    "def print_model_results(name, test, pred):\n",
    "    f1score = f1_score(test, pred)\n",
    "    aucscore = roc_auc_score(test, pred)\n",
    "\n",
    "    confusion_Matrix = pd.DataFrame(\n",
    "        confusion_matrix(y_test, pred),\n",
    "        columns=['Predicted As No', 'Predicted As Yes'],\n",
    "        index=['True No', 'True Yes'])\n",
    "\n",
    "    print(classification_report(y_test, pred))\n",
    "    print(confusion_Matrix)\n",
    "    print('%s  f1_score =  %0.4f.' % (name, f1score))\n",
    "    print('%s  roc_auc_score =  %0.4f.' % (name, aucscore))   "
   ]
  },
  {
   "cell_type": "markdown",
   "metadata": {},
   "source": [
    "### Decision Tree Classifier"
   ]
  },
  {
   "cell_type": "markdown",
   "metadata": {},
   "source": [
    "Since the dataset contains categorical variables, I will use to establish a baseline model before any optimization.\n",
    "\n",
    "Model's optimirzation should focus on F1 score since it is important to capture all potential booking and be precise about what we are ranking first."
   ]
  },
  {
   "cell_type": "code",
   "execution_count": null,
   "metadata": {},
   "outputs": [],
   "source": [
    "from sklearn.tree import DecisionTreeClassifier\n",
    "from sklearn.metrics import roc_auc_score, accuracy_score, f1_score, cohen_kappa_score, classification_report, recall_score, precision_score\n",
    "\n",
    "model1 = DecisionTreeClassifier(class_weight='balanced')\n",
    "model1.fit(X_train, y_train)\n",
    "y_pred1 =  model1.predict(X_test)\n",
    "print_model_results(\"DecisionTreeClassifier\", y_test, y_pred1)"
   ]
  },
  {
   "cell_type": "markdown",
   "metadata": {},
   "source": [
    "### Auto ML With TPOT"
   ]
  },
  {
   "cell_type": "code",
   "execution_count": 4121,
   "metadata": {},
   "outputs": [],
   "source": [
    "#from ipywidgets import IntProgress\n",
    "#from tpot import TPOTClassifier\n",
    "#tpot = TPOTClassifier(generations=2, population_size=20, cv=3, random_state=42, verbosity=3, scoring='roc_auc_ovr_weighted')\n",
    "#tpot.fit(X_train, y_train)\n",
    "#print(tpot.score(X_test, y_test))"
   ]
  },
  {
   "cell_type": "markdown",
   "metadata": {},
   "source": [
    "### Best Result"
   ]
  },
  {
   "cell_type": "code",
   "execution_count": null,
   "metadata": {},
   "outputs": [],
   "source": [
    "from sklearn.ensemble import ExtraTreesClassifier\n",
    "model7 = ExtraTreesClassifier(n_estimators=100, max_features=0.55, \n",
    "                              min_samples_leaf=6, min_samples_split=11, criterion='entropy', bootstrap=False, \n",
    "                              class_weight='balanced', ccp_alpha=0.001, random_state=0)\n",
    "\n",
    "model7.fit(X_train, y_train)\n",
    "y_pred7 =  model7.predict(X_test)\n",
    "\n",
    "print_model_results(\"ExtraTreesClassifier\", y_test, y_pred7)"
   ]
  },
  {
   "cell_type": "markdown",
   "metadata": {},
   "source": [
    "importances = model2.feature_importances_\n",
    "std = np.std([model2.feature_importances_ for tree in model2.estimators_],\n",
    "             axis=0)\n",
    "indices = np.argsort(importances)[::-1]\n",
    "\n",
    "for f in range(X_train.shape[1]):\n",
    "    print(\"%s. feature %d (%f)\" % ( X_train.columns[f],  indices[f], importances[indices[f]]))\n"
   ]
  },
  {
   "cell_type": "markdown",
   "metadata": {},
   "source": [
    "## AutoML H2O"
   ]
  },
  {
   "cell_type": "code",
   "execution_count": 4123,
   "metadata": {},
   "outputs": [
    {
     "name": "stdout",
     "output_type": "stream",
     "text": [
      "Checking whether there is an H2O instance running at http://localhost:54321 . connected.\n"
     ]
    },
    {
     "data": {
      "text/html": [
       "<div style=\"overflow:auto\"><table style=\"width:50%\"><tr><td>H2O_cluster_uptime:</td>\n",
       "<td>1 day 2 hours 29 mins</td></tr>\n",
       "<tr><td>H2O_cluster_timezone:</td>\n",
       "<td>America/Los_Angeles</td></tr>\n",
       "<tr><td>H2O_data_parsing_timezone:</td>\n",
       "<td>UTC</td></tr>\n",
       "<tr><td>H2O_cluster_version:</td>\n",
       "<td>3.32.0.5</td></tr>\n",
       "<tr><td>H2O_cluster_version_age:</td>\n",
       "<td>9 days </td></tr>\n",
       "<tr><td>H2O_cluster_name:</td>\n",
       "<td>H2O_from_python_i803030_8e2syj</td></tr>\n",
       "<tr><td>H2O_cluster_total_nodes:</td>\n",
       "<td>1</td></tr>\n",
       "<tr><td>H2O_cluster_free_memory:</td>\n",
       "<td>4.722 Gb</td></tr>\n",
       "<tr><td>H2O_cluster_total_cores:</td>\n",
       "<td>16</td></tr>\n",
       "<tr><td>H2O_cluster_allowed_cores:</td>\n",
       "<td>16</td></tr>\n",
       "<tr><td>H2O_cluster_status:</td>\n",
       "<td>locked, healthy</td></tr>\n",
       "<tr><td>H2O_connection_url:</td>\n",
       "<td>http://localhost:54321</td></tr>\n",
       "<tr><td>H2O_connection_proxy:</td>\n",
       "<td>{\"http\": null, \"https\": null}</td></tr>\n",
       "<tr><td>H2O_internal_security:</td>\n",
       "<td>False</td></tr>\n",
       "<tr><td>H2O_API_Extensions:</td>\n",
       "<td>Amazon S3, XGBoost, Algos, AutoML, Core V3, TargetEncoder, Core V4</td></tr>\n",
       "<tr><td>Python_version:</td>\n",
       "<td>3.8.8 final</td></tr></table></div>"
      ],
      "text/plain": [
       "--------------------------  ------------------------------------------------------------------\n",
       "H2O_cluster_uptime:         1 day 2 hours 29 mins\n",
       "H2O_cluster_timezone:       America/Los_Angeles\n",
       "H2O_data_parsing_timezone:  UTC\n",
       "H2O_cluster_version:        3.32.0.5\n",
       "H2O_cluster_version_age:    9 days\n",
       "H2O_cluster_name:           H2O_from_python_i803030_8e2syj\n",
       "H2O_cluster_total_nodes:    1\n",
       "H2O_cluster_free_memory:    4.722 Gb\n",
       "H2O_cluster_total_cores:    16\n",
       "H2O_cluster_allowed_cores:  16\n",
       "H2O_cluster_status:         locked, healthy\n",
       "H2O_connection_url:         http://localhost:54321\n",
       "H2O_connection_proxy:       {\"http\": null, \"https\": null}\n",
       "H2O_internal_security:      False\n",
       "H2O_API_Extensions:         Amazon S3, XGBoost, Algos, AutoML, Core V3, TargetEncoder, Core V4\n",
       "Python_version:             3.8.8 final\n",
       "--------------------------  ------------------------------------------------------------------"
      ]
     },
     "metadata": {},
     "output_type": "display_data"
    }
   ],
   "source": [
    "import h2o\n",
    "from h2o.automl import H2OAutoML\n",
    "h2o.init(\n",
    "    nthreads=-1,     \n",
    "    max_mem_size=6\n",
    ")"
   ]
  },
  {
   "cell_type": "code",
   "execution_count": 4131,
   "metadata": {},
   "outputs": [
    {
     "name": "stdout",
     "output_type": "stream",
     "text": [
      "Parse progress: |█████████████████████████████████████████████████████████| 100%\n",
      "Parse progress: |█████████████████████████████████████████████████████████| 100%\n",
      "Rows:24073\n",
      "Cols:110\n",
      "\n",
      "\n"
     ]
    },
    {
     "data": {
      "text/html": [
       "<table>\n",
       "<thead>\n",
       "<tr><th>       </th><th>index             </th><th>query_num_guests  </th><th>query_num_children  </th><th>query_num_infants  </th><th>query_radius      </th><th>query_price_min   </th><th>listing_is_new     </th><th>listing_instant_bookable  </th><th>listing_review_rating  </th><th>listing_review_count  </th><th>listing_num_beds  </th><th>listing_num_bedrooms  </th><th>listing_num_bathrooms  </th><th>listing_person_capacity  </th><th>listing_has_pro_pictures  </th><th>listing_num_recent_reservations  </th><th>listing_location_rating  </th><th>listing_cleanliness_rating  </th><th>listing_checkin_rating  </th><th>listing_value_rating  </th><th>listing_communication_rating  </th><th>listing_accuracy_rating  </th><th>listing_num_books_90day  </th><th>listing_occupancy_rate  </th><th>listing_monthly_discount  </th><th>listing_weekly_discount  </th><th>listing_cleaning_fee  </th><th>listing_monthly_price_factor  </th><th>listing_weekly_price_factor  </th><th>listing_minimum_nights  </th><th>listing_maximum_nights  </th><th>checkin_checkout_days_between  </th><th>search_checkin_days_between  </th><th>distance          </th><th>cum_user_action_per_day  </th><th>query_market_City A  </th><th>query_market_City B  </th><th>search_time_day_name_Friday  </th><th>search_time_day_name_Monday  </th><th>search_time_day_name_Sunday  </th><th>search_time_day_name_Thursday  </th><th>search_time_day_name_Tuesday  </th><th>search_time_day_name_Wednesday  </th><th>checkin_date_day_name_Friday  </th><th>checkin_date_day_name_Monday  </th><th>checkin_date_day_name_Saturday  </th><th>checkin_date_day_name_Sunday  </th><th>checkin_date_day_name_Thursday  </th><th>checkin_date_day_name_Tuesday  </th><th>checkin_date_day_name_Wednesday  </th><th>checkout_date_day_name_Friday  </th><th>checkout_date_day_name_Monday  </th><th>checkout_date_day_name_Saturday  </th><th>checkout_date_day_name_Sunday  </th><th>checkout_date_day_name_Thursday  </th><th>checkout_date_day_name_Tuesday  </th><th>checkout_date_day_name_Wednesday  </th><th>listing_property_type_0.0  </th><th>listing_property_type_1.0  </th><th>listing_property_type_2.0  </th><th>listing_property_type_3.0  </th><th>listing_property_type_4.0  </th><th>listing_property_type_5.0  </th><th>listing_property_type_6.0  </th><th>listing_property_type_8.0  </th><th>listing_property_type_9.0  </th><th>listing_property_type_10.0  </th><th>listing_property_type_11.0  </th><th>listing_property_type_15.0  </th><th>listing_property_type_16.0  </th><th>listing_property_type_17.0  </th><th>listing_property_type_19.0  </th><th>listing_property_type_22.0  </th><th>listing_property_type_23.0  </th><th>listing_property_type_24.0  </th><th>listing_property_type_29.0  </th><th>listing_property_type_32.0  </th><th>listing_property_type_33.0  </th><th>listing_property_type_34.0  </th><th>listing_property_type_35.0  </th><th>listing_property_type_36.0  </th><th>listing_property_type_37.0  </th><th>listing_property_type_38.0  </th><th>listing_property_type_40.0  </th><th>listing_property_type_41.0  </th><th>listing_property_type_42.0  </th><th>listing_property_type_43.0  </th><th>listing_property_type_44.0  </th><th>listing_property_type_45.0  </th><th>listing_property_type_47.0  </th><th>listing_property_type_50.0  </th><th>listing_property_type_52.0  </th><th>listing_property_type_53.0  </th><th>listing_property_type_54.0  </th><th>listing_property_type_56.0  </th><th>listing_property_type_57.0  </th><th>listing_property_type_58.0  </th><th>listing_property_type_60.0  </th><th>listing_property_type_63.0  </th><th>listing_property_type_64.0  </th><th>listing_property_type_65.0  </th><th>listing_property_type_67.0  </th><th>listing_property_type_70.0  </th><th>listing_room_type_Entire Home  </th><th>listing_room_type_Private Room  </th><th>listing_room_type_Shared Room  </th><th>log_price_per_day  </th><th>log_query_price_max  </th><th>log_cleaning_fee_per_day  </th><th>booked  </th></tr>\n",
       "</thead>\n",
       "<tbody>\n",
       "<tr><td>type   </td><td>int               </td><td>int               </td><td>int                 </td><td>int                </td><td>real              </td><td>int               </td><td>int                </td><td>int                       </td><td>real                   </td><td>int                   </td><td>int               </td><td>int                   </td><td>real                   </td><td>int                      </td><td>int                       </td><td>int                              </td><td>real                     </td><td>real                        </td><td>real                    </td><td>real                  </td><td>real                          </td><td>real                     </td><td>int                      </td><td>real                    </td><td>int                       </td><td>int                      </td><td>real                  </td><td>real                          </td><td>real                         </td><td>int                     </td><td>int                     </td><td>int                            </td><td>int                          </td><td>real              </td><td>int                      </td><td>int                  </td><td>int                  </td><td>int                          </td><td>int                          </td><td>int                          </td><td>int                            </td><td>int                           </td><td>int                             </td><td>int                           </td><td>int                           </td><td>int                             </td><td>int                           </td><td>int                             </td><td>int                            </td><td>int                              </td><td>int                            </td><td>int                            </td><td>int                              </td><td>int                            </td><td>int                              </td><td>int                             </td><td>int                               </td><td>int                        </td><td>int                        </td><td>int                        </td><td>int                        </td><td>int                        </td><td>int                        </td><td>int                        </td><td>int                        </td><td>int                        </td><td>int                         </td><td>int                         </td><td>int                         </td><td>int                         </td><td>int                         </td><td>int                         </td><td>int                         </td><td>int                         </td><td>int                         </td><td>int                         </td><td>int                         </td><td>int                         </td><td>int                         </td><td>int                         </td><td>int                         </td><td>int                         </td><td>int                         </td><td>int                         </td><td>int                         </td><td>int                         </td><td>int                         </td><td>int                         </td><td>int                         </td><td>int                         </td><td>int                         </td><td>int                         </td><td>int                         </td><td>int                         </td><td>int                         </td><td>int                         </td><td>int                         </td><td>int                         </td><td>int                         </td><td>int                         </td><td>int                         </td><td>int                         </td><td>int                         </td><td>int                            </td><td>int                             </td><td>int                            </td><td>real               </td><td>real                 </td><td>real                      </td><td>enum    </td></tr>\n",
       "<tr><td>mins   </td><td>2.0               </td><td>0.0               </td><td>0.0                 </td><td>0.0                </td><td>0.0               </td><td>0.0               </td><td>0.0                </td><td>0.0                       </td><td>0.0                    </td><td>0.0                   </td><td>0.0               </td><td>0.0                   </td><td>0.0                    </td><td>0.0                      </td><td>0.0                       </td><td>0.0                              </td><td>0.0                      </td><td>0.0                         </td><td>0.0                     </td><td>0.0                   </td><td>0.0                           </td><td>0.0                      </td><td>0.0                      </td><td>0.0                     </td><td>0.0                       </td><td>0.0                      </td><td>0.0                   </td><td>0.2206628190197833            </td><td>0.2991225699760877           </td><td>0.0                     </td><td>1.0                     </td><td>1.0                            </td><td>0.0                          </td><td>0.0               </td><td>0.0                      </td><td>0.0                  </td><td>0.0                  </td><td>0.0                          </td><td>0.0                          </td><td>0.0                          </td><td>0.0                            </td><td>0.0                           </td><td>0.0                             </td><td>0.0                           </td><td>0.0                           </td><td>0.0                             </td><td>0.0                           </td><td>0.0                             </td><td>0.0                            </td><td>0.0                              </td><td>0.0                            </td><td>0.0                            </td><td>0.0                              </td><td>0.0                            </td><td>0.0                              </td><td>0.0                             </td><td>0.0                               </td><td>0.0                        </td><td>0.0                        </td><td>0.0                        </td><td>0.0                        </td><td>0.0                        </td><td>0.0                        </td><td>0.0                        </td><td>0.0                        </td><td>0.0                        </td><td>0.0                         </td><td>0.0                         </td><td>0.0                         </td><td>0.0                         </td><td>0.0                         </td><td>0.0                         </td><td>0.0                         </td><td>0.0                         </td><td>0.0                         </td><td>0.0                         </td><td>0.0                         </td><td>0.0                         </td><td>0.0                         </td><td>0.0                         </td><td>0.0                         </td><td>0.0                         </td><td>0.0                         </td><td>0.0                         </td><td>0.0                         </td><td>0.0                         </td><td>0.0                         </td><td>0.0                         </td><td>0.0                         </td><td>0.0                         </td><td>0.0                         </td><td>0.0                         </td><td>0.0                         </td><td>0.0                         </td><td>0.0                         </td><td>0.0                         </td><td>0.0                         </td><td>0.0                         </td><td>0.0                         </td><td>0.0                         </td><td>0.0                         </td><td>0.0                         </td><td>0.0                         </td><td>0.0                            </td><td>0.0                             </td><td>0.0                            </td><td>1.3564317492220133 </td><td>1.3564317492220133   </td><td>0.0                       </td><td>        </td></tr>\n",
       "<tr><td>mean   </td><td>89548.65492460437 </td><td>2.463423752752049 </td><td>0.15232833464877665 </td><td>0.04486354006563366</td><td>11.898760613437966</td><td>4.3647239646076486</td><td>0.15639928550658413</td><td>0.6383500186931417        </td><td>3.7867642399368564     </td><td>23.715573464046848    </td><td>2.5845137706143726</td><td>1.4084243758567678    </td><td>1.474868109500271      </td><td>4.18601753001287         </td><td>0.06783533419183317       </td><td>0.02641964026087318              </td><td>3.790727652789436        </td><td>3.6931740530137547          </td><td>3.812921242005561       </td><td>3.6609608881776237    </td><td>3.8072399333984106            </td><td>3.7662239411706104       </td><td>5.870851161051806        </td><td>0.328046615620623       </td><td>0.595189631537407         </td><td>0.583433722427616        </td><td>33.233810885305516    </td><td>0.8144687894819371            </td><td>0.9180219812806373           </td><td>2.2831803265068777      </td><td>42241.65388609636       </td><td>7.18788684418228               </td><td>44.21048477547467            </td><td>5.505149097349404 </td><td>26.722053753167405       </td><td>0.7310264611805758   </td><td>0.26897353881942426  </td><td>0.1611764217172766           </td><td>0.23769368171810742          </td><td>0.16632742076184936          </td><td>0.15864246250986583            </td><td>0.13151663689610768           </td><td>0.1446433763967931              </td><td>0.2164665808166826            </td><td>0.12283471108711004           </td><td>0.16749054957836582             </td><td>0.11843143771029785           </td><td>0.1483404644207203              </td><td>0.10015369916503968            </td><td>0.12628255722178375              </td><td>0.1107464794583143             </td><td>0.1700245087857766             </td><td>0.10364308561458896              </td><td>0.18718065882939391            </td><td>0.13139201595148092              </td><td>0.14227557844888464             </td><td>0.15473767291156068               </td><td>0.00012462094462676026     </td><td>0.7211814065550617         </td><td>0.08366219415943173        </td><td>0.005234079674323932       </td><td>0.000996967557014082       </td><td>8.308062975117352e-05      </td><td>0.0                        </td><td>0.00041540314875586755     </td><td>4.154031487558676e-05      </td><td>0.0                         </td><td>0.0011215885016408423       </td><td>0.0                         </td><td>0.0002907822041291073       </td><td>0.0                         </td><td>4.154031487558676e-05       </td><td>0.0019108544842769907       </td><td>0.0012877497611431894       </td><td>4.154031487558675e-05       </td><td>4.154031487558676e-05       </td><td>0.0                         </td><td>0.002409338262784032        </td><td>0.0002492418892535205       </td><td>0.041291072986333235        </td><td>0.0034893864495492877       </td><td>0.048976031238316786        </td><td>0.000664645038009388        </td><td>0.007768038881734724        </td><td>4.154031487558676e-05       </td><td>0.001703152909899057        </td><td>0.0006646450380093881       </td><td>0.00012462094462676026      </td><td>0.005691023137955386        </td><td>0.05342084493000457         </td><td>4.154031487558676e-05       </td><td>4.154031487558676e-05       </td><td>0.00959581273626054         </td><td>0.000996967557014082        </td><td>0.0021185560586549244       </td><td>0.0                         </td><td>0.00012462094462676026      </td><td>0.0028662817264154864       </td><td>0.00033232251900469406      </td><td>4.154031487558676e-05       </td><td>0.0                         </td><td>0.0008723466123873219       </td><td>0.0                         </td><td>0.8068790761433972             </td><td>0.17766792672288456             </td><td>0.015452997133718274           </td><td>4.096030429226919  </td><td>5.394489839388954    </td><td>1.9244473532739839        </td><td>        </td></tr>\n",
       "<tr><td>maxs   </td><td>177582.0          </td><td>17.0              </td><td>5.0                 </td><td>3.0                </td><td>1487.1038291785862</td><td>961.0             </td><td>1.0                </td><td>1.0                       </td><td>5.0                    </td><td>317.0                 </td><td>50.0              </td><td>45.0                  </td><td>20.0                   </td><td>17.0                     </td><td>1.0                       </td><td>1.0                              </td><td>5.0                      </td><td>5.0                         </td><td>5.0                     </td><td>5.0                   </td><td>5.0                           </td><td>5.0                      </td><td>57.0                     </td><td>1.0097218623058477      </td><td>1.0                       </td><td>1.0                      </td><td>757.6091939752802     </td><td>1.0058714221822658            </td><td>1.0028725484238226           </td><td>89.0                    </td><td>1000000000.0            </td><td>274.0                          </td><td>460.0                        </td><td>1601.3298918875485</td><td>380.0                    </td><td>1.0                  </td><td>1.0                  </td><td>1.0                          </td><td>1.0                          </td><td>1.0                          </td><td>1.0                            </td><td>1.0                           </td><td>1.0                             </td><td>1.0                           </td><td>1.0                           </td><td>1.0                             </td><td>1.0                           </td><td>1.0                             </td><td>1.0                            </td><td>1.0                              </td><td>1.0                            </td><td>1.0                            </td><td>1.0                              </td><td>1.0                            </td><td>1.0                              </td><td>1.0                             </td><td>1.0                               </td><td>1.0                        </td><td>1.0                        </td><td>1.0                        </td><td>1.0                        </td><td>1.0                        </td><td>1.0                        </td><td>0.0                        </td><td>1.0                        </td><td>1.0                        </td><td>0.0                         </td><td>1.0                         </td><td>0.0                         </td><td>1.0                         </td><td>0.0                         </td><td>1.0                         </td><td>1.0                         </td><td>1.0                         </td><td>1.0                         </td><td>1.0                         </td><td>0.0                         </td><td>1.0                         </td><td>1.0                         </td><td>1.0                         </td><td>1.0                         </td><td>1.0                         </td><td>1.0                         </td><td>1.0                         </td><td>1.0                         </td><td>1.0                         </td><td>1.0                         </td><td>1.0                         </td><td>1.0                         </td><td>1.0                         </td><td>1.0                         </td><td>1.0                         </td><td>1.0                         </td><td>1.0                         </td><td>1.0                         </td><td>0.0                         </td><td>1.0                         </td><td>1.0                         </td><td>1.0                         </td><td>1.0                         </td><td>0.0                         </td><td>1.0                         </td><td>0.0                         </td><td>1.0                            </td><td>1.0                             </td><td>1.0                            </td><td>6.812431185207976  </td><td>20.790924486354804   </td><td>6.516676445403693         </td><td>        </td></tr>\n",
       "<tr><td>sigma  </td><td>51257.226659781474</td><td>1.7244556485292737</td><td>0.5010130977954912  </td><td>0.21527218667069944</td><td>43.45569488820929 </td><td>28.086664800176763</td><td>0.36324100814220595</td><td>0.48048815041877835       </td><td>1.9354963613574019     </td><td>37.772555283981944    </td><td>2.346963584372604 </td><td>1.08641975789883      </td><td>0.9113518969567831     </td><td>2.4784968675304033       </td><td>0.2514683448943669        </td><td>0.16038301468325813              </td><td>2.026904400010454        </td><td>1.990640810605844           </td><td>2.0375795281954403      </td><td>1.9675501738764312    </td><td>2.0352785506186692            </td><td>2.0175184381806144       </td><td>7.331307339683326        </td><td>0.3080763883487356      </td><td>0.4908655041279024        </td><td>0.4929999090163558       </td><td>21.645346709915636    </td><td>0.13043828091398788           </td><td>0.06526673731244854          </td><td>2.154359809670427       </td><td>6445173.545380392       </td><td>11.313112155307856             </td><td>46.5186171460228             </td><td>32.884176708406386</td><td>31.505813543558542       </td><td>0.4434353870766376   </td><td>0.44343538707663754  </td><td>0.3677012363654758           </td><td>0.42567936597380457          </td><td>0.37238202184359165          </td><td>0.3653499369424416             </td><td>0.3379715314164462            </td><td>0.35174821920226224             </td><td>0.41184444405852094           </td><td>0.32825420156074486           </td><td>0.3734210196241544              </td><td>0.32312500597581467           </td><td>0.355444537549221               </td><td>0.3002110584226498             </td><td>0.33217443687871834              </td><td>0.31382445391738134            </td><td>0.37566213204394666            </td><td>0.304803306616159                </td><td>0.3900645846065603             </td><td>0.3378356038254279               </td><td>0.34933981699149347             </td><td>0.3616619401319849                </td><td>0.011162911385928466       </td><td>0.4484274061845241         </td><td>0.27688628741473054        </td><td>0.07215885517778185        </td><td>0.03155970512347263        </td><td>0.009114668310601537       </td><td>0.0                        </td><td>0.02037763083643028        </td><td>0.006445177644998371       </td><td>0.0                         </td><td>0.03347203432255922         </td><td>0.0                         </td><td>0.017050211905205902        </td><td>0.0                         </td><td>0.006445177644998371        </td><td>0.04367244381215945         </td><td>0.03586286224717028         </td><td>0.006445177644998371        </td><td>0.006445177644998371        </td><td>0.0                         </td><td>0.04902686202072771         </td><td>0.015785756845022543        </td><td>0.19896674286469118         </td><td>0.05896910277577604         </td><td>0.21582241431754057         </td><td>0.025772676953367348        </td><td>0.08779531107698844         </td><td>0.006445177644998371        </td><td>0.041234970740981015        </td><td>0.025772676953367348        </td><td>0.011162911385928466        </td><td>0.07522546420501235         </td><td>0.22487587446356566         </td><td>0.006445177644998371        </td><td>0.006445177644998371        </td><td>0.09748911692418555         </td><td>0.03155970512347263         </td><td>0.045979947820442846        </td><td>0.0                         </td><td>0.011162911385928466        </td><td>0.05346199477554513         </td><td>0.01822706453370329         </td><td>0.006445177644998371        </td><td>0.0                         </td><td>0.029523242220672506        </td><td>0.0                         </td><td>0.39475524812661666            </td><td>0.382240897751037               </td><td>0.12334842537422383            </td><td>0.8549709713762716 </td><td>1.9987839093976085   </td><td>0.8740993285899626        </td><td>        </td></tr>\n",
       "<tr><td>zeros  </td><td>0                 </td><td>447               </td><td>21579               </td><td>23032              </td><td>2377              </td><td>22742             </td><td>20308              </td><td>8706                      </td><td>4905                   </td><td>4735                  </td><td>247               </td><td>2607                  </td><td>413                    </td><td>25                       </td><td>22440                     </td><td>23437                            </td><td>5300                     </td><td>5293                        </td><td>5299                    </td><td>5300                  </td><td>5298                          </td><td>5295                     </td><td>5418                     </td><td>3039                    </td><td>9745                      </td><td>10028                    </td><td>809                   </td><td>0                             </td><td>0                            </td><td>209                     </td><td>0                       </td><td>0                              </td><td>635                          </td><td>5388              </td><td>904                      </td><td>6475                 </td><td>17598                </td><td>20193                        </td><td>18351                        </td><td>20069                        </td><td>20254                          </td><td>20907                         </td><td>20591                           </td><td>18862                         </td><td>21116                         </td><td>20041                           </td><td>21222                         </td><td>20502                           </td><td>21662                          </td><td>21033                            </td><td>21407                          </td><td>19980                          </td><td>21578                            </td><td>19567                          </td><td>20910                            </td><td>20648                           </td><td>20348                             </td><td>24070                      </td><td>6712                       </td><td>22059                      </td><td>23947                      </td><td>24049                      </td><td>24071                      </td><td>24073                      </td><td>24063                      </td><td>24072                      </td><td>24073                       </td><td>24046                       </td><td>24073                       </td><td>24066                       </td><td>24073                       </td><td>24072                       </td><td>24027                       </td><td>24042                       </td><td>24072                       </td><td>24072                       </td><td>24073                       </td><td>24015                       </td><td>24067                       </td><td>23079                       </td><td>23989                       </td><td>22894                       </td><td>24057                       </td><td>23886                       </td><td>24072                       </td><td>24032                       </td><td>24057                       </td><td>24070                       </td><td>23936                       </td><td>22787                       </td><td>24072                       </td><td>24072                       </td><td>23842                       </td><td>24049                       </td><td>24022                       </td><td>24073                       </td><td>24070                       </td><td>24004                       </td><td>24065                       </td><td>24072                       </td><td>24073                       </td><td>24052                       </td><td>24073                       </td><td>4649                           </td><td>19796                           </td><td>23701                          </td><td>0                  </td><td>0                    </td><td>809                       </td><td>        </td></tr>\n",
       "<tr><td>missing</td><td>0                 </td><td>0                 </td><td>0                   </td><td>0                  </td><td>0                 </td><td>0                 </td><td>0                  </td><td>0                         </td><td>0                      </td><td>0                     </td><td>0                 </td><td>0                     </td><td>0                      </td><td>0                        </td><td>0                         </td><td>0                                </td><td>0                        </td><td>0                           </td><td>0                       </td><td>0                     </td><td>0                             </td><td>0                        </td><td>0                        </td><td>0                       </td><td>0                         </td><td>0                        </td><td>0                     </td><td>0                             </td><td>0                            </td><td>0                       </td><td>0                       </td><td>0                              </td><td>0                            </td><td>0                 </td><td>0                        </td><td>0                    </td><td>0                    </td><td>0                            </td><td>0                            </td><td>0                            </td><td>0                              </td><td>0                             </td><td>0                               </td><td>0                             </td><td>0                             </td><td>0                               </td><td>0                             </td><td>0                               </td><td>0                              </td><td>0                                </td><td>0                              </td><td>0                              </td><td>0                                </td><td>0                              </td><td>0                                </td><td>0                               </td><td>0                                 </td><td>0                          </td><td>0                          </td><td>0                          </td><td>0                          </td><td>0                          </td><td>0                          </td><td>0                          </td><td>0                          </td><td>0                          </td><td>0                           </td><td>0                           </td><td>0                           </td><td>0                           </td><td>0                           </td><td>0                           </td><td>0                           </td><td>0                           </td><td>0                           </td><td>0                           </td><td>0                           </td><td>0                           </td><td>0                           </td><td>0                           </td><td>0                           </td><td>0                           </td><td>0                           </td><td>0                           </td><td>0                           </td><td>0                           </td><td>0                           </td><td>0                           </td><td>0                           </td><td>0                           </td><td>0                           </td><td>0                           </td><td>0                           </td><td>0                           </td><td>0                           </td><td>0                           </td><td>0                           </td><td>0                           </td><td>0                           </td><td>0                           </td><td>0                           </td><td>0                           </td><td>0                           </td><td>0                              </td><td>0                               </td><td>0                              </td><td>0                  </td><td>0                    </td><td>0                         </td><td>0       </td></tr>\n",
       "<tr><td>0      </td><td>10746.0           </td><td>2.0               </td><td>0.0                 </td><td>0.0                </td><td>4.318174936245933 </td><td>0.0               </td><td>0.0                </td><td>1.0                       </td><td>4.72                   </td><td>8.0                   </td><td>2.0               </td><td>1.0                   </td><td>1.0                    </td><td>4.0                      </td><td>0.0                       </td><td>0.0                              </td><td>5.0                      </td><td>4.75                        </td><td>4.875                   </td><td>4.875                 </td><td>4.875                         </td><td>5.0                      </td><td>2.0                      </td><td>0.6102826670540885      </td><td>1.0                       </td><td>1.0                      </td><td>22.43705532635001     </td><td>0.9004473340359707            </td><td>0.9302188547578526           </td><td>1.0                     </td><td>16.0                    </td><td>2.0                            </td><td>7.0                          </td><td>1.5113994087240934</td><td>32.0                     </td><td>1.0                  </td><td>0.0                  </td><td>1.0                          </td><td>0.0                          </td><td>0.0                          </td><td>0.0                            </td><td>0.0                           </td><td>0.0                             </td><td>1.0                           </td><td>0.0                           </td><td>0.0                             </td><td>0.0                           </td><td>0.0                             </td><td>0.0                            </td><td>0.0                              </td><td>0.0                            </td><td>0.0                            </td><td>0.0                              </td><td>1.0                            </td><td>0.0                              </td><td>0.0                             </td><td>0.0                               </td><td>0.0                        </td><td>0.0                        </td><td>0.0                        </td><td>0.0                        </td><td>0.0                        </td><td>0.0                        </td><td>0.0                        </td><td>0.0                        </td><td>0.0                        </td><td>0.0                         </td><td>0.0                         </td><td>0.0                         </td><td>0.0                         </td><td>0.0                         </td><td>0.0                         </td><td>0.0                         </td><td>0.0                         </td><td>0.0                         </td><td>0.0                         </td><td>0.0                         </td><td>0.0                         </td><td>0.0                         </td><td>0.0                         </td><td>0.0                         </td><td>0.0                         </td><td>0.0                         </td><td>0.0                         </td><td>0.0                         </td><td>0.0                         </td><td>0.0                         </td><td>0.0                         </td><td>0.0                         </td><td>1.0                         </td><td>0.0                         </td><td>0.0                         </td><td>0.0                         </td><td>0.0                         </td><td>0.0                         </td><td>0.0                         </td><td>0.0                         </td><td>0.0                         </td><td>0.0                         </td><td>0.0                         </td><td>0.0                         </td><td>0.0                         </td><td>0.0                         </td><td>1.0                            </td><td>0.0                             </td><td>0.0                            </td><td>3.856803011367134  </td><td>4.539326226196539    </td><td>2.502953460655889         </td><td>1       </td></tr>\n",
       "<tr><td>1      </td><td>70114.0           </td><td>2.0               </td><td>0.0                 </td><td>0.0                </td><td>23.79201476276368 </td><td>0.0               </td><td>0.0                </td><td>0.0                       </td><td>4.931034599999999      </td><td>6.0                   </td><td>2.0               </td><td>1.0                   </td><td>1.0                    </td><td>4.0                      </td><td>0.0                       </td><td>0.0                              </td><td>4.983051000000001        </td><td>4.8644066                   </td><td>4.983051000000001       </td><td>4.7966104000000005    </td><td>4.9661016                     </td><td>4.9491525                </td><td>21.0                     </td><td>0.6341820586775567      </td><td>1.0                       </td><td>1.0                      </td><td>39.17498091386595     </td><td>0.6999489214785828            </td><td>0.8999750102238209           </td><td>1.0                     </td><td>90.0                    </td><td>2.0                            </td><td>21.0                         </td><td>5.580430950169008 </td><td>12.0                     </td><td>1.0                  </td><td>0.0                  </td><td>0.0                          </td><td>1.0                          </td><td>0.0                          </td><td>0.0                            </td><td>0.0                           </td><td>0.0                             </td><td>0.0                           </td><td>1.0                           </td><td>0.0                             </td><td>0.0                           </td><td>0.0                             </td><td>0.0                            </td><td>0.0                              </td><td>0.0                            </td><td>0.0                            </td><td>0.0                              </td><td>0.0                            </td><td>0.0                              </td><td>0.0                             </td><td>1.0                               </td><td>0.0                        </td><td>1.0                        </td><td>0.0                        </td><td>0.0                        </td><td>0.0                        </td><td>0.0                        </td><td>0.0                        </td><td>0.0                        </td><td>0.0                        </td><td>0.0                         </td><td>0.0                         </td><td>0.0                         </td><td>0.0                         </td><td>0.0                         </td><td>0.0                         </td><td>0.0                         </td><td>0.0                         </td><td>0.0                         </td><td>0.0                         </td><td>0.0                         </td><td>0.0                         </td><td>0.0                         </td><td>0.0                         </td><td>0.0                         </td><td>0.0                         </td><td>0.0                         </td><td>0.0                         </td><td>0.0                         </td><td>0.0                         </td><td>0.0                         </td><td>0.0                         </td><td>0.0                         </td><td>0.0                         </td><td>0.0                         </td><td>0.0                         </td><td>0.0                         </td><td>0.0                         </td><td>0.0                         </td><td>0.0                         </td><td>0.0                         </td><td>0.0                         </td><td>0.0                         </td><td>0.0                         </td><td>0.0                         </td><td>0.0                         </td><td>0.0                         </td><td>1.0                            </td><td>0.0                             </td><td>0.0                            </td><td>3.95727925182764   </td><td>4.248495242049359    </td><td>3.024683631966698         </td><td>0       </td></tr>\n",
       "<tr><td>2      </td><td>154975.0          </td><td>3.0               </td><td>0.0                 </td><td>0.0                </td><td>25.03837687483233 </td><td>0.0               </td><td>1.0                </td><td>1.0                       </td><td>0.0                    </td><td>0.0                   </td><td>2.0               </td><td>2.0                   </td><td>3.0                    </td><td>4.0                      </td><td>0.0                       </td><td>0.0                              </td><td>0.0                      </td><td>0.0                         </td><td>0.0                     </td><td>0.0                   </td><td>0.0                           </td><td>0.0                      </td><td>0.0                      </td><td>0.0001240717744834      </td><td>0.0                       </td><td>0.0                      </td><td>32.656440936562845    </td><td>0.8114367506025689            </td><td>0.9196054670260624           </td><td>2.0                     </td><td>1125.0                  </td><td>4.0                            </td><td>69.0                         </td><td>4.896723057571955 </td><td>0.0                      </td><td>1.0                  </td><td>0.0                  </td><td>0.0                          </td><td>0.0                          </td><td>0.0                          </td><td>1.0                            </td><td>0.0                           </td><td>0.0                             </td><td>0.0                           </td><td>0.0                           </td><td>0.0                             </td><td>0.0                           </td><td>0.0                             </td><td>0.0                            </td><td>1.0                              </td><td>0.0                            </td><td>0.0                            </td><td>0.0                              </td><td>1.0                            </td><td>0.0                              </td><td>0.0                             </td><td>0.0                               </td><td>0.0                        </td><td>1.0                        </td><td>0.0                        </td><td>0.0                        </td><td>0.0                        </td><td>0.0                        </td><td>0.0                        </td><td>0.0                        </td><td>0.0                        </td><td>0.0                         </td><td>0.0                         </td><td>0.0                         </td><td>0.0                         </td><td>0.0                         </td><td>0.0                         </td><td>0.0                         </td><td>0.0                         </td><td>0.0                         </td><td>0.0                         </td><td>0.0                         </td><td>0.0                         </td><td>0.0                         </td><td>0.0                         </td><td>0.0                         </td><td>0.0                         </td><td>0.0                         </td><td>0.0                         </td><td>0.0                         </td><td>0.0                         </td><td>0.0                         </td><td>0.0                         </td><td>0.0                         </td><td>0.0                         </td><td>0.0                         </td><td>0.0                         </td><td>0.0                         </td><td>0.0                         </td><td>0.0                         </td><td>0.0                         </td><td>0.0                         </td><td>0.0                         </td><td>0.0                         </td><td>0.0                         </td><td>0.0                         </td><td>0.0                         </td><td>0.0                         </td><td>1.0                            </td><td>0.0                             </td><td>0.0                            </td><td>3.7757075168132297 </td><td>5.144661752166551    </td><td>2.2152947935608815        </td><td>0       </td></tr>\n",
       "<tr><td>3      </td><td>147033.0          </td><td>2.0               </td><td>0.0                 </td><td>0.0                </td><td>0.0               </td><td>0.0               </td><td>0.0                </td><td>1.0                       </td><td>4.7419353              </td><td>62.0                  </td><td>2.0               </td><td>1.0                   </td><td>1.0                    </td><td>4.0                      </td><td>0.0                       </td><td>0.0                              </td><td>5.0                      </td><td>4.629032                    </td><td>4.918032599999999       </td><td>4.7377048             </td><td>4.918032599999999             </td><td>4.6885247                </td><td>10.0                     </td><td>0.4101967551239671      </td><td>0.0                       </td><td>0.0                      </td><td>44.61542518826752     </td><td>0.9979459023497012            </td><td>0.9989950484253092           </td><td>1.0                     </td><td>1125.0                  </td><td>5.0                            </td><td>23.0                         </td><td>1.1119492664451645</td><td>29.0                     </td><td>1.0                  </td><td>0.0                  </td><td>0.0                          </td><td>1.0                          </td><td>0.0                          </td><td>0.0                            </td><td>0.0                           </td><td>0.0                             </td><td>0.0                           </td><td>0.0                           </td><td>0.0                             </td><td>0.0                           </td><td>0.0                             </td><td>0.0                            </td><td>1.0                              </td><td>0.0                            </td><td>1.0                            </td><td>0.0                              </td><td>0.0                            </td><td>0.0                              </td><td>0.0                             </td><td>0.0                               </td><td>0.0                        </td><td>1.0                        </td><td>0.0                        </td><td>0.0                        </td><td>0.0                        </td><td>0.0                        </td><td>0.0                        </td><td>0.0                        </td><td>0.0                        </td><td>0.0                         </td><td>0.0                         </td><td>0.0                         </td><td>0.0                         </td><td>0.0                         </td><td>0.0                         </td><td>0.0                         </td><td>0.0                         </td><td>0.0                         </td><td>0.0                         </td><td>0.0                         </td><td>0.0                         </td><td>0.0                         </td><td>0.0                         </td><td>0.0                         </td><td>0.0                         </td><td>0.0                         </td><td>0.0                         </td><td>0.0                         </td><td>0.0                         </td><td>0.0                         </td><td>0.0                         </td><td>0.0                         </td><td>0.0                         </td><td>0.0                         </td><td>0.0                         </td><td>0.0                         </td><td>0.0                         </td><td>0.0                         </td><td>0.0                         </td><td>0.0                         </td><td>0.0                         </td><td>0.0                         </td><td>0.0                         </td><td>0.0                         </td><td>0.0                         </td><td>0.0                         </td><td>1.0                            </td><td>0.0                             </td><td>0.0                            </td><td>4.12431100541663   </td><td>6.606650186198215    </td><td>2.2948638646478283        </td><td>0       </td></tr>\n",
       "<tr><td>4      </td><td>75145.0           </td><td>3.0               </td><td>0.0                 </td><td>0.0                </td><td>0.6653234004494555</td><td>0.0               </td><td>1.0                </td><td>0.0                       </td><td>0.0                    </td><td>0.0                   </td><td>1.0               </td><td>1.0                   </td><td>1.0                    </td><td>4.0                      </td><td>0.0                       </td><td>0.0                              </td><td>0.0                      </td><td>0.0                         </td><td>0.0                     </td><td>0.0                   </td><td>0.0                           </td><td>0.0                      </td><td>0.0                      </td><td>0.0008769521839053      </td><td>0.0                       </td><td>0.0                      </td><td>29.21975923525358     </td><td>0.8114367506025689            </td><td>0.9196054670260624           </td><td>2.0                     </td><td>30.0                    </td><td>2.0                            </td><td>12.0                         </td><td>0.0               </td><td>33.0                     </td><td>1.0                  </td><td>0.0                  </td><td>0.0                          </td><td>0.0                          </td><td>0.0                          </td><td>1.0                            </td><td>0.0                           </td><td>0.0                             </td><td>0.0                           </td><td>0.0                           </td><td>0.0                             </td><td>0.0                           </td><td>0.0                             </td><td>1.0                            </td><td>0.0                              </td><td>0.0                            </td><td>0.0                            </td><td>0.0                              </td><td>0.0                            </td><td>1.0                              </td><td>0.0                             </td><td>0.0                               </td><td>0.0                        </td><td>1.0                        </td><td>0.0                        </td><td>0.0                        </td><td>0.0                        </td><td>0.0                        </td><td>0.0                        </td><td>0.0                        </td><td>0.0                        </td><td>0.0                         </td><td>0.0                         </td><td>0.0                         </td><td>0.0                         </td><td>0.0                         </td><td>0.0                         </td><td>0.0                         </td><td>0.0                         </td><td>0.0                         </td><td>0.0                         </td><td>0.0                         </td><td>0.0                         </td><td>0.0                         </td><td>0.0                         </td><td>0.0                         </td><td>0.0                         </td><td>0.0                         </td><td>0.0                         </td><td>0.0                         </td><td>0.0                         </td><td>0.0                         </td><td>0.0                         </td><td>0.0                         </td><td>0.0                         </td><td>0.0                         </td><td>0.0                         </td><td>0.0                         </td><td>0.0                         </td><td>0.0                         </td><td>0.0                         </td><td>0.0                         </td><td>0.0                         </td><td>0.0                         </td><td>0.0                         </td><td>0.0                         </td><td>0.0                         </td><td>0.0                         </td><td>1.0                            </td><td>0.0                             </td><td>0.0                            </td><td>5.634620343761204  </td><td>6.325979910931743    </td><td>2.7479040226223184        </td><td>0       </td></tr>\n",
       "<tr><td>5      </td><td>81886.0           </td><td>1.0               </td><td>0.0                 </td><td>0.0                </td><td>26.63105173827488 </td><td>0.0               </td><td>0.0                </td><td>0.0                       </td><td>4.72                   </td><td>55.0                  </td><td>1.0               </td><td>1.0                   </td><td>1.0                    </td><td>4.0                      </td><td>0.0                       </td><td>0.0                              </td><td>4.946429                 </td><td>4.892857                    </td><td>4.964286                </td><td>4.892857              </td><td>4.8727274000000005            </td><td>4.909091                 </td><td>21.0                     </td><td>0.1814637493460498      </td><td>0.0                       </td><td>0.0                      </td><td>19.13995762156093     </td><td>0.8114367506025689            </td><td>0.9196054670260624           </td><td>1.0                     </td><td>30.0                    </td><td>2.0                            </td><td>7.0                          </td><td>6.749823455485879 </td><td>6.0                      </td><td>1.0                  </td><td>0.0                  </td><td>0.0                          </td><td>0.0                          </td><td>0.0                          </td><td>0.0                            </td><td>1.0                           </td><td>0.0                             </td><td>0.0                           </td><td>0.0                           </td><td>0.0                             </td><td>0.0                           </td><td>0.0                             </td><td>1.0                            </td><td>0.0                              </td><td>0.0                            </td><td>0.0                            </td><td>0.0                              </td><td>0.0                            </td><td>1.0                              </td><td>0.0                             </td><td>0.0                               </td><td>0.0                        </td><td>0.0                        </td><td>0.0                        </td><td>0.0                        </td><td>0.0                        </td><td>0.0                        </td><td>0.0                        </td><td>0.0                        </td><td>0.0                        </td><td>0.0                         </td><td>0.0                         </td><td>0.0                         </td><td>0.0                         </td><td>0.0                         </td><td>0.0                         </td><td>0.0                         </td><td>0.0                         </td><td>0.0                         </td><td>0.0                         </td><td>0.0                         </td><td>0.0                         </td><td>0.0                         </td><td>0.0                         </td><td>0.0                         </td><td>1.0                         </td><td>0.0                         </td><td>0.0                         </td><td>0.0                         </td><td>0.0                         </td><td>0.0                         </td><td>0.0                         </td><td>0.0                         </td><td>0.0                         </td><td>0.0                         </td><td>0.0                         </td><td>0.0                         </td><td>0.0                         </td><td>0.0                         </td><td>0.0                         </td><td>0.0                         </td><td>0.0                         </td><td>0.0                         </td><td>0.0                         </td><td>0.0                         </td><td>0.0                         </td><td>0.0                         </td><td>1.0                            </td><td>0.0                             </td><td>0.0                            </td><td>4.179204050419408  </td><td>3.9889840465642745   </td><td>2.358017795223606         </td><td>0       </td></tr>\n",
       "<tr><td>6      </td><td>175602.0          </td><td>1.0               </td><td>0.0                 </td><td>0.0                </td><td>4.451430947355603 </td><td>0.0               </td><td>0.0                </td><td>1.0                       </td><td>4.825                  </td><td>40.0                  </td><td>1.0               </td><td>0.0                   </td><td>1.0                    </td><td>2.0                      </td><td>0.0                       </td><td>0.0                              </td><td>4.9512196                </td><td>4.707317                    </td><td>4.8292685               </td><td>4.780488              </td><td>4.878049                      </td><td>4.878049                 </td><td>14.0                     </td><td>0.8222812370933194      </td><td>0.0                       </td><td>0.0                      </td><td>30.37069081625847     </td><td>0.8114367506025689            </td><td>0.9196054670260624           </td><td>1.0                     </td><td>1125.0                  </td><td>1.0                            </td><td>11.0                         </td><td>1.1119492664455182</td><td>5.0                      </td><td>1.0                  </td><td>0.0                  </td><td>0.0                          </td><td>1.0                          </td><td>0.0                          </td><td>0.0                            </td><td>0.0                           </td><td>0.0                             </td><td>1.0                           </td><td>0.0                           </td><td>0.0                             </td><td>0.0                           </td><td>0.0                             </td><td>0.0                            </td><td>0.0                              </td><td>0.0                            </td><td>0.0                            </td><td>1.0                              </td><td>0.0                            </td><td>0.0                              </td><td>0.0                             </td><td>0.0                               </td><td>0.0                        </td><td>1.0                        </td><td>0.0                        </td><td>0.0                        </td><td>0.0                        </td><td>0.0                        </td><td>0.0                        </td><td>0.0                        </td><td>0.0                        </td><td>0.0                         </td><td>0.0                         </td><td>0.0                         </td><td>0.0                         </td><td>0.0                         </td><td>0.0                         </td><td>0.0                         </td><td>0.0                         </td><td>0.0                         </td><td>0.0                         </td><td>0.0                         </td><td>0.0                         </td><td>0.0                         </td><td>0.0                         </td><td>0.0                         </td><td>0.0                         </td><td>0.0                         </td><td>0.0                         </td><td>0.0                         </td><td>0.0                         </td><td>0.0                         </td><td>0.0                         </td><td>0.0                         </td><td>0.0                         </td><td>0.0                         </td><td>0.0                         </td><td>0.0                         </td><td>0.0                         </td><td>0.0                         </td><td>0.0                         </td><td>0.0                         </td><td>0.0                         </td><td>0.0                         </td><td>0.0                         </td><td>0.0                         </td><td>0.0                         </td><td>0.0                         </td><td>1.0                            </td><td>0.0                             </td><td>0.0                            </td><td>4.4462401277044235 </td><td>4.356708826689592    </td><td>3.4458740435176063        </td><td>0       </td></tr>\n",
       "<tr><td>7      </td><td>57749.0           </td><td>3.0               </td><td>0.0                 </td><td>0.0                </td><td>1.4028893538259206</td><td>0.0               </td><td>0.0                </td><td>1.0                       </td><td>4.591837               </td><td>49.0                  </td><td>1.0               </td><td>0.0                   </td><td>1.0                    </td><td>4.0                      </td><td>0.0                       </td><td>0.0                              </td><td>4.914893599999999        </td><td>4.3673470000000005          </td><td>5.0                     </td><td>4.8297873             </td><td>4.893617                      </td><td>4.8541665                </td><td>16.0                     </td><td>0.6854568874654811      </td><td>1.0                       </td><td>1.0                      </td><td>7.9144698680218335    </td><td>0.6601338982723994            </td><td>0.9500655087063056           </td><td>2.0                     </td><td>90.0                    </td><td>2.0                            </td><td>91.0                         </td><td>0.0               </td><td>16.0                     </td><td>1.0                  </td><td>0.0                  </td><td>1.0                          </td><td>0.0                          </td><td>0.0                          </td><td>0.0                            </td><td>0.0                           </td><td>0.0                             </td><td>1.0                           </td><td>0.0                           </td><td>0.0                             </td><td>0.0                           </td><td>0.0                             </td><td>0.0                            </td><td>0.0                              </td><td>0.0                            </td><td>0.0                            </td><td>0.0                              </td><td>1.0                            </td><td>0.0                              </td><td>0.0                             </td><td>0.0                               </td><td>0.0                        </td><td>1.0                        </td><td>0.0                        </td><td>0.0                        </td><td>0.0                        </td><td>0.0                        </td><td>0.0                        </td><td>0.0                        </td><td>0.0                        </td><td>0.0                         </td><td>0.0                         </td><td>0.0                         </td><td>0.0                         </td><td>0.0                         </td><td>0.0                         </td><td>0.0                         </td><td>0.0                         </td><td>0.0                         </td><td>0.0                         </td><td>0.0                         </td><td>0.0                         </td><td>0.0                         </td><td>0.0                         </td><td>0.0                         </td><td>0.0                         </td><td>0.0                         </td><td>0.0                         </td><td>0.0                         </td><td>0.0                         </td><td>0.0                         </td><td>0.0                         </td><td>0.0                         </td><td>0.0                         </td><td>0.0                         </td><td>0.0                         </td><td>0.0                         </td><td>0.0                         </td><td>0.0                         </td><td>0.0                         </td><td>0.0                         </td><td>0.0                         </td><td>0.0                         </td><td>0.0                         </td><td>0.0                         </td><td>0.0                         </td><td>0.0                         </td><td>1.0                            </td><td>0.0                             </td><td>0.0                            </td><td>3.738726835848967  </td><td>4.007333185232471    </td><td>1.6008481123093294        </td><td>0       </td></tr>\n",
       "<tr><td>8      </td><td>72950.0           </td><td>1.0               </td><td>0.0                 </td><td>0.0                </td><td>24.23908406023151 </td><td>0.0               </td><td>0.0                </td><td>0.0                       </td><td>4.769231               </td><td>13.0                  </td><td>3.0               </td><td>0.0                   </td><td>2.0                    </td><td>6.0                      </td><td>0.0                       </td><td>0.0                              </td><td>5.0                      </td><td>4.6153846                   </td><td>4.923076999999999       </td><td>4.769231              </td><td>4.6923075                     </td><td>4.923076999999999        </td><td>14.0                     </td><td>0.5769298799687599      </td><td>0.0                       </td><td>0.0                      </td><td>0.0                   </td><td>0.8114367506025689            </td><td>0.9196054670260624           </td><td>2.0                     </td><td>1124.0                  </td><td>4.0                            </td><td>0.0                          </td><td>3.058010871727591 </td><td>7.0                      </td><td>0.0                  </td><td>1.0                  </td><td>0.0                          </td><td>1.0                          </td><td>0.0                          </td><td>0.0                            </td><td>0.0                           </td><td>0.0                             </td><td>0.0                           </td><td>1.0                           </td><td>0.0                             </td><td>0.0                           </td><td>0.0                             </td><td>0.0                            </td><td>0.0                              </td><td>1.0                            </td><td>0.0                            </td><td>0.0                              </td><td>0.0                            </td><td>0.0                              </td><td>0.0                             </td><td>0.0                               </td><td>0.0                        </td><td>0.0                        </td><td>0.0                        </td><td>0.0                        </td><td>0.0                        </td><td>0.0                        </td><td>0.0                        </td><td>0.0                        </td><td>0.0                        </td><td>0.0                         </td><td>0.0                         </td><td>0.0                         </td><td>0.0                         </td><td>0.0                         </td><td>0.0                         </td><td>0.0                         </td><td>0.0                         </td><td>0.0                         </td><td>0.0                         </td><td>0.0                         </td><td>0.0                         </td><td>0.0                         </td><td>1.0                         </td><td>0.0                         </td><td>0.0                         </td><td>0.0                         </td><td>0.0                         </td><td>0.0                         </td><td>0.0                         </td><td>0.0                         </td><td>0.0                         </td><td>0.0                         </td><td>0.0                         </td><td>0.0                         </td><td>0.0                         </td><td>0.0                         </td><td>0.0                         </td><td>0.0                         </td><td>0.0                         </td><td>0.0                         </td><td>0.0                         </td><td>0.0                         </td><td>0.0                         </td><td>0.0                         </td><td>0.0                         </td><td>0.0                         </td><td>1.0                            </td><td>0.0                             </td><td>0.0                            </td><td>3.7662910095495015 </td><td>5.135079745968927    </td><td>0.0                       </td><td>0       </td></tr>\n",
       "<tr><td>9      </td><td>148180.0          </td><td>3.0               </td><td>0.0                 </td><td>0.0                </td><td>2.6359993678715963</td><td>0.0               </td><td>0.0                </td><td>1.0                       </td><td>4.72                   </td><td>15.0                  </td><td>4.0               </td><td>3.0                   </td><td>2.0                    </td><td>5.0                      </td><td>0.0                       </td><td>0.0                              </td><td>5.0                      </td><td>4.923076999999999           </td><td>5.0                     </td><td>4.769231              </td><td>5.0                           </td><td>4.923076999999999        </td><td>2.0                      </td><td>0.504189228182764       </td><td>0.0                       </td><td>0.0                      </td><td>39.59706193939404     </td><td>0.8114367506025689            </td><td>0.9196054670260624           </td><td>2.0                     </td><td>1125.0                  </td><td>4.0                            </td><td>1.0                          </td><td>1.5084428911096464</td><td>2.0                      </td><td>0.0                  </td><td>1.0                  </td><td>0.0                          </td><td>0.0                          </td><td>0.0                          </td><td>1.0                            </td><td>0.0                           </td><td>0.0                             </td><td>1.0                           </td><td>0.0                           </td><td>0.0                             </td><td>0.0                           </td><td>0.0                             </td><td>0.0                            </td><td>0.0                              </td><td>0.0                            </td><td>0.0                            </td><td>0.0                              </td><td>0.0                            </td><td>0.0                              </td><td>1.0                             </td><td>0.0                               </td><td>0.0                        </td><td>1.0                        </td><td>0.0                        </td><td>0.0                        </td><td>0.0                        </td><td>0.0                        </td><td>0.0                        </td><td>0.0                        </td><td>0.0                        </td><td>0.0                         </td><td>0.0                         </td><td>0.0                         </td><td>0.0                         </td><td>0.0                         </td><td>0.0                         </td><td>0.0                         </td><td>0.0                         </td><td>0.0                         </td><td>0.0                         </td><td>0.0                         </td><td>0.0                         </td><td>0.0                         </td><td>0.0                         </td><td>0.0                         </td><td>0.0                         </td><td>0.0                         </td><td>0.0                         </td><td>0.0                         </td><td>0.0                         </td><td>0.0                         </td><td>0.0                         </td><td>0.0                         </td><td>0.0                         </td><td>0.0                         </td><td>0.0                         </td><td>0.0                         </td><td>0.0                         </td><td>0.0                         </td><td>0.0                         </td><td>0.0                         </td><td>0.0                         </td><td>0.0                         </td><td>0.0                         </td><td>0.0                         </td><td>0.0                         </td><td>0.0                         </td><td>1.0                            </td><td>0.0                             </td><td>0.0                            </td><td>4.663466225307875  </td><td>6.042660158209485    </td><td>2.388695400253366         </td><td>0       </td></tr>\n",
       "</tbody>\n",
       "</table>"
      ]
     },
     "metadata": {},
     "output_type": "display_data"
    }
   ],
   "source": [
    "x = X_train.columns.tolist()\n",
    "X_y_train_h = h2o.H2OFrame(pd.concat([X_train, y_train], axis='columns'))\n",
    "X_y_train_h['booked'] = X_y_train_h['booked'].asfactor()\n",
    "\n",
    "X_y_test_h = h2o.H2OFrame(pd.concat([X_test, y_test], axis='columns'))\n",
    "X_y_train_h.describe()"
   ]
  },
  {
   "cell_type": "code",
   "execution_count": 4125,
   "metadata": {},
   "outputs": [
    {
     "name": "stdout",
     "output_type": "stream",
     "text": [
      "AutoML progress: |████████████████████████████████████████████████████████| 100%\n"
     ]
    },
    {
     "data": {
      "text/html": [
       "<table>\n",
       "<thead>\n",
       "<tr><th>model_id                                           </th><th style=\"text-align: right;\">  logloss</th><th style=\"text-align: right;\">     auc</th><th style=\"text-align: right;\">   aucpr</th><th style=\"text-align: right;\">  mean_per_class_error</th><th style=\"text-align: right;\">    rmse</th><th style=\"text-align: right;\">      mse</th></tr>\n",
       "</thead>\n",
       "<tbody>\n",
       "<tr><td>StackedEnsemble_AllModels_AutoML_20210325_233034   </td><td style=\"text-align: right;\"> 0.121844</td><td style=\"text-align: right;\">0.897859</td><td style=\"text-align: right;\">0.787611</td><td style=\"text-align: right;\">              0.154314</td><td style=\"text-align: right;\">0.163606</td><td style=\"text-align: right;\">0.0267669</td></tr>\n",
       "<tr><td>StackedEnsemble_BestOfFamily_AutoML_20210325_233034</td><td style=\"text-align: right;\"> 0.122612</td><td style=\"text-align: right;\">0.897968</td><td style=\"text-align: right;\">0.787019</td><td style=\"text-align: right;\">              0.154733</td><td style=\"text-align: right;\">0.164293</td><td style=\"text-align: right;\">0.0269923</td></tr>\n",
       "<tr><td>GBM_4_AutoML_20210325_233034                       </td><td style=\"text-align: right;\"> 0.140589</td><td style=\"text-align: right;\">0.887192</td><td style=\"text-align: right;\">0.778689</td><td style=\"text-align: right;\">              0.154991</td><td style=\"text-align: right;\">0.168322</td><td style=\"text-align: right;\">0.0283324</td></tr>\n",
       "<tr><td>GBM_grid__1_AutoML_20210325_233034_model_4         </td><td style=\"text-align: right;\"> 0.140678</td><td style=\"text-align: right;\">0.88841 </td><td style=\"text-align: right;\">0.782913</td><td style=\"text-align: right;\">              0.154459</td><td style=\"text-align: right;\">0.164916</td><td style=\"text-align: right;\">0.0271972</td></tr>\n",
       "<tr><td>GBM_3_AutoML_20210325_233034                       </td><td style=\"text-align: right;\"> 0.142548</td><td style=\"text-align: right;\">0.883521</td><td style=\"text-align: right;\">0.775868</td><td style=\"text-align: right;\">              0.156468</td><td style=\"text-align: right;\">0.17241 </td><td style=\"text-align: right;\">0.0297253</td></tr>\n",
       "<tr><td>GBM_grid__1_AutoML_20210325_233034_model_10        </td><td style=\"text-align: right;\"> 0.143039</td><td style=\"text-align: right;\">0.883234</td><td style=\"text-align: right;\">0.773234</td><td style=\"text-align: right;\">              0.156491</td><td style=\"text-align: right;\">0.173178</td><td style=\"text-align: right;\">0.0299908</td></tr>\n",
       "<tr><td>GBM_2_AutoML_20210325_233034                       </td><td style=\"text-align: right;\"> 0.144275</td><td style=\"text-align: right;\">0.88075 </td><td style=\"text-align: right;\">0.774766</td><td style=\"text-align: right;\">              0.155658</td><td style=\"text-align: right;\">0.173871</td><td style=\"text-align: right;\">0.0302311</td></tr>\n",
       "<tr><td>GBM_grid__1_AutoML_20210325_233034_model_2         </td><td style=\"text-align: right;\"> 0.144414</td><td style=\"text-align: right;\">0.879653</td><td style=\"text-align: right;\">0.773908</td><td style=\"text-align: right;\">              0.154474</td><td style=\"text-align: right;\">0.168712</td><td style=\"text-align: right;\">0.0284639</td></tr>\n",
       "<tr><td>GBM_grid__1_AutoML_20210325_233034_model_9         </td><td style=\"text-align: right;\"> 0.145872</td><td style=\"text-align: right;\">0.88462 </td><td style=\"text-align: right;\">0.779958</td><td style=\"text-align: right;\">              0.154147</td><td style=\"text-align: right;\">0.168192</td><td style=\"text-align: right;\">0.0282885</td></tr>\n",
       "<tr><td>GBM_5_AutoML_20210325_233034                       </td><td style=\"text-align: right;\"> 0.146702</td><td style=\"text-align: right;\">0.879871</td><td style=\"text-align: right;\">0.773762</td><td style=\"text-align: right;\">              0.154335</td><td style=\"text-align: right;\">0.173673</td><td style=\"text-align: right;\">0.0301622</td></tr>\n",
       "<tr><td>GBM_1_AutoML_20210325_233034                       </td><td style=\"text-align: right;\"> 0.146997</td><td style=\"text-align: right;\">0.882852</td><td style=\"text-align: right;\">0.766053</td><td style=\"text-align: right;\">              0.158023</td><td style=\"text-align: right;\">0.180248</td><td style=\"text-align: right;\">0.0324895</td></tr>\n",
       "<tr><td>XGBoost_grid__1_AutoML_20210325_233034_model_5     </td><td style=\"text-align: right;\"> 0.148571</td><td style=\"text-align: right;\">0.876078</td><td style=\"text-align: right;\">0.773943</td><td style=\"text-align: right;\">              0.159779</td><td style=\"text-align: right;\">0.180007</td><td style=\"text-align: right;\">0.0324027</td></tr>\n",
       "<tr><td>GBM_grid__1_AutoML_20210325_233034_model_7         </td><td style=\"text-align: right;\"> 0.151242</td><td style=\"text-align: right;\">0.877622</td><td style=\"text-align: right;\">0.775767</td><td style=\"text-align: right;\">              0.155302</td><td style=\"text-align: right;\">0.17221 </td><td style=\"text-align: right;\">0.0296562</td></tr>\n",
       "<tr><td>XGBoost_grid__1_AutoML_20210325_233034_model_4     </td><td style=\"text-align: right;\"> 0.153499</td><td style=\"text-align: right;\">0.878672</td><td style=\"text-align: right;\">0.76769 </td><td style=\"text-align: right;\">              0.158952</td><td style=\"text-align: right;\">0.179139</td><td style=\"text-align: right;\">0.0320908</td></tr>\n",
       "<tr><td>XGBoost_grid__1_AutoML_20210325_233034_model_2     </td><td style=\"text-align: right;\"> 0.154695</td><td style=\"text-align: right;\">0.876804</td><td style=\"text-align: right;\">0.770517</td><td style=\"text-align: right;\">              0.161727</td><td style=\"text-align: right;\">0.178242</td><td style=\"text-align: right;\">0.0317703</td></tr>\n",
       "<tr><td>XGBoost_1_AutoML_20210325_233034                   </td><td style=\"text-align: right;\"> 0.158744</td><td style=\"text-align: right;\">0.875606</td><td style=\"text-align: right;\">0.762845</td><td style=\"text-align: right;\">              0.159052</td><td style=\"text-align: right;\">0.179047</td><td style=\"text-align: right;\">0.0320579</td></tr>\n",
       "<tr><td>XGBoost_grid__1_AutoML_20210325_233034_model_1     </td><td style=\"text-align: right;\"> 0.160464</td><td style=\"text-align: right;\">0.874665</td><td style=\"text-align: right;\">0.757976</td><td style=\"text-align: right;\">              0.168524</td><td style=\"text-align: right;\">0.185258</td><td style=\"text-align: right;\">0.0343205</td></tr>\n",
       "<tr><td>XGBoost_3_AutoML_20210325_233034                   </td><td style=\"text-align: right;\"> 0.162239</td><td style=\"text-align: right;\">0.869622</td><td style=\"text-align: right;\">0.755238</td><td style=\"text-align: right;\">              0.16387 </td><td style=\"text-align: right;\">0.183866</td><td style=\"text-align: right;\">0.0338068</td></tr>\n",
       "<tr><td>DRF_1_AutoML_20210325_233034                       </td><td style=\"text-align: right;\"> 0.163019</td><td style=\"text-align: right;\">0.894748</td><td style=\"text-align: right;\">0.780736</td><td style=\"text-align: right;\">              0.158553</td><td style=\"text-align: right;\">0.194573</td><td style=\"text-align: right;\">0.0378588</td></tr>\n",
       "<tr><td>GBM_grid__1_AutoML_20210325_233034_model_11        </td><td style=\"text-align: right;\"> 0.163047</td><td style=\"text-align: right;\">0.883961</td><td style=\"text-align: right;\">0.753751</td><td style=\"text-align: right;\">              0.183124</td><td style=\"text-align: right;\">0.200559</td><td style=\"text-align: right;\">0.0402237</td></tr>\n",
       "<tr><td>XGBoost_2_AutoML_20210325_233034                   </td><td style=\"text-align: right;\"> 0.163413</td><td style=\"text-align: right;\">0.869157</td><td style=\"text-align: right;\">0.757803</td><td style=\"text-align: right;\">              0.161414</td><td style=\"text-align: right;\">0.184952</td><td style=\"text-align: right;\">0.0342074</td></tr>\n",
       "<tr><td>XGBoost_grid__1_AutoML_20210325_233034_model_6     </td><td style=\"text-align: right;\"> 0.16767 </td><td style=\"text-align: right;\">0.875029</td><td style=\"text-align: right;\">0.739836</td><td style=\"text-align: right;\">              0.182932</td><td style=\"text-align: right;\">0.200502</td><td style=\"text-align: right;\">0.040201 </td></tr>\n",
       "<tr><td>XGBoost_grid__1_AutoML_20210325_233034_model_7     </td><td style=\"text-align: right;\"> 0.176233</td><td style=\"text-align: right;\">0.868761</td><td style=\"text-align: right;\">0.710866</td><td style=\"text-align: right;\">              0.198489</td><td style=\"text-align: right;\">0.208514</td><td style=\"text-align: right;\">0.0434782</td></tr>\n",
       "<tr><td>GBM_grid__1_AutoML_20210325_233034_model_1         </td><td style=\"text-align: right;\"> 0.180663</td><td style=\"text-align: right;\">0.86403 </td><td style=\"text-align: right;\">0.702642</td><td style=\"text-align: right;\">              0.207294</td><td style=\"text-align: right;\">0.212609</td><td style=\"text-align: right;\">0.0452028</td></tr>\n",
       "<tr><td>XGBoost_grid__1_AutoML_20210325_233034_model_3     </td><td style=\"text-align: right;\"> 0.183155</td><td style=\"text-align: right;\">0.86479 </td><td style=\"text-align: right;\">0.694627</td><td style=\"text-align: right;\">              0.209804</td><td style=\"text-align: right;\">0.214673</td><td style=\"text-align: right;\">0.0460845</td></tr>\n",
       "<tr><td>XRT_1_AutoML_20210325_233034                       </td><td style=\"text-align: right;\"> 0.198674</td><td style=\"text-align: right;\">0.884993</td><td style=\"text-align: right;\">0.767848</td><td style=\"text-align: right;\">              0.168973</td><td style=\"text-align: right;\">0.220688</td><td style=\"text-align: right;\">0.0487031</td></tr>\n",
       "<tr><td>GBM_grid__1_AutoML_20210325_233034_model_6         </td><td style=\"text-align: right;\"> 0.209165</td><td style=\"text-align: right;\">0.854969</td><td style=\"text-align: right;\">0.612648</td><td style=\"text-align: right;\">              0.240779</td><td style=\"text-align: right;\">0.237683</td><td style=\"text-align: right;\">0.0564932</td></tr>\n",
       "<tr><td>GBM_grid__1_AutoML_20210325_233034_model_8         </td><td style=\"text-align: right;\"> 0.214789</td><td style=\"text-align: right;\">0.838379</td><td style=\"text-align: right;\">0.560886</td><td style=\"text-align: right;\">              0.268278</td><td style=\"text-align: right;\">0.240495</td><td style=\"text-align: right;\">0.0578377</td></tr>\n",
       "<tr><td>GBM_grid__1_AutoML_20210325_233034_model_12        </td><td style=\"text-align: right;\"> 0.214902</td><td style=\"text-align: right;\">0.843634</td><td style=\"text-align: right;\">0.579519</td><td style=\"text-align: right;\">              0.268258</td><td style=\"text-align: right;\">0.240877</td><td style=\"text-align: right;\">0.0580217</td></tr>\n",
       "<tr><td>GBM_grid__1_AutoML_20210325_233034_model_3         </td><td style=\"text-align: right;\"> 0.216808</td><td style=\"text-align: right;\">0.836838</td><td style=\"text-align: right;\">0.559385</td><td style=\"text-align: right;\">              0.276243</td><td style=\"text-align: right;\">0.242068</td><td style=\"text-align: right;\">0.058597 </td></tr>\n",
       "<tr><td>GBM_grid__1_AutoML_20210325_233034_model_5         </td><td style=\"text-align: right;\"> 0.222949</td><td style=\"text-align: right;\">0.834869</td><td style=\"text-align: right;\">0.549111</td><td style=\"text-align: right;\">              0.278185</td><td style=\"text-align: right;\">0.246361</td><td style=\"text-align: right;\">0.0606937</td></tr>\n",
       "<tr><td>GLM_1_AutoML_20210325_233034                       </td><td style=\"text-align: right;\"> 0.287145</td><td style=\"text-align: right;\">0.658491</td><td style=\"text-align: right;\">0.148729</td><td style=\"text-align: right;\">              0.389841</td><td style=\"text-align: right;\">0.279866</td><td style=\"text-align: right;\">0.078325 </td></tr>\n",
       "<tr><td>DeepLearning_1_AutoML_20210325_233034              </td><td style=\"text-align: right;\"> 0.298261</td><td style=\"text-align: right;\">0.64279 </td><td style=\"text-align: right;\">0.16938 </td><td style=\"text-align: right;\">              0.402632</td><td style=\"text-align: right;\">0.283343</td><td style=\"text-align: right;\">0.0802832</td></tr>\n",
       "</tbody>\n",
       "</table>"
      ]
     },
     "metadata": {},
     "output_type": "display_data"
    },
    {
     "data": {
      "text/plain": []
     },
     "execution_count": 4125,
     "metadata": {},
     "output_type": "execute_result"
    }
   ],
   "source": [
    "aml = H2OAutoML(\n",
    "    max_runtime_secs=(3600 * 1),  # 1 hours\n",
    "    max_models=None,  # no limit\n",
    "    seed=17,\n",
    "    keep_cross_validation_predictions = True,\n",
    "    keep_cross_validation_fold_assignment = True,\n",
    "    sort_metric = \"logloss\"\n",
    ")\n",
    "aml.train(x=x, y=\"booked\", training_frame=X_y_train_h)\n",
    "lb = aml.leaderboard\n",
    "lb.head(rows=lb.nrows) "
   ]
  },
  {
   "cell_type": "code",
   "execution_count": 4126,
   "metadata": {},
   "outputs": [
    {
     "name": "stdout",
     "output_type": "stream",
     "text": [
      "Model Details\n",
      "=============\n",
      "H2OStackedEnsembleEstimator :  Stacked Ensemble\n",
      "Model Key:  StackedEnsemble_AllModels_AutoML_20210325_233034\n",
      "\n",
      "No model summary for this model\n",
      "\n",
      "ModelMetricsBinomialGLM: stackedensemble\n",
      "** Reported on train data. **\n",
      "\n",
      "MSE: 0.0005368551689642924\n",
      "RMSE: 0.02317013528152765\n",
      "LogLoss: 0.022166150584943124\n",
      "Null degrees of freedom: 10021\n",
      "Residual degrees of freedom: 10007\n",
      "Null deviance: 5812.106178792043\n",
      "Residual deviance: 444.2983223246001\n",
      "AIC: 474.2983223246001\n",
      "AUC: 1.0\n",
      "AUCPR: 1.0\n",
      "Gini: 1.0\n",
      "\n",
      "Confusion Matrix (Act/Pred) for max f1 @ threshold = 0.8189088918672589: \n"
     ]
    },
    {
     "data": {
      "text/html": [
       "<div>\n",
       "<style scoped>\n",
       "    .dataframe tbody tr th:only-of-type {\n",
       "        vertical-align: middle;\n",
       "    }\n",
       "\n",
       "    .dataframe tbody tr th {\n",
       "        vertical-align: top;\n",
       "    }\n",
       "\n",
       "    .dataframe thead th {\n",
       "        text-align: right;\n",
       "    }\n",
       "</style>\n",
       "<table border=\"1\" class=\"dataframe\">\n",
       "  <thead>\n",
       "    <tr style=\"text-align: right;\">\n",
       "      <th></th>\n",
       "      <th></th>\n",
       "      <th>0</th>\n",
       "      <th>1</th>\n",
       "      <th>Error</th>\n",
       "      <th>Rate</th>\n",
       "    </tr>\n",
       "  </thead>\n",
       "  <tbody>\n",
       "    <tr>\n",
       "      <th>0</th>\n",
       "      <td>0</td>\n",
       "      <td>9174.0</td>\n",
       "      <td>0.0</td>\n",
       "      <td>0.0</td>\n",
       "      <td>(0.0/9174.0)</td>\n",
       "    </tr>\n",
       "    <tr>\n",
       "      <th>1</th>\n",
       "      <td>1</td>\n",
       "      <td>0.0</td>\n",
       "      <td>848.0</td>\n",
       "      <td>0.0</td>\n",
       "      <td>(0.0/848.0)</td>\n",
       "    </tr>\n",
       "    <tr>\n",
       "      <th>2</th>\n",
       "      <td>Total</td>\n",
       "      <td>9174.0</td>\n",
       "      <td>848.0</td>\n",
       "      <td>0.0</td>\n",
       "      <td>(0.0/10022.0)</td>\n",
       "    </tr>\n",
       "  </tbody>\n",
       "</table>\n",
       "</div>"
      ],
      "text/plain": [
       "               0      1 Error            Rate\n",
       "0      0  9174.0    0.0   0.0    (0.0/9174.0)\n",
       "1      1     0.0  848.0   0.0     (0.0/848.0)\n",
       "2  Total  9174.0  848.0   0.0   (0.0/10022.0)"
      ]
     },
     "metadata": {},
     "output_type": "display_data"
    },
    {
     "name": "stdout",
     "output_type": "stream",
     "text": [
      "\n",
      "Maximum Metrics: Maximum metrics at their respective thresholds\n"
     ]
    },
    {
     "data": {
      "text/html": [
       "<div>\n",
       "<style scoped>\n",
       "    .dataframe tbody tr th:only-of-type {\n",
       "        vertical-align: middle;\n",
       "    }\n",
       "\n",
       "    .dataframe tbody tr th {\n",
       "        vertical-align: top;\n",
       "    }\n",
       "\n",
       "    .dataframe thead th {\n",
       "        text-align: right;\n",
       "    }\n",
       "</style>\n",
       "<table border=\"1\" class=\"dataframe\">\n",
       "  <thead>\n",
       "    <tr style=\"text-align: right;\">\n",
       "      <th></th>\n",
       "      <th>metric</th>\n",
       "      <th>threshold</th>\n",
       "      <th>value</th>\n",
       "      <th>idx</th>\n",
       "    </tr>\n",
       "  </thead>\n",
       "  <tbody>\n",
       "    <tr>\n",
       "      <th>0</th>\n",
       "      <td>max f1</td>\n",
       "      <td>0.818909</td>\n",
       "      <td>1.000000</td>\n",
       "      <td>126.0</td>\n",
       "    </tr>\n",
       "    <tr>\n",
       "      <th>1</th>\n",
       "      <td>max f2</td>\n",
       "      <td>0.818909</td>\n",
       "      <td>1.000000</td>\n",
       "      <td>126.0</td>\n",
       "    </tr>\n",
       "    <tr>\n",
       "      <th>2</th>\n",
       "      <td>max f0point5</td>\n",
       "      <td>0.818909</td>\n",
       "      <td>1.000000</td>\n",
       "      <td>126.0</td>\n",
       "    </tr>\n",
       "    <tr>\n",
       "      <th>3</th>\n",
       "      <td>max accuracy</td>\n",
       "      <td>0.818909</td>\n",
       "      <td>1.000000</td>\n",
       "      <td>126.0</td>\n",
       "    </tr>\n",
       "    <tr>\n",
       "      <th>4</th>\n",
       "      <td>max precision</td>\n",
       "      <td>0.999263</td>\n",
       "      <td>1.000000</td>\n",
       "      <td>0.0</td>\n",
       "    </tr>\n",
       "    <tr>\n",
       "      <th>5</th>\n",
       "      <td>max recall</td>\n",
       "      <td>0.818909</td>\n",
       "      <td>1.000000</td>\n",
       "      <td>126.0</td>\n",
       "    </tr>\n",
       "    <tr>\n",
       "      <th>6</th>\n",
       "      <td>max specificity</td>\n",
       "      <td>0.999263</td>\n",
       "      <td>1.000000</td>\n",
       "      <td>0.0</td>\n",
       "    </tr>\n",
       "    <tr>\n",
       "      <th>7</th>\n",
       "      <td>max absolute_mcc</td>\n",
       "      <td>0.818909</td>\n",
       "      <td>1.000000</td>\n",
       "      <td>126.0</td>\n",
       "    </tr>\n",
       "    <tr>\n",
       "      <th>8</th>\n",
       "      <td>max min_per_class_accuracy</td>\n",
       "      <td>0.818909</td>\n",
       "      <td>1.000000</td>\n",
       "      <td>126.0</td>\n",
       "    </tr>\n",
       "    <tr>\n",
       "      <th>9</th>\n",
       "      <td>max mean_per_class_accuracy</td>\n",
       "      <td>0.818909</td>\n",
       "      <td>1.000000</td>\n",
       "      <td>126.0</td>\n",
       "    </tr>\n",
       "    <tr>\n",
       "      <th>10</th>\n",
       "      <td>max tns</td>\n",
       "      <td>0.999263</td>\n",
       "      <td>9174.000000</td>\n",
       "      <td>0.0</td>\n",
       "    </tr>\n",
       "    <tr>\n",
       "      <th>11</th>\n",
       "      <td>max fns</td>\n",
       "      <td>0.999263</td>\n",
       "      <td>838.000000</td>\n",
       "      <td>0.0</td>\n",
       "    </tr>\n",
       "    <tr>\n",
       "      <th>12</th>\n",
       "      <td>max fps</td>\n",
       "      <td>0.015920</td>\n",
       "      <td>9174.000000</td>\n",
       "      <td>399.0</td>\n",
       "    </tr>\n",
       "    <tr>\n",
       "      <th>13</th>\n",
       "      <td>max tps</td>\n",
       "      <td>0.818909</td>\n",
       "      <td>848.000000</td>\n",
       "      <td>126.0</td>\n",
       "    </tr>\n",
       "    <tr>\n",
       "      <th>14</th>\n",
       "      <td>max tnr</td>\n",
       "      <td>0.999263</td>\n",
       "      <td>1.000000</td>\n",
       "      <td>0.0</td>\n",
       "    </tr>\n",
       "    <tr>\n",
       "      <th>15</th>\n",
       "      <td>max fnr</td>\n",
       "      <td>0.999263</td>\n",
       "      <td>0.988208</td>\n",
       "      <td>0.0</td>\n",
       "    </tr>\n",
       "    <tr>\n",
       "      <th>16</th>\n",
       "      <td>max fpr</td>\n",
       "      <td>0.015920</td>\n",
       "      <td>1.000000</td>\n",
       "      <td>399.0</td>\n",
       "    </tr>\n",
       "    <tr>\n",
       "      <th>17</th>\n",
       "      <td>max tpr</td>\n",
       "      <td>0.818909</td>\n",
       "      <td>1.000000</td>\n",
       "      <td>126.0</td>\n",
       "    </tr>\n",
       "  </tbody>\n",
       "</table>\n",
       "</div>"
      ],
      "text/plain": [
       "                         metric  threshold        value    idx\n",
       "0                        max f1   0.818909     1.000000  126.0\n",
       "1                        max f2   0.818909     1.000000  126.0\n",
       "2                  max f0point5   0.818909     1.000000  126.0\n",
       "3                  max accuracy   0.818909     1.000000  126.0\n",
       "4                 max precision   0.999263     1.000000    0.0\n",
       "5                    max recall   0.818909     1.000000  126.0\n",
       "6               max specificity   0.999263     1.000000    0.0\n",
       "7              max absolute_mcc   0.818909     1.000000  126.0\n",
       "8    max min_per_class_accuracy   0.818909     1.000000  126.0\n",
       "9   max mean_per_class_accuracy   0.818909     1.000000  126.0\n",
       "10                      max tns   0.999263  9174.000000    0.0\n",
       "11                      max fns   0.999263   838.000000    0.0\n",
       "12                      max fps   0.015920  9174.000000  399.0\n",
       "13                      max tps   0.818909   848.000000  126.0\n",
       "14                      max tnr   0.999263     1.000000    0.0\n",
       "15                      max fnr   0.999263     0.988208    0.0\n",
       "16                      max fpr   0.015920     1.000000  399.0\n",
       "17                      max tpr   0.818909     1.000000  126.0"
      ]
     },
     "metadata": {},
     "output_type": "display_data"
    },
    {
     "name": "stdout",
     "output_type": "stream",
     "text": [
      "\n",
      "Gains/Lift Table: Avg response rate:  8.46 %, avg score: 10.51 %\n"
     ]
    },
    {
     "data": {
      "text/html": [
       "<div>\n",
       "<style scoped>\n",
       "    .dataframe tbody tr th:only-of-type {\n",
       "        vertical-align: middle;\n",
       "    }\n",
       "\n",
       "    .dataframe tbody tr th {\n",
       "        vertical-align: top;\n",
       "    }\n",
       "\n",
       "    .dataframe thead th {\n",
       "        text-align: right;\n",
       "    }\n",
       "</style>\n",
       "<table border=\"1\" class=\"dataframe\">\n",
       "  <thead>\n",
       "    <tr style=\"text-align: right;\">\n",
       "      <th></th>\n",
       "      <th>group</th>\n",
       "      <th>cumulative_data_fraction</th>\n",
       "      <th>lower_threshold</th>\n",
       "      <th>lift</th>\n",
       "      <th>cumulative_lift</th>\n",
       "      <th>response_rate</th>\n",
       "      <th>score</th>\n",
       "      <th>cumulative_response_rate</th>\n",
       "      <th>cumulative_score</th>\n",
       "      <th>capture_rate</th>\n",
       "      <th>cumulative_capture_rate</th>\n",
       "      <th>gain</th>\n",
       "      <th>cumulative_gain</th>\n",
       "      <th>kolmogorov_smirnov</th>\n",
       "    </tr>\n",
       "  </thead>\n",
       "  <tbody>\n",
       "    <tr>\n",
       "      <th>0</th>\n",
       "      <td>1</td>\n",
       "      <td>0.010078</td>\n",
       "      <td>0.998709</td>\n",
       "      <td>11.818396</td>\n",
       "      <td>11.818396</td>\n",
       "      <td>1.000000</td>\n",
       "      <td>0.998954</td>\n",
       "      <td>1.000000</td>\n",
       "      <td>0.998954</td>\n",
       "      <td>0.119104</td>\n",
       "      <td>0.119104</td>\n",
       "      <td>1081.839623</td>\n",
       "      <td>1081.839623</td>\n",
       "      <td>0.119104</td>\n",
       "    </tr>\n",
       "    <tr>\n",
       "      <th>1</th>\n",
       "      <td>2</td>\n",
       "      <td>0.020056</td>\n",
       "      <td>0.998133</td>\n",
       "      <td>11.818396</td>\n",
       "      <td>11.818396</td>\n",
       "      <td>1.000000</td>\n",
       "      <td>0.998444</td>\n",
       "      <td>1.000000</td>\n",
       "      <td>0.998700</td>\n",
       "      <td>0.117925</td>\n",
       "      <td>0.237028</td>\n",
       "      <td>1081.839623</td>\n",
       "      <td>1081.839623</td>\n",
       "      <td>0.237028</td>\n",
       "    </tr>\n",
       "    <tr>\n",
       "      <th>2</th>\n",
       "      <td>3</td>\n",
       "      <td>0.030034</td>\n",
       "      <td>0.997715</td>\n",
       "      <td>11.818396</td>\n",
       "      <td>11.818396</td>\n",
       "      <td>1.000000</td>\n",
       "      <td>0.997949</td>\n",
       "      <td>1.000000</td>\n",
       "      <td>0.998451</td>\n",
       "      <td>0.117925</td>\n",
       "      <td>0.354953</td>\n",
       "      <td>1081.839623</td>\n",
       "      <td>1081.839623</td>\n",
       "      <td>0.354953</td>\n",
       "    </tr>\n",
       "    <tr>\n",
       "      <th>3</th>\n",
       "      <td>4</td>\n",
       "      <td>0.040112</td>\n",
       "      <td>0.996854</td>\n",
       "      <td>11.818396</td>\n",
       "      <td>11.818396</td>\n",
       "      <td>1.000000</td>\n",
       "      <td>0.997332</td>\n",
       "      <td>1.000000</td>\n",
       "      <td>0.998170</td>\n",
       "      <td>0.119104</td>\n",
       "      <td>0.474057</td>\n",
       "      <td>1081.839623</td>\n",
       "      <td>1081.839623</td>\n",
       "      <td>0.474057</td>\n",
       "    </tr>\n",
       "    <tr>\n",
       "      <th>4</th>\n",
       "      <td>5</td>\n",
       "      <td>0.050090</td>\n",
       "      <td>0.995746</td>\n",
       "      <td>11.818396</td>\n",
       "      <td>11.818396</td>\n",
       "      <td>1.000000</td>\n",
       "      <td>0.996326</td>\n",
       "      <td>1.000000</td>\n",
       "      <td>0.997802</td>\n",
       "      <td>0.117925</td>\n",
       "      <td>0.591981</td>\n",
       "      <td>1081.839623</td>\n",
       "      <td>1081.839623</td>\n",
       "      <td>0.591981</td>\n",
       "    </tr>\n",
       "    <tr>\n",
       "      <th>5</th>\n",
       "      <td>6</td>\n",
       "      <td>0.100080</td>\n",
       "      <td>0.037612</td>\n",
       "      <td>8.162006</td>\n",
       "      <td>9.992024</td>\n",
       "      <td>0.690619</td>\n",
       "      <td>0.693187</td>\n",
       "      <td>0.845464</td>\n",
       "      <td>0.845646</td>\n",
       "      <td>0.408019</td>\n",
       "      <td>1.000000</td>\n",
       "      <td>716.200618</td>\n",
       "      <td>899.202393</td>\n",
       "      <td>0.983104</td>\n",
       "    </tr>\n",
       "    <tr>\n",
       "      <th>6</th>\n",
       "      <td>7</td>\n",
       "      <td>0.150070</td>\n",
       "      <td>0.030802</td>\n",
       "      <td>0.000000</td>\n",
       "      <td>6.663564</td>\n",
       "      <td>0.000000</td>\n",
       "      <td>0.033247</td>\n",
       "      <td>0.563830</td>\n",
       "      <td>0.575027</td>\n",
       "      <td>0.000000</td>\n",
       "      <td>1.000000</td>\n",
       "      <td>-100.000000</td>\n",
       "      <td>566.356383</td>\n",
       "      <td>0.928494</td>\n",
       "    </tr>\n",
       "    <tr>\n",
       "      <th>7</th>\n",
       "      <td>8</td>\n",
       "      <td>0.200060</td>\n",
       "      <td>0.028154</td>\n",
       "      <td>0.000000</td>\n",
       "      <td>4.998504</td>\n",
       "      <td>0.000000</td>\n",
       "      <td>0.029344</td>\n",
       "      <td>0.422943</td>\n",
       "      <td>0.438674</td>\n",
       "      <td>0.000000</td>\n",
       "      <td>1.000000</td>\n",
       "      <td>-100.000000</td>\n",
       "      <td>399.850374</td>\n",
       "      <td>0.873883</td>\n",
       "    </tr>\n",
       "    <tr>\n",
       "      <th>8</th>\n",
       "      <td>9</td>\n",
       "      <td>0.300040</td>\n",
       "      <td>0.025511</td>\n",
       "      <td>0.000000</td>\n",
       "      <td>3.332890</td>\n",
       "      <td>0.000000</td>\n",
       "      <td>0.026705</td>\n",
       "      <td>0.282009</td>\n",
       "      <td>0.301397</td>\n",
       "      <td>0.000000</td>\n",
       "      <td>1.000000</td>\n",
       "      <td>-100.000000</td>\n",
       "      <td>233.288992</td>\n",
       "      <td>0.764661</td>\n",
       "    </tr>\n",
       "    <tr>\n",
       "      <th>9</th>\n",
       "      <td>10</td>\n",
       "      <td>0.400020</td>\n",
       "      <td>0.023913</td>\n",
       "      <td>0.000000</td>\n",
       "      <td>2.499875</td>\n",
       "      <td>0.000000</td>\n",
       "      <td>0.024683</td>\n",
       "      <td>0.211524</td>\n",
       "      <td>0.232236</td>\n",
       "      <td>0.000000</td>\n",
       "      <td>1.000000</td>\n",
       "      <td>-100.000000</td>\n",
       "      <td>149.987528</td>\n",
       "      <td>0.655439</td>\n",
       "    </tr>\n",
       "    <tr>\n",
       "      <th>10</th>\n",
       "      <td>11</td>\n",
       "      <td>0.500000</td>\n",
       "      <td>0.022525</td>\n",
       "      <td>0.000000</td>\n",
       "      <td>2.000000</td>\n",
       "      <td>0.000000</td>\n",
       "      <td>0.023188</td>\n",
       "      <td>0.169228</td>\n",
       "      <td>0.190434</td>\n",
       "      <td>0.000000</td>\n",
       "      <td>1.000000</td>\n",
       "      <td>-100.000000</td>\n",
       "      <td>100.000000</td>\n",
       "      <td>0.546218</td>\n",
       "    </tr>\n",
       "    <tr>\n",
       "      <th>11</th>\n",
       "      <td>12</td>\n",
       "      <td>0.599980</td>\n",
       "      <td>0.021376</td>\n",
       "      <td>0.000000</td>\n",
       "      <td>1.666722</td>\n",
       "      <td>0.000000</td>\n",
       "      <td>0.021943</td>\n",
       "      <td>0.141028</td>\n",
       "      <td>0.162357</td>\n",
       "      <td>0.000000</td>\n",
       "      <td>1.000000</td>\n",
       "      <td>-100.000000</td>\n",
       "      <td>66.672210</td>\n",
       "      <td>0.436996</td>\n",
       "    </tr>\n",
       "    <tr>\n",
       "      <th>12</th>\n",
       "      <td>13</td>\n",
       "      <td>0.700060</td>\n",
       "      <td>0.020356</td>\n",
       "      <td>0.000000</td>\n",
       "      <td>1.428449</td>\n",
       "      <td>0.000000</td>\n",
       "      <td>0.020872</td>\n",
       "      <td>0.120867</td>\n",
       "      <td>0.142131</td>\n",
       "      <td>0.000000</td>\n",
       "      <td>1.000000</td>\n",
       "      <td>-100.000000</td>\n",
       "      <td>42.844926</td>\n",
       "      <td>0.327665</td>\n",
       "    </tr>\n",
       "    <tr>\n",
       "      <th>13</th>\n",
       "      <td>14</td>\n",
       "      <td>0.799940</td>\n",
       "      <td>0.019396</td>\n",
       "      <td>0.000000</td>\n",
       "      <td>1.250094</td>\n",
       "      <td>0.000000</td>\n",
       "      <td>0.019866</td>\n",
       "      <td>0.105775</td>\n",
       "      <td>0.126865</td>\n",
       "      <td>0.000000</td>\n",
       "      <td>1.000000</td>\n",
       "      <td>-100.000000</td>\n",
       "      <td>25.009355</td>\n",
       "      <td>0.218552</td>\n",
       "    </tr>\n",
       "    <tr>\n",
       "      <th>14</th>\n",
       "      <td>15</td>\n",
       "      <td>0.899920</td>\n",
       "      <td>0.018369</td>\n",
       "      <td>0.000000</td>\n",
       "      <td>1.111210</td>\n",
       "      <td>0.000000</td>\n",
       "      <td>0.018900</td>\n",
       "      <td>0.094024</td>\n",
       "      <td>0.114870</td>\n",
       "      <td>0.000000</td>\n",
       "      <td>1.000000</td>\n",
       "      <td>-100.000000</td>\n",
       "      <td>11.120967</td>\n",
       "      <td>0.109331</td>\n",
       "    </tr>\n",
       "    <tr>\n",
       "      <th>15</th>\n",
       "      <td>16</td>\n",
       "      <td>1.000000</td>\n",
       "      <td>0.015920</td>\n",
       "      <td>0.000000</td>\n",
       "      <td>1.000000</td>\n",
       "      <td>0.000000</td>\n",
       "      <td>0.017663</td>\n",
       "      <td>0.084614</td>\n",
       "      <td>0.105142</td>\n",
       "      <td>0.000000</td>\n",
       "      <td>1.000000</td>\n",
       "      <td>-100.000000</td>\n",
       "      <td>0.000000</td>\n",
       "      <td>0.000000</td>\n",
       "    </tr>\n",
       "  </tbody>\n",
       "</table>\n",
       "</div>"
      ],
      "text/plain": [
       "    group  cumulative_data_fraction  lower_threshold       lift  \\\n",
       "0       1                  0.010078         0.998709  11.818396   \n",
       "1       2                  0.020056         0.998133  11.818396   \n",
       "2       3                  0.030034         0.997715  11.818396   \n",
       "3       4                  0.040112         0.996854  11.818396   \n",
       "4       5                  0.050090         0.995746  11.818396   \n",
       "5       6                  0.100080         0.037612   8.162006   \n",
       "6       7                  0.150070         0.030802   0.000000   \n",
       "7       8                  0.200060         0.028154   0.000000   \n",
       "8       9                  0.300040         0.025511   0.000000   \n",
       "9      10                  0.400020         0.023913   0.000000   \n",
       "10     11                  0.500000         0.022525   0.000000   \n",
       "11     12                  0.599980         0.021376   0.000000   \n",
       "12     13                  0.700060         0.020356   0.000000   \n",
       "13     14                  0.799940         0.019396   0.000000   \n",
       "14     15                  0.899920         0.018369   0.000000   \n",
       "15     16                  1.000000         0.015920   0.000000   \n",
       "\n",
       "    cumulative_lift  response_rate     score  cumulative_response_rate  \\\n",
       "0         11.818396       1.000000  0.998954                  1.000000   \n",
       "1         11.818396       1.000000  0.998444                  1.000000   \n",
       "2         11.818396       1.000000  0.997949                  1.000000   \n",
       "3         11.818396       1.000000  0.997332                  1.000000   \n",
       "4         11.818396       1.000000  0.996326                  1.000000   \n",
       "5          9.992024       0.690619  0.693187                  0.845464   \n",
       "6          6.663564       0.000000  0.033247                  0.563830   \n",
       "7          4.998504       0.000000  0.029344                  0.422943   \n",
       "8          3.332890       0.000000  0.026705                  0.282009   \n",
       "9          2.499875       0.000000  0.024683                  0.211524   \n",
       "10         2.000000       0.000000  0.023188                  0.169228   \n",
       "11         1.666722       0.000000  0.021943                  0.141028   \n",
       "12         1.428449       0.000000  0.020872                  0.120867   \n",
       "13         1.250094       0.000000  0.019866                  0.105775   \n",
       "14         1.111210       0.000000  0.018900                  0.094024   \n",
       "15         1.000000       0.000000  0.017663                  0.084614   \n",
       "\n",
       "    cumulative_score  capture_rate  cumulative_capture_rate         gain  \\\n",
       "0           0.998954      0.119104                 0.119104  1081.839623   \n",
       "1           0.998700      0.117925                 0.237028  1081.839623   \n",
       "2           0.998451      0.117925                 0.354953  1081.839623   \n",
       "3           0.998170      0.119104                 0.474057  1081.839623   \n",
       "4           0.997802      0.117925                 0.591981  1081.839623   \n",
       "5           0.845646      0.408019                 1.000000   716.200618   \n",
       "6           0.575027      0.000000                 1.000000  -100.000000   \n",
       "7           0.438674      0.000000                 1.000000  -100.000000   \n",
       "8           0.301397      0.000000                 1.000000  -100.000000   \n",
       "9           0.232236      0.000000                 1.000000  -100.000000   \n",
       "10          0.190434      0.000000                 1.000000  -100.000000   \n",
       "11          0.162357      0.000000                 1.000000  -100.000000   \n",
       "12          0.142131      0.000000                 1.000000  -100.000000   \n",
       "13          0.126865      0.000000                 1.000000  -100.000000   \n",
       "14          0.114870      0.000000                 1.000000  -100.000000   \n",
       "15          0.105142      0.000000                 1.000000  -100.000000   \n",
       "\n",
       "    cumulative_gain  kolmogorov_smirnov  \n",
       "0       1081.839623            0.119104  \n",
       "1       1081.839623            0.237028  \n",
       "2       1081.839623            0.354953  \n",
       "3       1081.839623            0.474057  \n",
       "4       1081.839623            0.591981  \n",
       "5        899.202393            0.983104  \n",
       "6        566.356383            0.928494  \n",
       "7        399.850374            0.873883  \n",
       "8        233.288992            0.764661  \n",
       "9        149.987528            0.655439  \n",
       "10       100.000000            0.546218  \n",
       "11        66.672210            0.436996  \n",
       "12        42.844926            0.327665  \n",
       "13        25.009355            0.218552  \n",
       "14        11.120967            0.109331  \n",
       "15         0.000000            0.000000  "
      ]
     },
     "metadata": {},
     "output_type": "display_data"
    },
    {
     "name": "stdout",
     "output_type": "stream",
     "text": [
      "\n",
      "\n",
      "ModelMetricsBinomialGLM: stackedensemble\n",
      "** Reported on cross-validation data. **\n",
      "\n",
      "MSE: 0.02676693293075311\n",
      "RMSE: 0.16360602962835175\n",
      "LogLoss: 0.12184356012773448\n",
      "Null degrees of freedom: 24072\n",
      "Residual degrees of freedom: 24057\n",
      "Null deviance: 14340.964349605048\n",
      "Residual deviance: 5866.280045909904\n",
      "AIC: 5898.280045909904\n",
      "AUC: 0.8978592468197784\n",
      "AUCPR: 0.7876108232432837\n",
      "Gini: 0.7957184936395567\n",
      "\n",
      "Confusion Matrix (Act/Pred) for max f1 @ threshold = 0.8560870368835501: \n"
     ]
    },
    {
     "data": {
      "text/html": [
       "<div>\n",
       "<style scoped>\n",
       "    .dataframe tbody tr th:only-of-type {\n",
       "        vertical-align: middle;\n",
       "    }\n",
       "\n",
       "    .dataframe tbody tr th {\n",
       "        vertical-align: top;\n",
       "    }\n",
       "\n",
       "    .dataframe thead th {\n",
       "        text-align: right;\n",
       "    }\n",
       "</style>\n",
       "<table border=\"1\" class=\"dataframe\">\n",
       "  <thead>\n",
       "    <tr style=\"text-align: right;\">\n",
       "      <th></th>\n",
       "      <th></th>\n",
       "      <th>0</th>\n",
       "      <th>1</th>\n",
       "      <th>Error</th>\n",
       "      <th>Rate</th>\n",
       "    </tr>\n",
       "  </thead>\n",
       "  <tbody>\n",
       "    <tr>\n",
       "      <th>0</th>\n",
       "      <td>0</td>\n",
       "      <td>21948.0</td>\n",
       "      <td>7.0</td>\n",
       "      <td>0.0003</td>\n",
       "      <td>(7.0/21955.0)</td>\n",
       "    </tr>\n",
       "    <tr>\n",
       "      <th>1</th>\n",
       "      <td>1</td>\n",
       "      <td>653.0</td>\n",
       "      <td>1465.0</td>\n",
       "      <td>0.3083</td>\n",
       "      <td>(653.0/2118.0)</td>\n",
       "    </tr>\n",
       "    <tr>\n",
       "      <th>2</th>\n",
       "      <td>Total</td>\n",
       "      <td>22601.0</td>\n",
       "      <td>1472.0</td>\n",
       "      <td>0.0274</td>\n",
       "      <td>(660.0/24073.0)</td>\n",
       "    </tr>\n",
       "  </tbody>\n",
       "</table>\n",
       "</div>"
      ],
      "text/plain": [
       "                0       1   Error              Rate\n",
       "0      0  21948.0     7.0  0.0003     (7.0/21955.0)\n",
       "1      1    653.0  1465.0  0.3083    (653.0/2118.0)\n",
       "2  Total  22601.0  1472.0  0.0274   (660.0/24073.0)"
      ]
     },
     "metadata": {},
     "output_type": "display_data"
    },
    {
     "name": "stdout",
     "output_type": "stream",
     "text": [
      "\n",
      "Maximum Metrics: Maximum metrics at their respective thresholds\n"
     ]
    },
    {
     "data": {
      "text/html": [
       "<div>\n",
       "<style scoped>\n",
       "    .dataframe tbody tr th:only-of-type {\n",
       "        vertical-align: middle;\n",
       "    }\n",
       "\n",
       "    .dataframe tbody tr th {\n",
       "        vertical-align: top;\n",
       "    }\n",
       "\n",
       "    .dataframe thead th {\n",
       "        text-align: right;\n",
       "    }\n",
       "</style>\n",
       "<table border=\"1\" class=\"dataframe\">\n",
       "  <thead>\n",
       "    <tr style=\"text-align: right;\">\n",
       "      <th></th>\n",
       "      <th>metric</th>\n",
       "      <th>threshold</th>\n",
       "      <th>value</th>\n",
       "      <th>idx</th>\n",
       "    </tr>\n",
       "  </thead>\n",
       "  <tbody>\n",
       "    <tr>\n",
       "      <th>0</th>\n",
       "      <td>max f1</td>\n",
       "      <td>0.856087</td>\n",
       "      <td>0.816156</td>\n",
       "      <td>81.0</td>\n",
       "    </tr>\n",
       "    <tr>\n",
       "      <th>1</th>\n",
       "      <td>max f2</td>\n",
       "      <td>0.689671</td>\n",
       "      <td>0.736757</td>\n",
       "      <td>86.0</td>\n",
       "    </tr>\n",
       "    <tr>\n",
       "      <th>2</th>\n",
       "      <td>max f0point5</td>\n",
       "      <td>0.856087</td>\n",
       "      <td>0.914939</td>\n",
       "      <td>81.0</td>\n",
       "    </tr>\n",
       "    <tr>\n",
       "      <th>3</th>\n",
       "      <td>max accuracy</td>\n",
       "      <td>0.856087</td>\n",
       "      <td>0.972583</td>\n",
       "      <td>81.0</td>\n",
       "    </tr>\n",
       "    <tr>\n",
       "      <th>4</th>\n",
       "      <td>max precision</td>\n",
       "      <td>0.999059</td>\n",
       "      <td>1.000000</td>\n",
       "      <td>0.0</td>\n",
       "    </tr>\n",
       "    <tr>\n",
       "      <th>5</th>\n",
       "      <td>max recall</td>\n",
       "      <td>0.017145</td>\n",
       "      <td>1.000000</td>\n",
       "      <td>397.0</td>\n",
       "    </tr>\n",
       "    <tr>\n",
       "      <th>6</th>\n",
       "      <td>max specificity</td>\n",
       "      <td>0.999059</td>\n",
       "      <td>1.000000</td>\n",
       "      <td>0.0</td>\n",
       "    </tr>\n",
       "    <tr>\n",
       "      <th>7</th>\n",
       "      <td>max absolute_mcc</td>\n",
       "      <td>0.856087</td>\n",
       "      <td>0.817379</td>\n",
       "      <td>81.0</td>\n",
       "    </tr>\n",
       "    <tr>\n",
       "      <th>8</th>\n",
       "      <td>max min_per_class_accuracy</td>\n",
       "      <td>0.032751</td>\n",
       "      <td>0.815392</td>\n",
       "      <td>297.0</td>\n",
       "    </tr>\n",
       "    <tr>\n",
       "      <th>9</th>\n",
       "      <td>max mean_per_class_accuracy</td>\n",
       "      <td>0.428413</td>\n",
       "      <td>0.845847</td>\n",
       "      <td>102.0</td>\n",
       "    </tr>\n",
       "    <tr>\n",
       "      <th>10</th>\n",
       "      <td>max tns</td>\n",
       "      <td>0.999059</td>\n",
       "      <td>21955.000000</td>\n",
       "      <td>0.0</td>\n",
       "    </tr>\n",
       "    <tr>\n",
       "      <th>11</th>\n",
       "      <td>max fns</td>\n",
       "      <td>0.999059</td>\n",
       "      <td>2048.000000</td>\n",
       "      <td>0.0</td>\n",
       "    </tr>\n",
       "    <tr>\n",
       "      <th>12</th>\n",
       "      <td>max fps</td>\n",
       "      <td>0.016648</td>\n",
       "      <td>21955.000000</td>\n",
       "      <td>399.0</td>\n",
       "    </tr>\n",
       "    <tr>\n",
       "      <th>13</th>\n",
       "      <td>max tps</td>\n",
       "      <td>0.017145</td>\n",
       "      <td>2118.000000</td>\n",
       "      <td>397.0</td>\n",
       "    </tr>\n",
       "    <tr>\n",
       "      <th>14</th>\n",
       "      <td>max tnr</td>\n",
       "      <td>0.999059</td>\n",
       "      <td>1.000000</td>\n",
       "      <td>0.0</td>\n",
       "    </tr>\n",
       "    <tr>\n",
       "      <th>15</th>\n",
       "      <td>max fnr</td>\n",
       "      <td>0.999059</td>\n",
       "      <td>0.966950</td>\n",
       "      <td>0.0</td>\n",
       "    </tr>\n",
       "    <tr>\n",
       "      <th>16</th>\n",
       "      <td>max fpr</td>\n",
       "      <td>0.016648</td>\n",
       "      <td>1.000000</td>\n",
       "      <td>399.0</td>\n",
       "    </tr>\n",
       "    <tr>\n",
       "      <th>17</th>\n",
       "      <td>max tpr</td>\n",
       "      <td>0.017145</td>\n",
       "      <td>1.000000</td>\n",
       "      <td>397.0</td>\n",
       "    </tr>\n",
       "  </tbody>\n",
       "</table>\n",
       "</div>"
      ],
      "text/plain": [
       "                         metric  threshold         value    idx\n",
       "0                        max f1   0.856087      0.816156   81.0\n",
       "1                        max f2   0.689671      0.736757   86.0\n",
       "2                  max f0point5   0.856087      0.914939   81.0\n",
       "3                  max accuracy   0.856087      0.972583   81.0\n",
       "4                 max precision   0.999059      1.000000    0.0\n",
       "5                    max recall   0.017145      1.000000  397.0\n",
       "6               max specificity   0.999059      1.000000    0.0\n",
       "7              max absolute_mcc   0.856087      0.817379   81.0\n",
       "8    max min_per_class_accuracy   0.032751      0.815392  297.0\n",
       "9   max mean_per_class_accuracy   0.428413      0.845847  102.0\n",
       "10                      max tns   0.999059  21955.000000    0.0\n",
       "11                      max fns   0.999059   2048.000000    0.0\n",
       "12                      max fps   0.016648  21955.000000  399.0\n",
       "13                      max tps   0.017145   2118.000000  397.0\n",
       "14                      max tnr   0.999059      1.000000    0.0\n",
       "15                      max fnr   0.999059      0.966950    0.0\n",
       "16                      max fpr   0.016648      1.000000  399.0\n",
       "17                      max tpr   0.017145      1.000000  397.0"
      ]
     },
     "metadata": {},
     "output_type": "display_data"
    },
    {
     "name": "stdout",
     "output_type": "stream",
     "text": [
      "\n",
      "Gains/Lift Table: Avg response rate:  8.80 %, avg score:  8.80 %\n"
     ]
    },
    {
     "data": {
      "text/html": [
       "<div>\n",
       "<style scoped>\n",
       "    .dataframe tbody tr th:only-of-type {\n",
       "        vertical-align: middle;\n",
       "    }\n",
       "\n",
       "    .dataframe tbody tr th {\n",
       "        vertical-align: top;\n",
       "    }\n",
       "\n",
       "    .dataframe thead th {\n",
       "        text-align: right;\n",
       "    }\n",
       "</style>\n",
       "<table border=\"1\" class=\"dataframe\">\n",
       "  <thead>\n",
       "    <tr style=\"text-align: right;\">\n",
       "      <th></th>\n",
       "      <th>group</th>\n",
       "      <th>cumulative_data_fraction</th>\n",
       "      <th>lower_threshold</th>\n",
       "      <th>lift</th>\n",
       "      <th>cumulative_lift</th>\n",
       "      <th>response_rate</th>\n",
       "      <th>score</th>\n",
       "      <th>cumulative_response_rate</th>\n",
       "      <th>cumulative_score</th>\n",
       "      <th>capture_rate</th>\n",
       "      <th>cumulative_capture_rate</th>\n",
       "      <th>gain</th>\n",
       "      <th>cumulative_gain</th>\n",
       "      <th>kolmogorov_smirnov</th>\n",
       "    </tr>\n",
       "  </thead>\n",
       "  <tbody>\n",
       "    <tr>\n",
       "      <th>0</th>\n",
       "      <td>1</td>\n",
       "      <td>0.010011</td>\n",
       "      <td>0.997987</td>\n",
       "      <td>11.365911</td>\n",
       "      <td>11.365911</td>\n",
       "      <td>1.000000</td>\n",
       "      <td>0.998640</td>\n",
       "      <td>1.000000</td>\n",
       "      <td>0.998640</td>\n",
       "      <td>0.113787</td>\n",
       "      <td>0.113787</td>\n",
       "      <td>1036.591124</td>\n",
       "      <td>1036.591124</td>\n",
       "      <td>0.113787</td>\n",
       "    </tr>\n",
       "    <tr>\n",
       "      <th>1</th>\n",
       "      <td>2</td>\n",
       "      <td>0.020022</td>\n",
       "      <td>0.996700</td>\n",
       "      <td>11.365911</td>\n",
       "      <td>11.365911</td>\n",
       "      <td>1.000000</td>\n",
       "      <td>0.997436</td>\n",
       "      <td>1.000000</td>\n",
       "      <td>0.998038</td>\n",
       "      <td>0.113787</td>\n",
       "      <td>0.227573</td>\n",
       "      <td>1036.591124</td>\n",
       "      <td>1036.591124</td>\n",
       "      <td>0.227573</td>\n",
       "    </tr>\n",
       "    <tr>\n",
       "      <th>2</th>\n",
       "      <td>3</td>\n",
       "      <td>0.030034</td>\n",
       "      <td>0.994572</td>\n",
       "      <td>11.365911</td>\n",
       "      <td>11.365911</td>\n",
       "      <td>1.000000</td>\n",
       "      <td>0.995739</td>\n",
       "      <td>1.000000</td>\n",
       "      <td>0.997272</td>\n",
       "      <td>0.113787</td>\n",
       "      <td>0.341360</td>\n",
       "      <td>1036.591124</td>\n",
       "      <td>1036.591124</td>\n",
       "      <td>0.341360</td>\n",
       "    </tr>\n",
       "    <tr>\n",
       "      <th>3</th>\n",
       "      <td>4</td>\n",
       "      <td>0.040003</td>\n",
       "      <td>0.990135</td>\n",
       "      <td>11.365911</td>\n",
       "      <td>11.365911</td>\n",
       "      <td>1.000000</td>\n",
       "      <td>0.992394</td>\n",
       "      <td>1.000000</td>\n",
       "      <td>0.996056</td>\n",
       "      <td>0.113314</td>\n",
       "      <td>0.454674</td>\n",
       "      <td>1036.591124</td>\n",
       "      <td>1036.591124</td>\n",
       "      <td>0.454674</td>\n",
       "    </tr>\n",
       "    <tr>\n",
       "      <th>4</th>\n",
       "      <td>5</td>\n",
       "      <td>0.050015</td>\n",
       "      <td>0.981297</td>\n",
       "      <td>11.365911</td>\n",
       "      <td>11.365911</td>\n",
       "      <td>1.000000</td>\n",
       "      <td>0.986214</td>\n",
       "      <td>1.000000</td>\n",
       "      <td>0.994086</td>\n",
       "      <td>0.113787</td>\n",
       "      <td>0.568461</td>\n",
       "      <td>1036.591124</td>\n",
       "      <td>1036.591124</td>\n",
       "      <td>0.568461</td>\n",
       "    </tr>\n",
       "    <tr>\n",
       "      <th>5</th>\n",
       "      <td>6</td>\n",
       "      <td>0.100029</td>\n",
       "      <td>0.054080</td>\n",
       "      <td>3.086921</td>\n",
       "      <td>7.226416</td>\n",
       "      <td>0.271595</td>\n",
       "      <td>0.292914</td>\n",
       "      <td>0.635797</td>\n",
       "      <td>0.643500</td>\n",
       "      <td>0.154391</td>\n",
       "      <td>0.722852</td>\n",
       "      <td>208.692108</td>\n",
       "      <td>622.641616</td>\n",
       "      <td>0.682906</td>\n",
       "    </tr>\n",
       "    <tr>\n",
       "      <th>6</th>\n",
       "      <td>7</td>\n",
       "      <td>0.150002</td>\n",
       "      <td>0.040489</td>\n",
       "      <td>0.746390</td>\n",
       "      <td>5.067604</td>\n",
       "      <td>0.065669</td>\n",
       "      <td>0.045765</td>\n",
       "      <td>0.445860</td>\n",
       "      <td>0.444365</td>\n",
       "      <td>0.037299</td>\n",
       "      <td>0.760151</td>\n",
       "      <td>-25.361015</td>\n",
       "      <td>406.760374</td>\n",
       "      <td>0.669010</td>\n",
       "    </tr>\n",
       "    <tr>\n",
       "      <th>7</th>\n",
       "      <td>8</td>\n",
       "      <td>0.200017</td>\n",
       "      <td>0.035010</td>\n",
       "      <td>0.698569</td>\n",
       "      <td>3.975118</td>\n",
       "      <td>0.061462</td>\n",
       "      <td>0.037428</td>\n",
       "      <td>0.349740</td>\n",
       "      <td>0.342610</td>\n",
       "      <td>0.034939</td>\n",
       "      <td>0.795090</td>\n",
       "      <td>-30.143070</td>\n",
       "      <td>297.511828</td>\n",
       "      <td>0.652480</td>\n",
       "    </tr>\n",
       "    <tr>\n",
       "      <th>8</th>\n",
       "      <td>9</td>\n",
       "      <td>0.300004</td>\n",
       "      <td>0.030029</td>\n",
       "      <td>0.462758</td>\n",
       "      <td>2.804494</td>\n",
       "      <td>0.040715</td>\n",
       "      <td>0.032207</td>\n",
       "      <td>0.246746</td>\n",
       "      <td>0.239157</td>\n",
       "      <td>0.046270</td>\n",
       "      <td>0.841360</td>\n",
       "      <td>-53.724167</td>\n",
       "      <td>180.449374</td>\n",
       "      <td>0.593580</td>\n",
       "    </tr>\n",
       "    <tr>\n",
       "      <th>9</th>\n",
       "      <td>10</td>\n",
       "      <td>0.399992</td>\n",
       "      <td>0.027249</td>\n",
       "      <td>0.406094</td>\n",
       "      <td>2.204956</td>\n",
       "      <td>0.035729</td>\n",
       "      <td>0.028550</td>\n",
       "      <td>0.193997</td>\n",
       "      <td>0.186510</td>\n",
       "      <td>0.040604</td>\n",
       "      <td>0.881964</td>\n",
       "      <td>-59.390595</td>\n",
       "      <td>120.495609</td>\n",
       "      <td>0.528468</td>\n",
       "    </tr>\n",
       "    <tr>\n",
       "      <th>10</th>\n",
       "      <td>11</td>\n",
       "      <td>0.500021</td>\n",
       "      <td>0.025256</td>\n",
       "      <td>0.325684</td>\n",
       "      <td>1.829008</td>\n",
       "      <td>0.028654</td>\n",
       "      <td>0.026180</td>\n",
       "      <td>0.160920</td>\n",
       "      <td>0.154436</td>\n",
       "      <td>0.032578</td>\n",
       "      <td>0.914542</td>\n",
       "      <td>-67.431567</td>\n",
       "      <td>82.900806</td>\n",
       "      <td>0.454510</td>\n",
       "    </tr>\n",
       "    <tr>\n",
       "      <th>11</th>\n",
       "      <td>12</td>\n",
       "      <td>0.600008</td>\n",
       "      <td>0.023660</td>\n",
       "      <td>0.193603</td>\n",
       "      <td>1.556478</td>\n",
       "      <td>0.017034</td>\n",
       "      <td>0.024431</td>\n",
       "      <td>0.136943</td>\n",
       "      <td>0.132772</td>\n",
       "      <td>0.019358</td>\n",
       "      <td>0.933900</td>\n",
       "      <td>-80.639703</td>\n",
       "      <td>55.647829</td>\n",
       "      <td>0.366102</td>\n",
       "    </tr>\n",
       "    <tr>\n",
       "      <th>12</th>\n",
       "      <td>13</td>\n",
       "      <td>0.699996</td>\n",
       "      <td>0.022266</td>\n",
       "      <td>0.188881</td>\n",
       "      <td>1.361130</td>\n",
       "      <td>0.016618</td>\n",
       "      <td>0.022960</td>\n",
       "      <td>0.119756</td>\n",
       "      <td>0.117086</td>\n",
       "      <td>0.018886</td>\n",
       "      <td>0.952786</td>\n",
       "      <td>-81.111905</td>\n",
       "      <td>36.113043</td>\n",
       "      <td>0.277176</td>\n",
       "    </tr>\n",
       "    <tr>\n",
       "      <th>13</th>\n",
       "      <td>14</td>\n",
       "      <td>0.799983</td>\n",
       "      <td>0.020919</td>\n",
       "      <td>0.174715</td>\n",
       "      <td>1.212844</td>\n",
       "      <td>0.015372</td>\n",
       "      <td>0.021596</td>\n",
       "      <td>0.106709</td>\n",
       "      <td>0.105151</td>\n",
       "      <td>0.017469</td>\n",
       "      <td>0.970255</td>\n",
       "      <td>-82.528512</td>\n",
       "      <td>21.284389</td>\n",
       "      <td>0.186698</td>\n",
       "    </tr>\n",
       "    <tr>\n",
       "      <th>14</th>\n",
       "      <td>15</td>\n",
       "      <td>0.899971</td>\n",
       "      <td>0.019488</td>\n",
       "      <td>0.132217</td>\n",
       "      <td>1.092785</td>\n",
       "      <td>0.011633</td>\n",
       "      <td>0.020245</td>\n",
       "      <td>0.096146</td>\n",
       "      <td>0.095718</td>\n",
       "      <td>0.013220</td>\n",
       "      <td>0.983475</td>\n",
       "      <td>-86.778333</td>\n",
       "      <td>9.278528</td>\n",
       "      <td>0.091560</td>\n",
       "    </tr>\n",
       "    <tr>\n",
       "      <th>15</th>\n",
       "      <td>16</td>\n",
       "      <td>1.000000</td>\n",
       "      <td>0.016229</td>\n",
       "      <td>0.165202</td>\n",
       "      <td>1.000000</td>\n",
       "      <td>0.014535</td>\n",
       "      <td>0.018474</td>\n",
       "      <td>0.087982</td>\n",
       "      <td>0.087991</td>\n",
       "      <td>0.016525</td>\n",
       "      <td>1.000000</td>\n",
       "      <td>-83.479780</td>\n",
       "      <td>0.000000</td>\n",
       "      <td>0.000000</td>\n",
       "    </tr>\n",
       "  </tbody>\n",
       "</table>\n",
       "</div>"
      ],
      "text/plain": [
       "    group  cumulative_data_fraction  lower_threshold       lift  \\\n",
       "0       1                  0.010011         0.997987  11.365911   \n",
       "1       2                  0.020022         0.996700  11.365911   \n",
       "2       3                  0.030034         0.994572  11.365911   \n",
       "3       4                  0.040003         0.990135  11.365911   \n",
       "4       5                  0.050015         0.981297  11.365911   \n",
       "5       6                  0.100029         0.054080   3.086921   \n",
       "6       7                  0.150002         0.040489   0.746390   \n",
       "7       8                  0.200017         0.035010   0.698569   \n",
       "8       9                  0.300004         0.030029   0.462758   \n",
       "9      10                  0.399992         0.027249   0.406094   \n",
       "10     11                  0.500021         0.025256   0.325684   \n",
       "11     12                  0.600008         0.023660   0.193603   \n",
       "12     13                  0.699996         0.022266   0.188881   \n",
       "13     14                  0.799983         0.020919   0.174715   \n",
       "14     15                  0.899971         0.019488   0.132217   \n",
       "15     16                  1.000000         0.016229   0.165202   \n",
       "\n",
       "    cumulative_lift  response_rate     score  cumulative_response_rate  \\\n",
       "0         11.365911       1.000000  0.998640                  1.000000   \n",
       "1         11.365911       1.000000  0.997436                  1.000000   \n",
       "2         11.365911       1.000000  0.995739                  1.000000   \n",
       "3         11.365911       1.000000  0.992394                  1.000000   \n",
       "4         11.365911       1.000000  0.986214                  1.000000   \n",
       "5          7.226416       0.271595  0.292914                  0.635797   \n",
       "6          5.067604       0.065669  0.045765                  0.445860   \n",
       "7          3.975118       0.061462  0.037428                  0.349740   \n",
       "8          2.804494       0.040715  0.032207                  0.246746   \n",
       "9          2.204956       0.035729  0.028550                  0.193997   \n",
       "10         1.829008       0.028654  0.026180                  0.160920   \n",
       "11         1.556478       0.017034  0.024431                  0.136943   \n",
       "12         1.361130       0.016618  0.022960                  0.119756   \n",
       "13         1.212844       0.015372  0.021596                  0.106709   \n",
       "14         1.092785       0.011633  0.020245                  0.096146   \n",
       "15         1.000000       0.014535  0.018474                  0.087982   \n",
       "\n",
       "    cumulative_score  capture_rate  cumulative_capture_rate         gain  \\\n",
       "0           0.998640      0.113787                 0.113787  1036.591124   \n",
       "1           0.998038      0.113787                 0.227573  1036.591124   \n",
       "2           0.997272      0.113787                 0.341360  1036.591124   \n",
       "3           0.996056      0.113314                 0.454674  1036.591124   \n",
       "4           0.994086      0.113787                 0.568461  1036.591124   \n",
       "5           0.643500      0.154391                 0.722852   208.692108   \n",
       "6           0.444365      0.037299                 0.760151   -25.361015   \n",
       "7           0.342610      0.034939                 0.795090   -30.143070   \n",
       "8           0.239157      0.046270                 0.841360   -53.724167   \n",
       "9           0.186510      0.040604                 0.881964   -59.390595   \n",
       "10          0.154436      0.032578                 0.914542   -67.431567   \n",
       "11          0.132772      0.019358                 0.933900   -80.639703   \n",
       "12          0.117086      0.018886                 0.952786   -81.111905   \n",
       "13          0.105151      0.017469                 0.970255   -82.528512   \n",
       "14          0.095718      0.013220                 0.983475   -86.778333   \n",
       "15          0.087991      0.016525                 1.000000   -83.479780   \n",
       "\n",
       "    cumulative_gain  kolmogorov_smirnov  \n",
       "0       1036.591124            0.113787  \n",
       "1       1036.591124            0.227573  \n",
       "2       1036.591124            0.341360  \n",
       "3       1036.591124            0.454674  \n",
       "4       1036.591124            0.568461  \n",
       "5        622.641616            0.682906  \n",
       "6        406.760374            0.669010  \n",
       "7        297.511828            0.652480  \n",
       "8        180.449374            0.593580  \n",
       "9        120.495609            0.528468  \n",
       "10        82.900806            0.454510  \n",
       "11        55.647829            0.366102  \n",
       "12        36.113043            0.277176  \n",
       "13        21.284389            0.186698  \n",
       "14         9.278528            0.091560  \n",
       "15         0.000000            0.000000  "
      ]
     },
     "metadata": {},
     "output_type": "display_data"
    },
    {
     "name": "stdout",
     "output_type": "stream",
     "text": [
      "\n"
     ]
    },
    {
     "data": {
      "text/plain": []
     },
     "execution_count": 4126,
     "metadata": {},
     "output_type": "execute_result"
    }
   ],
   "source": [
    "aml.leader"
   ]
  },
  {
   "cell_type": "code",
   "execution_count": 4127,
   "metadata": {},
   "outputs": [
    {
     "name": "stdout",
     "output_type": "stream",
     "text": [
      "stackedensemble prediction progress: |████████████████████████████████████| 100%\n"
     ]
    },
    {
     "data": {
      "text/html": [
       "<table>\n",
       "<thead>\n",
       "<tr><th style=\"text-align: right;\">  predict</th><th style=\"text-align: right;\">      p0</th><th style=\"text-align: right;\">       p1</th></tr>\n",
       "</thead>\n",
       "<tbody>\n",
       "<tr><td style=\"text-align: right;\">        0</td><td style=\"text-align: right;\">0.965465</td><td style=\"text-align: right;\">0.034535 </td></tr>\n",
       "<tr><td style=\"text-align: right;\">        0</td><td style=\"text-align: right;\">0.967733</td><td style=\"text-align: right;\">0.0322666</td></tr>\n",
       "<tr><td style=\"text-align: right;\">        0</td><td style=\"text-align: right;\">0.977654</td><td style=\"text-align: right;\">0.0223456</td></tr>\n",
       "<tr><td style=\"text-align: right;\">        0</td><td style=\"text-align: right;\">0.972699</td><td style=\"text-align: right;\">0.0273013</td></tr>\n",
       "<tr><td style=\"text-align: right;\">        0</td><td style=\"text-align: right;\">0.976422</td><td style=\"text-align: right;\">0.023578 </td></tr>\n",
       "<tr><td style=\"text-align: right;\">        0</td><td style=\"text-align: right;\">0.97845 </td><td style=\"text-align: right;\">0.0215496</td></tr>\n",
       "<tr><td style=\"text-align: right;\">        0</td><td style=\"text-align: right;\">0.976382</td><td style=\"text-align: right;\">0.0236184</td></tr>\n",
       "<tr><td style=\"text-align: right;\">        0</td><td style=\"text-align: right;\">0.973544</td><td style=\"text-align: right;\">0.0264562</td></tr>\n",
       "<tr><td style=\"text-align: right;\">        0</td><td style=\"text-align: right;\">0.974935</td><td style=\"text-align: right;\">0.0250654</td></tr>\n",
       "<tr><td style=\"text-align: right;\">        0</td><td style=\"text-align: right;\">0.969201</td><td style=\"text-align: right;\">0.0307992</td></tr>\n",
       "</tbody>\n",
       "</table>"
      ]
     },
     "metadata": {},
     "output_type": "display_data"
    },
    {
     "data": {
      "text/plain": []
     },
     "execution_count": 4127,
     "metadata": {},
     "output_type": "execute_result"
    }
   ],
   "source": [
    "aml.leader.predict(X_test_h)"
   ]
  },
  {
   "cell_type": "markdown",
   "metadata": {},
   "source": [
    "## H2O Results"
   ]
  },
  {
   "cell_type": "code",
   "execution_count": 4132,
   "metadata": {},
   "outputs": [
    {
     "name": "stdout",
     "output_type": "stream",
     "text": [
      "\n",
      "ModelMetricsBinomialGLM: stackedensemble\n",
      "** Reported on test data. **\n",
      "\n",
      "MSE: 0.07783281807207904\n",
      "RMSE: 0.2789853366614078\n",
      "LogLoss: 0.3074674883972936\n",
      "Null degrees of freedom: 14004\n",
      "Residual degrees of freedom: 13990\n",
      "Null deviance: 8210.770859191129\n",
      "Residual deviance: 8612.164350008194\n",
      "AIC: 8642.164350008194\n",
      "AUC: 0.6513625648536076\n",
      "AUCPR: 0.19818073282532578\n",
      "Gini: 0.3027251297072151\n",
      "\n",
      "Confusion Matrix (Act/Pred) for max f1 @ threshold = 0.039612118937822995: \n"
     ]
    },
    {
     "data": {
      "text/html": [
       "<div>\n",
       "<style scoped>\n",
       "    .dataframe tbody tr th:only-of-type {\n",
       "        vertical-align: middle;\n",
       "    }\n",
       "\n",
       "    .dataframe tbody tr th {\n",
       "        vertical-align: top;\n",
       "    }\n",
       "\n",
       "    .dataframe thead th {\n",
       "        text-align: right;\n",
       "    }\n",
       "</style>\n",
       "<table border=\"1\" class=\"dataframe\">\n",
       "  <thead>\n",
       "    <tr style=\"text-align: right;\">\n",
       "      <th></th>\n",
       "      <th></th>\n",
       "      <th>0</th>\n",
       "      <th>1</th>\n",
       "      <th>Error</th>\n",
       "      <th>Rate</th>\n",
       "    </tr>\n",
       "  </thead>\n",
       "  <tbody>\n",
       "    <tr>\n",
       "      <th>0</th>\n",
       "      <td>0</td>\n",
       "      <td>10841.0</td>\n",
       "      <td>1960.0</td>\n",
       "      <td>0.1531</td>\n",
       "      <td>(1960.0/12801.0)</td>\n",
       "    </tr>\n",
       "    <tr>\n",
       "      <th>1</th>\n",
       "      <td>1</td>\n",
       "      <td>791.0</td>\n",
       "      <td>413.0</td>\n",
       "      <td>0.657</td>\n",
       "      <td>(791.0/1204.0)</td>\n",
       "    </tr>\n",
       "    <tr>\n",
       "      <th>2</th>\n",
       "      <td>Total</td>\n",
       "      <td>11632.0</td>\n",
       "      <td>2373.0</td>\n",
       "      <td>0.1964</td>\n",
       "      <td>(2751.0/14005.0)</td>\n",
       "    </tr>\n",
       "  </tbody>\n",
       "</table>\n",
       "</div>"
      ],
      "text/plain": [
       "                0       1   Error               Rate\n",
       "0      0  10841.0  1960.0  0.1531   (1960.0/12801.0)\n",
       "1      1    791.0   413.0   0.657     (791.0/1204.0)\n",
       "2  Total  11632.0  2373.0  0.1964   (2751.0/14005.0)"
      ]
     },
     "metadata": {},
     "output_type": "display_data"
    },
    {
     "name": "stdout",
     "output_type": "stream",
     "text": [
      "\n",
      "Maximum Metrics: Maximum metrics at their respective thresholds\n"
     ]
    },
    {
     "data": {
      "text/html": [
       "<div>\n",
       "<style scoped>\n",
       "    .dataframe tbody tr th:only-of-type {\n",
       "        vertical-align: middle;\n",
       "    }\n",
       "\n",
       "    .dataframe tbody tr th {\n",
       "        vertical-align: top;\n",
       "    }\n",
       "\n",
       "    .dataframe thead th {\n",
       "        text-align: right;\n",
       "    }\n",
       "</style>\n",
       "<table border=\"1\" class=\"dataframe\">\n",
       "  <thead>\n",
       "    <tr style=\"text-align: right;\">\n",
       "      <th></th>\n",
       "      <th>metric</th>\n",
       "      <th>threshold</th>\n",
       "      <th>value</th>\n",
       "      <th>idx</th>\n",
       "    </tr>\n",
       "  </thead>\n",
       "  <tbody>\n",
       "    <tr>\n",
       "      <th>0</th>\n",
       "      <td>max f1</td>\n",
       "      <td>0.039612</td>\n",
       "      <td>0.230920</td>\n",
       "      <td>234.0</td>\n",
       "    </tr>\n",
       "    <tr>\n",
       "      <th>1</th>\n",
       "      <td>max f2</td>\n",
       "      <td>0.027797</td>\n",
       "      <td>0.352319</td>\n",
       "      <td>311.0</td>\n",
       "    </tr>\n",
       "    <tr>\n",
       "      <th>2</th>\n",
       "      <td>max f0point5</td>\n",
       "      <td>0.069637</td>\n",
       "      <td>0.245828</td>\n",
       "      <td>145.0</td>\n",
       "    </tr>\n",
       "    <tr>\n",
       "      <th>3</th>\n",
       "      <td>max accuracy</td>\n",
       "      <td>0.575280</td>\n",
       "      <td>0.916887</td>\n",
       "      <td>20.0</td>\n",
       "    </tr>\n",
       "    <tr>\n",
       "      <th>4</th>\n",
       "      <td>max precision</td>\n",
       "      <td>0.997465</td>\n",
       "      <td>1.000000</td>\n",
       "      <td>0.0</td>\n",
       "    </tr>\n",
       "    <tr>\n",
       "      <th>5</th>\n",
       "      <td>max recall</td>\n",
       "      <td>0.017272</td>\n",
       "      <td>1.000000</td>\n",
       "      <td>395.0</td>\n",
       "    </tr>\n",
       "    <tr>\n",
       "      <th>6</th>\n",
       "      <td>max specificity</td>\n",
       "      <td>0.997465</td>\n",
       "      <td>1.000000</td>\n",
       "      <td>0.0</td>\n",
       "    </tr>\n",
       "    <tr>\n",
       "      <th>7</th>\n",
       "      <td>max absolute_mcc</td>\n",
       "      <td>0.575280</td>\n",
       "      <td>0.173824</td>\n",
       "      <td>20.0</td>\n",
       "    </tr>\n",
       "    <tr>\n",
       "      <th>8</th>\n",
       "      <td>max min_per_class_accuracy</td>\n",
       "      <td>0.029013</td>\n",
       "      <td>0.609484</td>\n",
       "      <td>300.0</td>\n",
       "    </tr>\n",
       "    <tr>\n",
       "      <th>9</th>\n",
       "      <td>max mean_per_class_accuracy</td>\n",
       "      <td>0.029113</td>\n",
       "      <td>0.610398</td>\n",
       "      <td>299.0</td>\n",
       "    </tr>\n",
       "    <tr>\n",
       "      <th>10</th>\n",
       "      <td>max tns</td>\n",
       "      <td>0.997465</td>\n",
       "      <td>12801.000000</td>\n",
       "      <td>0.0</td>\n",
       "    </tr>\n",
       "    <tr>\n",
       "      <th>11</th>\n",
       "      <td>max fns</td>\n",
       "      <td>0.997465</td>\n",
       "      <td>1196.000000</td>\n",
       "      <td>0.0</td>\n",
       "    </tr>\n",
       "    <tr>\n",
       "      <th>12</th>\n",
       "      <td>max fps</td>\n",
       "      <td>0.016031</td>\n",
       "      <td>12801.000000</td>\n",
       "      <td>399.0</td>\n",
       "    </tr>\n",
       "    <tr>\n",
       "      <th>13</th>\n",
       "      <td>max tps</td>\n",
       "      <td>0.017272</td>\n",
       "      <td>1204.000000</td>\n",
       "      <td>395.0</td>\n",
       "    </tr>\n",
       "    <tr>\n",
       "      <th>14</th>\n",
       "      <td>max tnr</td>\n",
       "      <td>0.997465</td>\n",
       "      <td>1.000000</td>\n",
       "      <td>0.0</td>\n",
       "    </tr>\n",
       "    <tr>\n",
       "      <th>15</th>\n",
       "      <td>max fnr</td>\n",
       "      <td>0.997465</td>\n",
       "      <td>0.993355</td>\n",
       "      <td>0.0</td>\n",
       "    </tr>\n",
       "    <tr>\n",
       "      <th>16</th>\n",
       "      <td>max fpr</td>\n",
       "      <td>0.016031</td>\n",
       "      <td>1.000000</td>\n",
       "      <td>399.0</td>\n",
       "    </tr>\n",
       "    <tr>\n",
       "      <th>17</th>\n",
       "      <td>max tpr</td>\n",
       "      <td>0.017272</td>\n",
       "      <td>1.000000</td>\n",
       "      <td>395.0</td>\n",
       "    </tr>\n",
       "  </tbody>\n",
       "</table>\n",
       "</div>"
      ],
      "text/plain": [
       "                         metric  threshold         value    idx\n",
       "0                        max f1   0.039612      0.230920  234.0\n",
       "1                        max f2   0.027797      0.352319  311.0\n",
       "2                  max f0point5   0.069637      0.245828  145.0\n",
       "3                  max accuracy   0.575280      0.916887   20.0\n",
       "4                 max precision   0.997465      1.000000    0.0\n",
       "5                    max recall   0.017272      1.000000  395.0\n",
       "6               max specificity   0.997465      1.000000    0.0\n",
       "7              max absolute_mcc   0.575280      0.173824   20.0\n",
       "8    max min_per_class_accuracy   0.029013      0.609484  300.0\n",
       "9   max mean_per_class_accuracy   0.029113      0.610398  299.0\n",
       "10                      max tns   0.997465  12801.000000    0.0\n",
       "11                      max fns   0.997465   1196.000000    0.0\n",
       "12                      max fps   0.016031  12801.000000  399.0\n",
       "13                      max tps   0.017272   1204.000000  395.0\n",
       "14                      max tnr   0.997465      1.000000    0.0\n",
       "15                      max fnr   0.997465      0.993355    0.0\n",
       "16                      max fpr   0.016031      1.000000  399.0\n",
       "17                      max tpr   0.017272      1.000000  395.0"
      ]
     },
     "metadata": {},
     "output_type": "display_data"
    },
    {
     "name": "stdout",
     "output_type": "stream",
     "text": [
      "\n",
      "Gains/Lift Table: Avg response rate:  8.60 %, avg score:  3.52 %\n"
     ]
    },
    {
     "data": {
      "text/html": [
       "<div>\n",
       "<style scoped>\n",
       "    .dataframe tbody tr th:only-of-type {\n",
       "        vertical-align: middle;\n",
       "    }\n",
       "\n",
       "    .dataframe tbody tr th {\n",
       "        vertical-align: top;\n",
       "    }\n",
       "\n",
       "    .dataframe thead th {\n",
       "        text-align: right;\n",
       "    }\n",
       "</style>\n",
       "<table border=\"1\" class=\"dataframe\">\n",
       "  <thead>\n",
       "    <tr style=\"text-align: right;\">\n",
       "      <th></th>\n",
       "      <th>group</th>\n",
       "      <th>cumulative_data_fraction</th>\n",
       "      <th>lower_threshold</th>\n",
       "      <th>lift</th>\n",
       "      <th>cumulative_lift</th>\n",
       "      <th>response_rate</th>\n",
       "      <th>score</th>\n",
       "      <th>cumulative_response_rate</th>\n",
       "      <th>cumulative_score</th>\n",
       "      <th>capture_rate</th>\n",
       "      <th>cumulative_capture_rate</th>\n",
       "      <th>gain</th>\n",
       "      <th>cumulative_gain</th>\n",
       "      <th>kolmogorov_smirnov</th>\n",
       "    </tr>\n",
       "  </thead>\n",
       "  <tbody>\n",
       "    <tr>\n",
       "      <th>0</th>\n",
       "      <td>1</td>\n",
       "      <td>0.010211</td>\n",
       "      <td>0.148799</td>\n",
       "      <td>5.612672</td>\n",
       "      <td>5.612672</td>\n",
       "      <td>0.482517</td>\n",
       "      <td>0.454051</td>\n",
       "      <td>0.482517</td>\n",
       "      <td>0.454051</td>\n",
       "      <td>0.057309</td>\n",
       "      <td>0.057309</td>\n",
       "      <td>461.267221</td>\n",
       "      <td>461.267221</td>\n",
       "      <td>0.051528</td>\n",
       "    </tr>\n",
       "    <tr>\n",
       "      <th>1</th>\n",
       "      <td>2</td>\n",
       "      <td>0.020136</td>\n",
       "      <td>0.094966</td>\n",
       "      <td>2.677884</td>\n",
       "      <td>4.166092</td>\n",
       "      <td>0.230216</td>\n",
       "      <td>0.116263</td>\n",
       "      <td>0.358156</td>\n",
       "      <td>0.287553</td>\n",
       "      <td>0.026578</td>\n",
       "      <td>0.083887</td>\n",
       "      <td>167.788427</td>\n",
       "      <td>316.609234</td>\n",
       "      <td>0.069748</td>\n",
       "    </tr>\n",
       "    <tr>\n",
       "      <th>2</th>\n",
       "      <td>3</td>\n",
       "      <td>0.030132</td>\n",
       "      <td>0.076641</td>\n",
       "      <td>2.409498</td>\n",
       "      <td>3.583336</td>\n",
       "      <td>0.207143</td>\n",
       "      <td>0.084829</td>\n",
       "      <td>0.308057</td>\n",
       "      <td>0.220298</td>\n",
       "      <td>0.024086</td>\n",
       "      <td>0.107973</td>\n",
       "      <td>140.949810</td>\n",
       "      <td>258.333596</td>\n",
       "      <td>0.085163</td>\n",
       "    </tr>\n",
       "    <tr>\n",
       "      <th>3</th>\n",
       "      <td>4</td>\n",
       "      <td>0.040057</td>\n",
       "      <td>0.067508</td>\n",
       "      <td>2.928936</td>\n",
       "      <td>3.421194</td>\n",
       "      <td>0.251799</td>\n",
       "      <td>0.072334</td>\n",
       "      <td>0.294118</td>\n",
       "      <td>0.183637</td>\n",
       "      <td>0.029070</td>\n",
       "      <td>0.137043</td>\n",
       "      <td>192.893592</td>\n",
       "      <td>242.119406</td>\n",
       "      <td>0.106108</td>\n",
       "    </tr>\n",
       "    <tr>\n",
       "      <th>4</th>\n",
       "      <td>5</td>\n",
       "      <td>0.050196</td>\n",
       "      <td>0.062006</td>\n",
       "      <td>1.802150</td>\n",
       "      <td>3.094161</td>\n",
       "      <td>0.154930</td>\n",
       "      <td>0.064457</td>\n",
       "      <td>0.266003</td>\n",
       "      <td>0.159564</td>\n",
       "      <td>0.018272</td>\n",
       "      <td>0.155316</td>\n",
       "      <td>80.215011</td>\n",
       "      <td>209.416100</td>\n",
       "      <td>0.115006</td>\n",
       "    </tr>\n",
       "    <tr>\n",
       "      <th>5</th>\n",
       "      <td>6</td>\n",
       "      <td>0.100036</td>\n",
       "      <td>0.047352</td>\n",
       "      <td>1.383182</td>\n",
       "      <td>2.241725</td>\n",
       "      <td>0.118911</td>\n",
       "      <td>0.053111</td>\n",
       "      <td>0.192719</td>\n",
       "      <td>0.106527</td>\n",
       "      <td>0.068937</td>\n",
       "      <td>0.224252</td>\n",
       "      <td>38.318190</td>\n",
       "      <td>124.172459</td>\n",
       "      <td>0.135900</td>\n",
       "    </tr>\n",
       "    <tr>\n",
       "      <th>6</th>\n",
       "      <td>7</td>\n",
       "      <td>0.150018</td>\n",
       "      <td>0.041266</td>\n",
       "      <td>1.628488</td>\n",
       "      <td>2.037410</td>\n",
       "      <td>0.140000</td>\n",
       "      <td>0.044107</td>\n",
       "      <td>0.175155</td>\n",
       "      <td>0.085730</td>\n",
       "      <td>0.081395</td>\n",
       "      <td>0.305648</td>\n",
       "      <td>62.848837</td>\n",
       "      <td>103.740981</td>\n",
       "      <td>0.170268</td>\n",
       "    </tr>\n",
       "    <tr>\n",
       "      <th>7</th>\n",
       "      <td>8</td>\n",
       "      <td>0.200071</td>\n",
       "      <td>0.037283</td>\n",
       "      <td>1.410449</td>\n",
       "      <td>1.880558</td>\n",
       "      <td>0.121255</td>\n",
       "      <td>0.039083</td>\n",
       "      <td>0.161670</td>\n",
       "      <td>0.074060</td>\n",
       "      <td>0.070598</td>\n",
       "      <td>0.376246</td>\n",
       "      <td>41.044948</td>\n",
       "      <td>88.055785</td>\n",
       "      <td>0.192745</td>\n",
       "    </tr>\n",
       "    <tr>\n",
       "      <th>8</th>\n",
       "      <td>9</td>\n",
       "      <td>0.300036</td>\n",
       "      <td>0.032472</td>\n",
       "      <td>1.163206</td>\n",
       "      <td>1.641554</td>\n",
       "      <td>0.100000</td>\n",
       "      <td>0.034670</td>\n",
       "      <td>0.141123</td>\n",
       "      <td>0.060936</td>\n",
       "      <td>0.116279</td>\n",
       "      <td>0.492525</td>\n",
       "      <td>16.320598</td>\n",
       "      <td>64.155437</td>\n",
       "      <td>0.210594</td>\n",
       "    </tr>\n",
       "    <tr>\n",
       "      <th>9</th>\n",
       "      <td>10</td>\n",
       "      <td>0.400000</td>\n",
       "      <td>0.029186</td>\n",
       "      <td>1.096737</td>\n",
       "      <td>1.505399</td>\n",
       "      <td>0.094286</td>\n",
       "      <td>0.030736</td>\n",
       "      <td>0.129418</td>\n",
       "      <td>0.053389</td>\n",
       "      <td>0.109635</td>\n",
       "      <td>0.602159</td>\n",
       "      <td>9.673707</td>\n",
       "      <td>50.539867</td>\n",
       "      <td>0.221174</td>\n",
       "    </tr>\n",
       "    <tr>\n",
       "      <th>10</th>\n",
       "      <td>11</td>\n",
       "      <td>0.500036</td>\n",
       "      <td>0.026735</td>\n",
       "      <td>0.747242</td>\n",
       "      <td>1.353724</td>\n",
       "      <td>0.064240</td>\n",
       "      <td>0.027944</td>\n",
       "      <td>0.116379</td>\n",
       "      <td>0.048299</td>\n",
       "      <td>0.074751</td>\n",
       "      <td>0.676910</td>\n",
       "      <td>-25.275847</td>\n",
       "      <td>35.372394</td>\n",
       "      <td>0.193511</td>\n",
       "    </tr>\n",
       "    <tr>\n",
       "      <th>11</th>\n",
       "      <td>12</td>\n",
       "      <td>0.600071</td>\n",
       "      <td>0.024805</td>\n",
       "      <td>0.788755</td>\n",
       "      <td>1.259540</td>\n",
       "      <td>0.067809</td>\n",
       "      <td>0.025751</td>\n",
       "      <td>0.108282</td>\n",
       "      <td>0.044540</td>\n",
       "      <td>0.078904</td>\n",
       "      <td>0.755814</td>\n",
       "      <td>-21.124505</td>\n",
       "      <td>25.954003</td>\n",
       "      <td>0.170391</td>\n",
       "    </tr>\n",
       "    <tr>\n",
       "      <th>12</th>\n",
       "      <td>13</td>\n",
       "      <td>0.699964</td>\n",
       "      <td>0.023042</td>\n",
       "      <td>0.814826</td>\n",
       "      <td>1.196074</td>\n",
       "      <td>0.070050</td>\n",
       "      <td>0.023907</td>\n",
       "      <td>0.102826</td>\n",
       "      <td>0.041595</td>\n",
       "      <td>0.081395</td>\n",
       "      <td>0.837209</td>\n",
       "      <td>-18.517380</td>\n",
       "      <td>19.607429</td>\n",
       "      <td>0.150154</td>\n",
       "    </tr>\n",
       "    <tr>\n",
       "      <th>13</th>\n",
       "      <td>14</td>\n",
       "      <td>0.800000</td>\n",
       "      <td>0.021369</td>\n",
       "      <td>0.747242</td>\n",
       "      <td>1.139950</td>\n",
       "      <td>0.064240</td>\n",
       "      <td>0.022188</td>\n",
       "      <td>0.098001</td>\n",
       "      <td>0.039169</td>\n",
       "      <td>0.074751</td>\n",
       "      <td>0.911960</td>\n",
       "      <td>-25.275847</td>\n",
       "      <td>13.995017</td>\n",
       "      <td>0.122491</td>\n",
       "    </tr>\n",
       "    <tr>\n",
       "      <th>14</th>\n",
       "      <td>15</td>\n",
       "      <td>0.899964</td>\n",
       "      <td>0.019691</td>\n",
       "      <td>0.540060</td>\n",
       "      <td>1.073317</td>\n",
       "      <td>0.046429</td>\n",
       "      <td>0.020564</td>\n",
       "      <td>0.092272</td>\n",
       "      <td>0.037102</td>\n",
       "      <td>0.053987</td>\n",
       "      <td>0.965947</td>\n",
       "      <td>-45.994008</td>\n",
       "      <td>7.331685</td>\n",
       "      <td>0.072189</td>\n",
       "    </tr>\n",
       "    <tr>\n",
       "      <th>15</th>\n",
       "      <td>16</td>\n",
       "      <td>1.000000</td>\n",
       "      <td>0.015875</td>\n",
       "      <td>0.340410</td>\n",
       "      <td>1.000000</td>\n",
       "      <td>0.029265</td>\n",
       "      <td>0.018530</td>\n",
       "      <td>0.085969</td>\n",
       "      <td>0.035244</td>\n",
       "      <td>0.034053</td>\n",
       "      <td>1.000000</td>\n",
       "      <td>-65.958997</td>\n",
       "      <td>0.000000</td>\n",
       "      <td>0.000000</td>\n",
       "    </tr>\n",
       "  </tbody>\n",
       "</table>\n",
       "</div>"
      ],
      "text/plain": [
       "    group  cumulative_data_fraction  lower_threshold      lift  \\\n",
       "0       1                  0.010211         0.148799  5.612672   \n",
       "1       2                  0.020136         0.094966  2.677884   \n",
       "2       3                  0.030132         0.076641  2.409498   \n",
       "3       4                  0.040057         0.067508  2.928936   \n",
       "4       5                  0.050196         0.062006  1.802150   \n",
       "5       6                  0.100036         0.047352  1.383182   \n",
       "6       7                  0.150018         0.041266  1.628488   \n",
       "7       8                  0.200071         0.037283  1.410449   \n",
       "8       9                  0.300036         0.032472  1.163206   \n",
       "9      10                  0.400000         0.029186  1.096737   \n",
       "10     11                  0.500036         0.026735  0.747242   \n",
       "11     12                  0.600071         0.024805  0.788755   \n",
       "12     13                  0.699964         0.023042  0.814826   \n",
       "13     14                  0.800000         0.021369  0.747242   \n",
       "14     15                  0.899964         0.019691  0.540060   \n",
       "15     16                  1.000000         0.015875  0.340410   \n",
       "\n",
       "    cumulative_lift  response_rate     score  cumulative_response_rate  \\\n",
       "0          5.612672       0.482517  0.454051                  0.482517   \n",
       "1          4.166092       0.230216  0.116263                  0.358156   \n",
       "2          3.583336       0.207143  0.084829                  0.308057   \n",
       "3          3.421194       0.251799  0.072334                  0.294118   \n",
       "4          3.094161       0.154930  0.064457                  0.266003   \n",
       "5          2.241725       0.118911  0.053111                  0.192719   \n",
       "6          2.037410       0.140000  0.044107                  0.175155   \n",
       "7          1.880558       0.121255  0.039083                  0.161670   \n",
       "8          1.641554       0.100000  0.034670                  0.141123   \n",
       "9          1.505399       0.094286  0.030736                  0.129418   \n",
       "10         1.353724       0.064240  0.027944                  0.116379   \n",
       "11         1.259540       0.067809  0.025751                  0.108282   \n",
       "12         1.196074       0.070050  0.023907                  0.102826   \n",
       "13         1.139950       0.064240  0.022188                  0.098001   \n",
       "14         1.073317       0.046429  0.020564                  0.092272   \n",
       "15         1.000000       0.029265  0.018530                  0.085969   \n",
       "\n",
       "    cumulative_score  capture_rate  cumulative_capture_rate        gain  \\\n",
       "0           0.454051      0.057309                 0.057309  461.267221   \n",
       "1           0.287553      0.026578                 0.083887  167.788427   \n",
       "2           0.220298      0.024086                 0.107973  140.949810   \n",
       "3           0.183637      0.029070                 0.137043  192.893592   \n",
       "4           0.159564      0.018272                 0.155316   80.215011   \n",
       "5           0.106527      0.068937                 0.224252   38.318190   \n",
       "6           0.085730      0.081395                 0.305648   62.848837   \n",
       "7           0.074060      0.070598                 0.376246   41.044948   \n",
       "8           0.060936      0.116279                 0.492525   16.320598   \n",
       "9           0.053389      0.109635                 0.602159    9.673707   \n",
       "10          0.048299      0.074751                 0.676910  -25.275847   \n",
       "11          0.044540      0.078904                 0.755814  -21.124505   \n",
       "12          0.041595      0.081395                 0.837209  -18.517380   \n",
       "13          0.039169      0.074751                 0.911960  -25.275847   \n",
       "14          0.037102      0.053987                 0.965947  -45.994008   \n",
       "15          0.035244      0.034053                 1.000000  -65.958997   \n",
       "\n",
       "    cumulative_gain  kolmogorov_smirnov  \n",
       "0        461.267221            0.051528  \n",
       "1        316.609234            0.069748  \n",
       "2        258.333596            0.085163  \n",
       "3        242.119406            0.106108  \n",
       "4        209.416100            0.115006  \n",
       "5        124.172459            0.135900  \n",
       "6        103.740981            0.170268  \n",
       "7         88.055785            0.192745  \n",
       "8         64.155437            0.210594  \n",
       "9         50.539867            0.221174  \n",
       "10        35.372394            0.193511  \n",
       "11        25.954003            0.170391  \n",
       "12        19.607429            0.150154  \n",
       "13        13.995017            0.122491  \n",
       "14         7.331685            0.072189  \n",
       "15         0.000000            0.000000  "
      ]
     },
     "metadata": {},
     "output_type": "display_data"
    },
    {
     "name": "stdout",
     "output_type": "stream",
     "text": [
      "\n"
     ]
    },
    {
     "data": {
      "text/plain": []
     },
     "execution_count": 4132,
     "metadata": {},
     "output_type": "execute_result"
    }
   ],
   "source": [
    "aml.leader.model_performance(X_y_test_h)"
   ]
  },
  {
   "cell_type": "code",
   "execution_count": null,
   "metadata": {},
   "outputs": [],
   "source": [
    "h2o.save_model(aml.leader, path = \"./search_ranking\")"
   ]
  },
  {
   "cell_type": "markdown",
   "metadata": {},
   "source": [
    "### Shallow Neural Networks"
   ]
  },
  {
   "cell_type": "code",
   "execution_count": 4149,
   "metadata": {},
   "outputs": [],
   "source": [
    "\n",
    "def get_model(units, optimizer):\n",
    "    model8 = models.Sequential()\n",
    "    model8.add(layers.Dense(units, input_shape=(X_train.shape[1],), activation='relu'))\n",
    "    model8.add(layers.Dense(1, activation='sigmoid'))\n",
    "    model8.compile(loss='binary_crossentropy', optimizer=optimizer, metrics=[metrics.AUC(name='auc')])\n",
    "\n",
    "    class_weights = class_weight.compute_class_weight('balanced', np.unique(y_train), y_train)\n",
    "\n",
    "    history = model8.fit(X_train, y_train, batch_size=300, epochs=80, verbose=0, class_weight={0:class_weights[0], 1:class_weights[1]})\n",
    "                      #callbacks=[EarlyStopping(monitor='auc',min_delta=0.1)])\n",
    "    return max(history.history['auc'])\n",
    "auc_score = get_model(64, 'adam')"
   ]
  },
  {
   "cell_type": "code",
   "execution_count": null,
   "metadata": {},
   "outputs": [],
   "source": [
    "print(auc_score)"
   ]
  },
  {
   "cell_type": "code",
   "execution_count": null,
   "metadata": {},
   "outputs": [],
   "source": [
    "y_pred8 = model8.predict(X_test)\n",
    "y_pred8 =(y_pred8 >= 0.5)\n",
    "\n",
    "confusion_Matrix = pd.DataFrame(\n",
    "        confusion_matrix(y_test, y_pred8),\n",
    "        columns=['Predicted As No', 'Predicted As Yes'],\n",
    "        index=['True No', 'True Yes'])\n",
    "\n",
    "print(classification_report(y_test, y_pred8))\n",
    "print(confusion_Matrix)"
   ]
  },
  {
   "cell_type": "markdown",
   "metadata": {
    "toc-hr-collapsed": true
   },
   "source": [
    "# Ranking"
   ]
  },
  {
   "cell_type": "markdown",
   "metadata": {},
   "source": [
    "## Create Ranking Table"
   ]
  },
  {
   "cell_type": "markdown",
   "metadata": {},
   "source": [
    "In the final stage I will create a ranking table that can be used to claculate the NDCG."
   ]
  },
  {
   "cell_type": "code",
   "execution_count": null,
   "metadata": {},
   "outputs": [],
   "source": [
    "result = pd.DataFrame({'probility':y_pred1,'booked':booked_list,'clicked':clicked_list, 'contacted': contacted_list, 'id_search': srchid_list})\n",
    "result['position'] = 0\n",
    "result = result.reset_index(0, drop=True)\n",
    "result['score'] = result['clicked']*1 + result['contacted']*3 + result['booked']*5"
   ]
  },
  {
   "cell_type": "code",
   "execution_count": null,
   "metadata": {},
   "outputs": [],
   "source": [
    "rank = result.groupby('id_search', group_keys=False).apply(lambda x: x.sort_values('probility', ascending=False))\n",
    "rank_order = rank.groupby('id_search').head(6).reset_index(drop=True)\n",
    "rank_order['position'] = rank_order.groupby(['id_search'])['position'].rank(method='first').astype(int).astype(str)"
   ]
  },
  {
   "cell_type": "code",
   "execution_count": null,
   "metadata": {},
   "outputs": [],
   "source": [
    "ndgc_input = rank_order.pivot(index='id_search', columns='position', values='score').reset_index()"
   ]
  },
  {
   "cell_type": "markdown",
   "metadata": {},
   "source": [
    "## Evaluate Ranking Performance"
   ]
  },
  {
   "cell_type": "code",
   "execution_count": null,
   "metadata": {},
   "outputs": [],
   "source": [
    "def dcg_at_k(r, k, method=0):\n",
    "    r = np.asfarray(r)[:k]\n",
    "    if r.size:\n",
    "        if method == 0:\n",
    "            return r[0] + np.sum(r[1:] / np.log2(np.arange(2, r.size + 1)))\n",
    "        elif method == 1:\n",
    "            return np.sum(r / np.log2(np.arange(2, r.size + 2)))\n",
    "     \n",
    "    else:\n",
    "            raise ValueError('method must be 0 or 1.')\n",
    "    return 0.\n",
    "\n",
    "def ndcg_at_k(r, k, method=0):\n",
    "    dcg_max = dcg_at_k(sorted(r, reverse=True), k, method)\n",
    "    if not dcg_max:\n",
    "        return 0.\n",
    "    return dcg_at_k(r, k, method) / dcg_max"
   ]
  },
  {
   "cell_type": "code",
   "execution_count": null,
   "metadata": {},
   "outputs": [],
   "source": [
    "ndgc_input['ndcg'] = ndgc_input.iloc[:,1:].apply(lambda x: ndcg_at_k(x, 6), axis=1)\n",
    "score = ndgc_input['ndcg'].mean()\n",
    "score"
   ]
  },
  {
   "cell_type": "markdown",
   "metadata": {
    "toc-hr-collapsed": true
   },
   "source": [
    "# New Listings"
   ]
  },
  {
   "cell_type": "markdown",
   "metadata": {},
   "source": [
    "New listings are negatively correlated to the label.\n",
    "correlations['listing_is_new'] = -0.027\n",
    "\n",
    "There could be multiple approaches to overcome the problem of new listings being underanked, for example looking at the textual information of the listings, such as title, description, amenities \n",
    "and calculate similarities to the users' historic infomation (reviews, information about properties where user stayed and gave a high rating).\n"
   ]
  },
  {
   "cell_type": "markdown",
   "metadata": {
    "toc-hr-collapsed": true
   },
   "source": [
    "# Conclusions and Next Steps"
   ]
  },
  {
   "cell_type": "markdown",
   "metadata": {},
   "source": [
    "When the  model is optimized for production, it should be able to quickly rank the listings-candate in the \n",
    "specific search area according to the probability of booking. If there are too many candidates, first step could be an efficient candidate generation model with focus on high recall and the ranking step on higher precision.\n",
    "\n",
    "## Next Steps\n",
    "\n",
    "1. Utilize all actions not only booked for multiclass classification problem to predict the probability of booking. The resulting probabilities could be weighted according to their importance before the final probability if being calculated.\n",
    "2. Enrich data set with historic user information about his previous actions.\n",
    "3. Enrich data with geo information by utilizing the reverse geocoding or geohashes as neighbohoord information may play an important role in users decision to book.\n",
    "4. Enrich data with historic information of the listings (number of clicked in the last week, month, number of contacts with host)\n",
    "4. Enrich data with temporal information, such as holidays, seasonalty, events, trends.\n",
    "5. Consider processing textual information from user reviews and listing reviews and calculating similarities.\n"
   ]
  }
 ],
 "metadata": {
  "kernelspec": {
   "display_name": "Python 3",
   "language": "python",
   "name": "python3"
  },
  "language_info": {
   "codemirror_mode": {
    "name": "ipython",
    "version": 3
   },
   "file_extension": ".py",
   "mimetype": "text/x-python",
   "name": "python",
   "nbconvert_exporter": "python",
   "pygments_lexer": "ipython3",
   "version": "3.8.8"
  }
 },
 "nbformat": 4,
 "nbformat_minor": 4
}
